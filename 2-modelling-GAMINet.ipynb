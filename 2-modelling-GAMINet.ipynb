{
 "cells": [
  {
   "cell_type": "markdown",
   "id": "3c0fbe93-8665-486f-9b5f-54d4523d9a00",
   "metadata": {},
   "source": [
    "# GAMINet (Yang et al, 2021)"
   ]
  },
  {
   "cell_type": "markdown",
   "id": "bb514e5b-b1ec-4d08-a485-2f26c846a6d3",
   "metadata": {},
   "source": [
    "## Setup"
   ]
  },
  {
   "cell_type": "code",
   "execution_count": 1,
   "id": "6fb946ba-5dbb-4e55-9dc8-aec974788f6f",
   "metadata": {
    "tags": []
   },
   "outputs": [],
   "source": [
    "#!nvidia-smi"
   ]
  },
  {
   "cell_type": "code",
   "execution_count": 2,
   "id": "ba4fbd0b-a489-418e-a362-d0e5b48f6cde",
   "metadata": {
    "tags": []
   },
   "outputs": [],
   "source": [
    "!source ml-env/bin/activate"
   ]
  },
  {
   "cell_type": "code",
   "execution_count": 3,
   "id": "925fdedc-d986-49e7-b1f6-d90377724ad7",
   "metadata": {},
   "outputs": [],
   "source": [
    "import wandb\n",
    "%matplotlib inline\n",
    "\n",
    "import os\n",
    "import json\n",
    "import numpy as np\n",
    "import pandas as pd\n",
    "import tensorflow as tf\n",
    "from sklearn.metrics import mean_squared_error, mean_absolute_error\n",
    "#from sklearn.model_selection import train_test_split\n",
    "from sklearn.preprocessing import MinMaxScaler, StandardScaler\n",
    "\n",
    "from gaminet.gaminet import GAMINet\n",
    "from gaminet.gaminet.utils import local_visualize\n",
    "from gaminet.gaminet.utils import global_visualize_density\n",
    "from gaminet.gaminet.utils import global_visualize_wo_density\n",
    "from gaminet.gaminet.utils import feature_importance_visualize\n",
    "from gaminet.gaminet.utils import plot_regularization\n",
    "from gaminet.gaminet.utils import plot_trajectory"
   ]
  },
  {
   "cell_type": "markdown",
   "id": "9f670db6-581f-442a-aa94-d4835359a00e",
   "metadata": {},
   "source": [
    "### Setup multi-GPU training"
   ]
  },
  {
   "cell_type": "code",
   "execution_count": 4,
   "id": "f14f5076-1c02-4210-aea2-2537c70aa239",
   "metadata": {},
   "outputs": [],
   "source": [
    "#strategy = tf.distribute.MirroredStrategy()\n",
    "#print('Number of devices: %d' % strategy.num_replicas_in_sync)"
   ]
  },
  {
   "cell_type": "code",
   "execution_count": 5,
   "id": "d4e9c50f-f2dc-402e-be8f-c5002f03270c",
   "metadata": {},
   "outputs": [
    {
     "name": "stderr",
     "output_type": "stream",
     "text": [
      "Failed to detect the name of this notebook, you can set it manually with the WANDB_NOTEBOOK_NAME environment variable to enable code saving.\n",
      "\u001b[34m\u001b[1mwandb\u001b[0m: Currently logged in as: \u001b[33mm-janyellow\u001b[0m. Use \u001b[1m`wandb login --relogin`\u001b[0m to force relogin\n"
     ]
    }
   ],
   "source": [
    "wandb.login()\n",
    "root_path =\"./\""
   ]
  },
  {
   "cell_type": "markdown",
   "id": "5768069a-4f37-43a6-8ced-a73eb0153c85",
   "metadata": {},
   "source": [
    "## Data preprocessing and modelling methods"
   ]
  },
  {
   "cell_type": "code",
   "execution_count": 6,
   "id": "8a680fec-5864-4532-9abe-6d00b724f405",
   "metadata": {},
   "outputs": [],
   "source": [
    "def data_splitter(X, y, end_of_training=\"1985-12-31\", end_of_validation=\"1990-12-31\"):\n",
    "    # define start of training\n",
    "    start_of_training = X.index.get_level_values(0).min()\n",
    "   \n",
    "    # define initial training and test window\n",
    "    #train_window = pd.date_range(start=start_of_training, end=end_of_training, freq=\"M\")\n",
    "    #train_window = len(train_window)\n",
    "\n",
    "    # slice to required size\n",
    "    X_train = X.loc[pd.IndexSlice[start_of_training:end_of_training,], :]\n",
    "    y_train = y.loc[pd.IndexSlice[start_of_training:end_of_training,]]\n",
    "    X_valid = X.loc[pd.IndexSlice[end_of_training:end_of_validation,], :]\n",
    "    y_valid = y.loc[pd.IndexSlice[end_of_training:end_of_validation,]]\n",
    "    X_test = X.loc[pd.IndexSlice[end_of_validation:,], :]\n",
    "    y_test = y.loc[pd.IndexSlice[end_of_validation:,]]\n",
    "    \n",
    "    return X_train, X_valid, X_test, y_train, y_valid, y_test\n",
    "\n",
    "\n",
    "def metric_wrapper(metric, scaler):\n",
    "    def wrapper(label, pred):\n",
    "        return metric(label, pred, scaler=scaler)\n",
    "    return wrapper\n",
    "\n",
    "def rmse(label, pred, scaler):\n",
    "    #pred = scaler.inverse_transform(pred.reshape([-1, 1]))\n",
    "    #label = scaler.inverse_transform(label.reshape([-1, 1]))\n",
    "    return np.sqrt(np.mean((pred - label)**2))\n",
    "\n",
    "def mse(label, pred, scaler):\n",
    "    return mean_squared_error(label, pred)\n",
    "\n",
    "def mae(label, pred, scaler):\n",
    "    return mean_absolute_error(label, pred)\n",
    "\n",
    "def load_regression_data(pickle=False, feature_selector=[], subsample=False):\n",
    "    # get and prepare data\n",
    "    if pickle:\n",
    "      data = pd.read_pickle(root_path + 'prev/data/firm_data_processed_wo_target.pkl')\n",
    "    else:\n",
    "      dateparse = lambda x: pd.to_datetime(x, format='%Y-%m-%d', errors='coerce')\n",
    "    if subsample:\n",
    "       data = pd.read_csv(root_path + 'data/subsample_processed_scaled.csv', index_col=[\"date\",\"permno\"],\n",
    "                           parse_dates=['date'], date_parser=dateparse, skipinitialspace=True)\n",
    "    else:\n",
    "        data = pd.read_csv(root_path + 'data/data_processed_scaled.csv', index_col=[\"date\",\"permno\"],\n",
    "                           parse_dates=['date'], date_parser=dateparse, skipinitialspace=True)\n",
    "    #data = pd.read_csv(root_path + 'data_processed_scaled.csv')\n",
    "    \n",
    "    if len(feature_selector) > 0:\n",
    "      data = data.loc[:,feature_selector]\n",
    "\n",
    "    # scale target\n",
    "    scaler = StandardScaler()\n",
    "    target = data.TARGET.values.reshape(-1, 1)\n",
    "    data['TARGET'] = scaler.fit_transform(target)\n",
    "    \n",
    "    # isolate target from feature space\n",
    "    x = data.iloc[:,:-1]\n",
    "    y = data.TARGET\n",
    "\n",
    "    task_type = \"Regression\"\n",
    "    meta_info = {x.columns[i]:{'type':'continuous'} for i in range(x.shape[1])}\n",
    "    meta_info.update({'Y':{'type':'target'}})\n",
    "    #xx = pd.DataFrame(np.zeros((x.shape[0], x.shape[1]), dtype=np.float32))\n",
    "    for i, (key, item) in enumerate(meta_info.items()):\n",
    "        if item['type'] == 'target':\n",
    "            sy = scaler\n",
    "            meta_info[key]['scaler'] = sy\n",
    "        else:\n",
    "            sx = MinMaxScaler((0, 1))\n",
    "            sx.fit([[0], [1]])\n",
    "            #x[:,[i]] = sx.transform(x[:,[i]])\n",
    "            meta_info[key]['scaler'] = sx\n",
    "    train_x, test_x, _, train_y, test_y, _ = data_splitter(x, y)\n",
    "    train_x, test_x  = train_x.to_numpy(), test_x.to_numpy()\n",
    "    train_y, test_y = train_y.to_numpy().reshape(-1,1), test_y.to_numpy().reshape(-1,1)\n",
    "    return train_x, test_x, train_y, test_y, task_type, meta_info, metric_wrapper(rmse, sy), metric_wrapper(mse, sy), metric_wrapper(mae,sy)"
   ]
  },
  {
   "cell_type": "markdown",
   "id": "2f834b33-961b-4711-9696-f9ac48593f83",
   "metadata": {},
   "source": [
    "## Feature selection "
   ]
  },
  {
   "cell_type": "code",
   "execution_count": 7,
   "id": "ab342125-6fd7-43ea-b0da-cd210ae5ef52",
   "metadata": {},
   "outputs": [],
   "source": [
    "## best features used by freyberger et al:\n",
    "#features_freyberger = ['d_shrout', 'd_so', 'investment', 'lme', 'lturnover', 'pm_adj', 'cum_return_1_0', 'cum_return_12_2', 'cum_return_12_7', 'rel_to_high_price', 'roc', 'stock','suv', 'total_vol','TARGET']"
   ]
  },
  {
   "cell_type": "markdown",
   "id": "5d01bb16-bf9e-4dff-a3a3-0aad2ba7b03e",
   "metadata": {
    "tags": []
   },
   "source": [
    "### Feature selection by RF\n",
    "(Markus B.)"
   ]
  },
  {
   "cell_type": "code",
   "execution_count": 8,
   "id": "c0a863d3-8422-41f8-96b4-46846cb19d34",
   "metadata": {},
   "outputs": [],
   "source": [
    "## best features found by random forrest reg\n",
    "#features_rf = ['d_shrout', 'roe', 'oa', 'free_cf', 'nop', 'dpi2a', 'rna', 'ato', 'd_dgm_dsales', 'roc', 'ipm', 'spread_mean', 'dto', 'suv', 'TARGET']"
   ]
  },
  {
   "cell_type": "markdown",
   "id": "7498d7de-3c84-4435-9875-ac0e9c14e38a",
   "metadata": {
    "tags": []
   },
   "source": [
    "### Features selected by AE"
   ]
  },
  {
   "cell_type": "code",
   "execution_count": 9,
   "id": "8b249c88-b238-4ccb-9870-6d42a882091d",
   "metadata": {},
   "outputs": [],
   "source": [
    "#features_ae = ['e2p', 'beme', 'cum_return_12_2', 'cum_return_12_7', 'mm_sin', 'mm_cos', 'yy', 'dpi2a', 'ret', 'total_vol', 'noa', 'std_volume', 'cto', 'TARGET']"
   ]
  },
  {
   "cell_type": "code",
   "execution_count": 10,
   "id": "7dc953a2-24bc-4784-a7a9-abd9f6ccb3a6",
   "metadata": {
    "tags": []
   },
   "outputs": [],
   "source": [
    "# load preselected data\n",
    "#train_x, test_x, train_y, test_y, task_type, meta_info, get_rmse, get_mse, get_mae = load_regression_data(\"crsp\")"
   ]
  },
  {
   "cell_type": "code",
   "execution_count": 11,
   "id": "ca10e302-053a-4376-abee-2f4841ed7605",
   "metadata": {
    "tags": []
   },
   "outputs": [],
   "source": [
    "#train_x.shape"
   ]
  },
  {
   "cell_type": "markdown",
   "id": "5618f651-4260-49cb-8379-8df6730dda88",
   "metadata": {},
   "source": [
    "### All Data - Distributed training"
   ]
  },
  {
   "cell_type": "code",
   "execution_count": 12,
   "id": "45c1183c-4064-4d94-ab73-fec594d9575e",
   "metadata": {},
   "outputs": [],
   "source": [
    "# load preselected data\n",
    "train_x, test_x, train_y, test_y, task_type, meta_info, get_rmse, get_mse, get_mae = load_regression_data(subsample=True)"
   ]
  },
  {
   "cell_type": "code",
   "execution_count": 13,
   "id": "eda40102-2e7e-4049-b32a-4bc0c923fce6",
   "metadata": {},
   "outputs": [
    {
     "data": {
      "text/plain": [
       "(13538, 67)"
      ]
     },
     "execution_count": 13,
     "metadata": {},
     "output_type": "execute_result"
    }
   ],
   "source": [
    "test_x.shape"
   ]
  },
  {
   "cell_type": "code",
   "execution_count": 14,
   "id": "0bbd3877-2b42-4534-8f4d-6c42b0312ec8",
   "metadata": {
    "tags": []
   },
   "outputs": [
    {
     "name": "stderr",
     "output_type": "stream",
     "text": [
      "2022-08-16 18:54:01.196582: I tensorflow/core/platform/cpu_feature_guard.cc:151] This TensorFlow binary is optimized with oneAPI Deep Neural Network Library (oneDNN) to use the following CPU instructions in performance-critical operations:  AVX2 AVX512F FMA\n",
      "To enable them in other operations, rebuild TensorFlow with the appropriate compiler flags.\n",
      "2022-08-16 18:54:02.273691: I tensorflow/core/common_runtime/gpu/gpu_device.cc:1525] Created device /job:localhost/replica:0/task:0/device:GPU:0 with 30962 MB memory:  -> device: 0, name: Tesla V100-SXM2-32GB, pci bus id: 0000:16:00.0, compute capability: 7.0\n",
      "2022-08-16 18:54:02.274647: I tensorflow/core/common_runtime/gpu/gpu_device.cc:1525] Created device /job:localhost/replica:0/task:0/device:GPU:1 with 30981 MB memory:  -> device: 1, name: Tesla V100-SXM2-32GB, pci bus id: 0000:89:00.0, compute capability: 7.0\n"
     ]
    },
    {
     "data": {
      "text/html": [
       "wandb version 0.13.1 is available!  To upgrade, please run:\n",
       " $ pip install wandb --upgrade"
      ],
      "text/plain": [
       "<IPython.core.display.HTML object>"
      ]
     },
     "metadata": {},
     "output_type": "display_data"
    },
    {
     "data": {
      "text/html": [
       "Tracking run with wandb version 0.12.20"
      ],
      "text/plain": [
       "<IPython.core.display.HTML object>"
      ]
     },
     "metadata": {},
     "output_type": "display_data"
    },
    {
     "data": {
      "text/html": [
       "Run data is saved locally in <code>/pfs/data5/home/kit/stud/uvnyg/wandb/run-20220816_185403-1vo3tb3d</code>"
      ],
      "text/plain": [
       "<IPython.core.display.HTML object>"
      ]
     },
     "metadata": {},
     "output_type": "display_data"
    },
    {
     "data": {
      "text/html": [
       "Syncing run <strong><a href=\"https://wandb.ai/m-janyellow/interpretable-ml/runs/1vo3tb3d\" target=\"_blank\">cool-surf-95</a></strong> to <a href=\"https://wandb.ai/m-janyellow/interpretable-ml\" target=\"_blank\">Weights & Biases</a> (<a href=\"https://wandb.me/run\" target=\"_blank\">docs</a>)<br/>"
      ],
      "text/plain": [
       "<IPython.core.display.HTML object>"
      ]
     },
     "metadata": {},
     "output_type": "display_data"
    },
    {
     "name": "stdout",
     "output_type": "stream",
     "text": [
      "####################GAMI-Net training start.####################\n",
      "##########Stage 1: main effect training start.##########\n",
      "Main effects training epoch: 1, train loss: 0.75382, val loss: 0.79318\n",
      "Main effects training epoch: 6, train loss: 0.74501, val loss: 0.78602\n",
      "Model is being saved\n",
      "Main effects training epoch: 11, train loss: 0.74202, val loss: 0.78343\n",
      "Main effects training epoch: 16, train loss: 0.73931, val loss: 0.78307\n",
      "Model is being saved\n",
      "Main effects training epoch: 21, train loss: 0.73772, val loss: 0.78146\n",
      "Main effects training epoch: 26, train loss: 0.73482, val loss: 0.78060\n",
      "Model is being saved\n",
      "Main effects training epoch: 31, train loss: 0.73344, val loss: 0.78062\n",
      "Main effects training epoch: 36, train loss: 0.73114, val loss: 0.77769\n",
      "Model is being saved\n",
      "Main effects training epoch: 41, train loss: 0.72917, val loss: 0.77681\n",
      "Main effects training epoch: 46, train loss: 0.72770, val loss: 0.77617\n",
      "Model is being saved\n",
      "Main effects training epoch: 51, train loss: 0.72651, val loss: 0.77582\n",
      "Main effects training epoch: 56, train loss: 0.72642, val loss: 0.77552\n",
      "Model is being saved\n",
      "Main effects training epoch: 61, train loss: 0.72455, val loss: 0.77559\n",
      "Main effects training epoch: 66, train loss: 0.72364, val loss: 0.77508\n",
      "Model is being saved\n",
      "Main effects training epoch: 71, train loss: 0.72437, val loss: 0.77500\n",
      "Main effects training epoch: 76, train loss: 0.72217, val loss: 0.77477\n",
      "Model is being saved\n",
      "Main effects training epoch: 81, train loss: 0.72224, val loss: 0.77401\n",
      "Main effects training epoch: 86, train loss: 0.72078, val loss: 0.77382\n",
      "Model is being saved\n",
      "Main effects training epoch: 91, train loss: 0.72079, val loss: 0.77507\n",
      "Main effects training epoch: 96, train loss: 0.72007, val loss: 0.77318\n",
      "Model is being saved\n",
      "Main effects training epoch: 101, train loss: 0.71908, val loss: 0.77375\n",
      "Main effects training epoch: 106, train loss: 0.71871, val loss: 0.77421\n",
      "Model is being saved\n",
      "Main effects training epoch: 111, train loss: 0.71915, val loss: 0.77319\n",
      "Main effects training epoch: 116, train loss: 0.71754, val loss: 0.77292\n",
      "Model is being saved\n",
      "Main effects training epoch: 121, train loss: 0.71700, val loss: 0.77233\n",
      "Main effects training epoch: 126, train loss: 0.71691, val loss: 0.77240\n",
      "Model is being saved\n",
      "Main effects training epoch: 131, train loss: 0.71612, val loss: 0.77171\n",
      "Main effects training epoch: 136, train loss: 0.71514, val loss: 0.77238\n",
      "Model is being saved\n",
      "Main effects training epoch: 141, train loss: 0.71493, val loss: 0.77229\n",
      "Main effects training epoch: 146, train loss: 0.71418, val loss: 0.77176\n",
      "Model is being saved\n",
      "Main effects training epoch: 151, train loss: 0.71367, val loss: 0.77187\n",
      "Main effects training epoch: 156, train loss: 0.71367, val loss: 0.77044\n",
      "Model is being saved\n",
      "Main effects training epoch: 161, train loss: 0.71515, val loss: 0.77133\n",
      "Main effects training epoch: 166, train loss: 0.71246, val loss: 0.77058\n",
      "Model is being saved\n",
      "Main effects training epoch: 171, train loss: 0.71222, val loss: 0.77119\n",
      "Main effects training epoch: 176, train loss: 0.71218, val loss: 0.76980\n",
      "Model is being saved\n",
      "Main effects training epoch: 181, train loss: 0.71094, val loss: 0.76975\n",
      "Main effects training epoch: 186, train loss: 0.71074, val loss: 0.76983\n",
      "Model is being saved\n",
      "Main effects training epoch: 191, train loss: 0.71075, val loss: 0.77076\n",
      "Main effects training epoch: 196, train loss: 0.71057, val loss: 0.76981\n",
      "Model is being saved\n",
      "Main effects training epoch: 201, train loss: 0.70969, val loss: 0.77025\n",
      "Main effects training epoch: 206, train loss: 0.70967, val loss: 0.76971\n",
      "Model is being saved\n",
      "Main effects training epoch: 211, train loss: 0.70985, val loss: 0.77147\n",
      "Main effects training epoch: 216, train loss: 0.71036, val loss: 0.77069\n",
      "Model is being saved\n",
      "Main effects training epoch: 221, train loss: 0.70931, val loss: 0.77143\n",
      "Main effects training epoch: 226, train loss: 0.70879, val loss: 0.77134\n",
      "Model is being saved\n",
      "Main effects training epoch: 231, train loss: 0.70868, val loss: 0.77100\n",
      "Main effects training epoch: 236, train loss: 0.70808, val loss: 0.77026\n",
      "Model is being saved\n",
      "Main effects training epoch: 241, train loss: 0.70803, val loss: 0.77031\n",
      "Main effects training epoch: 246, train loss: 0.70792, val loss: 0.77094\n",
      "Model is being saved\n",
      "Main effects training epoch: 251, train loss: 0.70983, val loss: 0.77094\n",
      "Main effects training epoch: 256, train loss: 0.70707, val loss: 0.77060\n",
      "Model is being saved\n",
      "Main effects training epoch: 261, train loss: 0.70796, val loss: 0.77081\n",
      "Main effects training epoch: 266, train loss: 0.70715, val loss: 0.77185\n",
      "Model is being saved\n",
      "Main effects training epoch: 271, train loss: 0.70776, val loss: 0.77280\n",
      "Main effects training epoch: 276, train loss: 0.70642, val loss: 0.77049\n",
      "Model is being saved\n",
      "Main effects training epoch: 281, train loss: 0.70775, val loss: 0.77183\n",
      "Early stop at epoch 281, with validation loss: 0.77183\n",
      "##########Stage 1: main effect training stop.##########\n",
      "##########Stage 2: interaction training start.##########\n",
      "Interaction training epoch: 1, train loss: nan, val loss: nan\n",
      "Interaction training epoch: 2, train loss: nan, val loss: nan\n",
      "Interaction training epoch: 3, train loss: nan, val loss: nan\n",
      "Interaction training epoch: 4, train loss: nan, val loss: nan\n",
      "Interaction training epoch: 5, train loss: nan, val loss: nan\n",
      "Interaction training epoch: 6, train loss: nan, val loss: nan\n",
      "Interaction training epoch: 7, train loss: nan, val loss: nan\n",
      "Interaction training epoch: 8, train loss: nan, val loss: nan\n",
      "Interaction training epoch: 9, train loss: nan, val loss: nan\n",
      "Interaction training epoch: 10, train loss: nan, val loss: nan\n",
      "Model is being saved\n",
      "Interaction training epoch: 11, train loss: nan, val loss: nan\n",
      "Interaction training epoch: 12, train loss: nan, val loss: nan\n",
      "Interaction training epoch: 13, train loss: nan, val loss: nan\n",
      "Interaction training epoch: 14, train loss: nan, val loss: nan\n",
      "Interaction training epoch: 15, train loss: nan, val loss: nan\n",
      "Interaction training epoch: 16, train loss: nan, val loss: nan\n",
      "Interaction training epoch: 17, train loss: nan, val loss: nan\n",
      "Interaction training epoch: 18, train loss: nan, val loss: nan\n",
      "Interaction training epoch: 19, train loss: nan, val loss: nan\n",
      "Interaction training epoch: 20, train loss: nan, val loss: nan\n",
      "Model is being saved\n",
      "Interaction training epoch: 21, train loss: nan, val loss: nan\n",
      "Interaction training epoch: 22, train loss: nan, val loss: nan\n",
      "Interaction training epoch: 23, train loss: nan, val loss: nan\n",
      "Interaction training epoch: 24, train loss: nan, val loss: nan\n",
      "Interaction training epoch: 25, train loss: nan, val loss: nan\n",
      "Interaction training epoch: 26, train loss: nan, val loss: nan\n",
      "Interaction training epoch: 27, train loss: nan, val loss: nan\n",
      "Interaction training epoch: 28, train loss: nan, val loss: nan\n",
      "Interaction training epoch: 29, train loss: nan, val loss: nan\n",
      "Interaction training epoch: 30, train loss: nan, val loss: nan\n",
      "Model is being saved\n",
      "Interaction training epoch: 31, train loss: nan, val loss: nan\n",
      "Interaction training epoch: 32, train loss: nan, val loss: nan\n",
      "Interaction training epoch: 33, train loss: nan, val loss: nan\n",
      "Interaction training epoch: 34, train loss: nan, val loss: nan\n",
      "Interaction training epoch: 35, train loss: nan, val loss: nan\n",
      "Interaction training epoch: 36, train loss: nan, val loss: nan\n",
      "Interaction training epoch: 37, train loss: nan, val loss: nan\n",
      "Interaction training epoch: 38, train loss: nan, val loss: nan\n",
      "Interaction training epoch: 39, train loss: nan, val loss: nan\n",
      "Interaction training epoch: 40, train loss: nan, val loss: nan\n",
      "Model is being saved\n",
      "Interaction training epoch: 41, train loss: nan, val loss: nan\n",
      "Interaction training epoch: 42, train loss: nan, val loss: nan\n",
      "Interaction training epoch: 43, train loss: nan, val loss: nan\n",
      "Interaction training epoch: 44, train loss: nan, val loss: nan\n",
      "Interaction training epoch: 45, train loss: nan, val loss: nan\n",
      "Interaction training epoch: 46, train loss: nan, val loss: nan\n",
      "Interaction training epoch: 47, train loss: nan, val loss: nan\n",
      "Interaction training epoch: 48, train loss: nan, val loss: nan\n",
      "Interaction training epoch: 49, train loss: nan, val loss: nan\n",
      "Interaction training epoch: 50, train loss: nan, val loss: nan\n",
      "Model is being saved\n",
      "Interaction training epoch: 51, train loss: nan, val loss: nan\n",
      "Interaction training epoch: 52, train loss: nan, val loss: nan\n",
      "Early stop at epoch 52, with validation loss: nan\n",
      "##########Stage 2: interaction training stop.##########\n",
      "Fine tuning epoch: 1, train loss: nan, val loss: nan\n",
      "Fine tuning epoch: 2, train loss: nan, val loss: nan\n",
      "Fine tuning epoch: 3, train loss: nan, val loss: nan\n",
      "Fine tuning epoch: 4, train loss: nan, val loss: nan\n",
      "Fine tuning epoch: 5, train loss: nan, val loss: nan\n",
      "Fine tuning epoch: 6, train loss: nan, val loss: nan\n",
      "Fine tuning epoch: 7, train loss: nan, val loss: nan\n",
      "Fine tuning epoch: 8, train loss: nan, val loss: nan\n",
      "Fine tuning epoch: 9, train loss: nan, val loss: nan\n",
      "Fine tuning epoch: 10, train loss: nan, val loss: nan\n",
      "Fine tuning epoch: 11, train loss: nan, val loss: nan\n",
      "Fine tuning epoch: 12, train loss: nan, val loss: nan\n",
      "Fine tuning epoch: 13, train loss: nan, val loss: nan\n",
      "Fine tuning epoch: 14, train loss: nan, val loss: nan\n",
      "Fine tuning epoch: 15, train loss: nan, val loss: nan\n",
      "Fine tuning epoch: 16, train loss: nan, val loss: nan\n",
      "Fine tuning epoch: 17, train loss: nan, val loss: nan\n",
      "Fine tuning epoch: 18, train loss: nan, val loss: nan\n",
      "Fine tuning epoch: 19, train loss: nan, val loss: nan\n",
      "Fine tuning epoch: 20, train loss: nan, val loss: nan\n",
      "Fine tuning epoch: 21, train loss: nan, val loss: nan\n",
      "Fine tuning epoch: 22, train loss: nan, val loss: nan\n",
      "Fine tuning epoch: 23, train loss: nan, val loss: nan\n",
      "Fine tuning epoch: 24, train loss: nan, val loss: nan\n",
      "Fine tuning epoch: 25, train loss: nan, val loss: nan\n",
      "Fine tuning epoch: 26, train loss: nan, val loss: nan\n",
      "Fine tuning epoch: 27, train loss: nan, val loss: nan\n",
      "Fine tuning epoch: 28, train loss: nan, val loss: nan\n",
      "Fine tuning epoch: 29, train loss: nan, val loss: nan\n",
      "Fine tuning epoch: 30, train loss: nan, val loss: nan\n",
      "Fine tuning epoch: 31, train loss: nan, val loss: nan\n",
      "Fine tuning epoch: 32, train loss: nan, val loss: nan\n",
      "Fine tuning epoch: 33, train loss: nan, val loss: nan\n",
      "Fine tuning epoch: 34, train loss: nan, val loss: nan\n",
      "Fine tuning epoch: 35, train loss: nan, val loss: nan\n",
      "Fine tuning epoch: 36, train loss: nan, val loss: nan\n",
      "Fine tuning epoch: 37, train loss: nan, val loss: nan\n",
      "Fine tuning epoch: 38, train loss: nan, val loss: nan\n",
      "Fine tuning epoch: 39, train loss: nan, val loss: nan\n",
      "Fine tuning epoch: 40, train loss: nan, val loss: nan\n",
      "Fine tuning epoch: 41, train loss: nan, val loss: nan\n",
      "Fine tuning epoch: 42, train loss: nan, val loss: nan\n",
      "Fine tuning epoch: 43, train loss: nan, val loss: nan\n",
      "Fine tuning epoch: 44, train loss: nan, val loss: nan\n",
      "Fine tuning epoch: 45, train loss: nan, val loss: nan\n",
      "Fine tuning epoch: 46, train loss: nan, val loss: nan\n",
      "Fine tuning epoch: 47, train loss: nan, val loss: nan\n",
      "Fine tuning epoch: 48, train loss: nan, val loss: nan\n",
      "Fine tuning epoch: 49, train loss: nan, val loss: nan\n",
      "Fine tuning epoch: 50, train loss: nan, val loss: nan\n",
      "Fine tuning epoch: 51, train loss: nan, val loss: nan\n",
      "Fine tuning epoch: 52, train loss: nan, val loss: nan\n",
      "Early stop at epoch 52, with validation loss: nan\n",
      "####################GAMI-Net training finished.####################\n"
     ]
    },
    {
     "data": {
      "image/png": "[encoded data removed]",
      "text/plain": [
       "<Figure size 1008x288 with 2 Axes>"
      ]
     },
     "metadata": {
      "needs_background": "light"
     },
     "output_type": "display_data"
    },
    {
     "name": "stderr",
     "output_type": "stream",
     "text": [
      "The PostScript backend does not support transparency; partially transparent artists will be rendered opaque.\n",
      "/pfs/data5/home/kit/stud/uvnyg/gaminet/gaminet/utils.py:111: RuntimeWarning: All-NaN axis encountered\n",
      "  ax2.set_yticks((10 ** np.linspace(np.log10(np.nanmin(inter_loss)), np.log10(np.nanmax(inter_loss)), 5)).round(5))\n",
      "posx and posy should be finite values\n",
      "posx and posy should be finite values\n",
      "posx and posy should be finite values\n",
      "posx and posy should be finite values\n",
      "posx and posy should be finite values\n",
      "posx and posy should be finite values\n",
      "posx and posy should be finite values\n",
      "posx and posy should be finite values\n"
     ]
    },
    {
     "ename": "ValueError",
     "evalue": "cannot convert float NaN to integer",
     "output_type": "error",
     "traceback": [
      "\u001b[0;31m---------------------------------------------------------------------------\u001b[0m",
      "\u001b[0;31mValueError\u001b[0m                                Traceback (most recent call last)",
      "File \u001b[0;32m/opt/bwhpc/common/jupyter/tensorflow/2022-03-30/lib/python3.8/site-packages/IPython/core/formatters.py:339\u001b[0m, in \u001b[0;36mBaseFormatter.__call__\u001b[0;34m(self, obj)\u001b[0m\n\u001b[1;32m    337\u001b[0m     \u001b[38;5;28;01mpass\u001b[39;00m\n\u001b[1;32m    338\u001b[0m \u001b[38;5;28;01melse\u001b[39;00m:\n\u001b[0;32m--> 339\u001b[0m     \u001b[38;5;28;01mreturn\u001b[39;00m \u001b[43mprinter\u001b[49m\u001b[43m(\u001b[49m\u001b[43mobj\u001b[49m\u001b[43m)\u001b[49m\n\u001b[1;32m    340\u001b[0m \u001b[38;5;66;03m# Finally look for special method names\u001b[39;00m\n\u001b[1;32m    341\u001b[0m method \u001b[38;5;241m=\u001b[39m get_real_method(obj, \u001b[38;5;28mself\u001b[39m\u001b[38;5;241m.\u001b[39mprint_method)\n",
      "File \u001b[0;32m/opt/bwhpc/common/jupyter/tensorflow/2022-03-30/lib/python3.8/site-packages/IPython/core/pylabtools.py:151\u001b[0m, in \u001b[0;36mprint_figure\u001b[0;34m(fig, fmt, bbox_inches, base64, **kwargs)\u001b[0m\n\u001b[1;32m    148\u001b[0m     \u001b[38;5;28;01mfrom\u001b[39;00m \u001b[38;5;21;01mmatplotlib\u001b[39;00m\u001b[38;5;21;01m.\u001b[39;00m\u001b[38;5;21;01mbackend_bases\u001b[39;00m \u001b[38;5;28;01mimport\u001b[39;00m FigureCanvasBase\n\u001b[1;32m    149\u001b[0m     FigureCanvasBase(fig)\n\u001b[0;32m--> 151\u001b[0m \u001b[43mfig\u001b[49m\u001b[38;5;241;43m.\u001b[39;49m\u001b[43mcanvas\u001b[49m\u001b[38;5;241;43m.\u001b[39;49m\u001b[43mprint_figure\u001b[49m\u001b[43m(\u001b[49m\u001b[43mbytes_io\u001b[49m\u001b[43m,\u001b[49m\u001b[43m \u001b[49m\u001b[38;5;241;43m*\u001b[39;49m\u001b[38;5;241;43m*\u001b[39;49m\u001b[43mkw\u001b[49m\u001b[43m)\u001b[49m\n\u001b[1;32m    152\u001b[0m data \u001b[38;5;241m=\u001b[39m bytes_io\u001b[38;5;241m.\u001b[39mgetvalue()\n\u001b[1;32m    153\u001b[0m \u001b[38;5;28;01mif\u001b[39;00m fmt \u001b[38;5;241m==\u001b[39m \u001b[38;5;124m'\u001b[39m\u001b[38;5;124msvg\u001b[39m\u001b[38;5;124m'\u001b[39m:\n",
      "File \u001b[0;32m/opt/bwhpc/common/jupyter/tensorflow/2022-03-30/lib/python3.8/site-packages/matplotlib/backend_bases.py:2295\u001b[0m, in \u001b[0;36mFigureCanvasBase.print_figure\u001b[0;34m(self, filename, dpi, facecolor, edgecolor, orientation, format, bbox_inches, pad_inches, bbox_extra_artists, backend, **kwargs)\u001b[0m\n\u001b[1;32m   2289\u001b[0m     renderer \u001b[38;5;241m=\u001b[39m _get_renderer(\n\u001b[1;32m   2290\u001b[0m         \u001b[38;5;28mself\u001b[39m\u001b[38;5;241m.\u001b[39mfigure,\n\u001b[1;32m   2291\u001b[0m         functools\u001b[38;5;241m.\u001b[39mpartial(\n\u001b[1;32m   2292\u001b[0m             print_method, orientation\u001b[38;5;241m=\u001b[39morientation)\n\u001b[1;32m   2293\u001b[0m     )\n\u001b[1;32m   2294\u001b[0m     \u001b[38;5;28;01mwith\u001b[39;00m \u001b[38;5;28mgetattr\u001b[39m(renderer, \u001b[38;5;124m\"\u001b[39m\u001b[38;5;124m_draw_disabled\u001b[39m\u001b[38;5;124m\"\u001b[39m, nullcontext)():\n\u001b[0;32m-> 2295\u001b[0m         \u001b[38;5;28;43mself\u001b[39;49m\u001b[38;5;241;43m.\u001b[39;49m\u001b[43mfigure\u001b[49m\u001b[38;5;241;43m.\u001b[39;49m\u001b[43mdraw\u001b[49m\u001b[43m(\u001b[49m\u001b[43mrenderer\u001b[49m\u001b[43m)\u001b[49m\n\u001b[1;32m   2297\u001b[0m \u001b[38;5;28;01mif\u001b[39;00m bbox_inches:\n\u001b[1;32m   2298\u001b[0m     \u001b[38;5;28;01mif\u001b[39;00m bbox_inches \u001b[38;5;241m==\u001b[39m \u001b[38;5;124m\"\u001b[39m\u001b[38;5;124mtight\u001b[39m\u001b[38;5;124m\"\u001b[39m:\n",
      "File \u001b[0;32m/opt/bwhpc/common/jupyter/tensorflow/2022-03-30/lib/python3.8/site-packages/matplotlib/artist.py:73\u001b[0m, in \u001b[0;36m_finalize_rasterization.<locals>.draw_wrapper\u001b[0;34m(artist, renderer, *args, **kwargs)\u001b[0m\n\u001b[1;32m     71\u001b[0m \u001b[38;5;129m@wraps\u001b[39m(draw)\n\u001b[1;32m     72\u001b[0m \u001b[38;5;28;01mdef\u001b[39;00m \u001b[38;5;21mdraw_wrapper\u001b[39m(artist, renderer, \u001b[38;5;241m*\u001b[39margs, \u001b[38;5;241m*\u001b[39m\u001b[38;5;241m*\u001b[39mkwargs):\n\u001b[0;32m---> 73\u001b[0m     result \u001b[38;5;241m=\u001b[39m \u001b[43mdraw\u001b[49m\u001b[43m(\u001b[49m\u001b[43martist\u001b[49m\u001b[43m,\u001b[49m\u001b[43m \u001b[49m\u001b[43mrenderer\u001b[49m\u001b[43m,\u001b[49m\u001b[43m \u001b[49m\u001b[38;5;241;43m*\u001b[39;49m\u001b[43margs\u001b[49m\u001b[43m,\u001b[49m\u001b[43m \u001b[49m\u001b[38;5;241;43m*\u001b[39;49m\u001b[38;5;241;43m*\u001b[39;49m\u001b[43mkwargs\u001b[49m\u001b[43m)\u001b[49m\n\u001b[1;32m     74\u001b[0m     \u001b[38;5;28;01mif\u001b[39;00m renderer\u001b[38;5;241m.\u001b[39m_rasterizing:\n\u001b[1;32m     75\u001b[0m         renderer\u001b[38;5;241m.\u001b[39mstop_rasterizing()\n",
      "File \u001b[0;32m/opt/bwhpc/common/jupyter/tensorflow/2022-03-30/lib/python3.8/site-packages/matplotlib/artist.py:50\u001b[0m, in \u001b[0;36mallow_rasterization.<locals>.draw_wrapper\u001b[0;34m(artist, renderer)\u001b[0m\n\u001b[1;32m     47\u001b[0m     \u001b[38;5;28;01mif\u001b[39;00m artist\u001b[38;5;241m.\u001b[39mget_agg_filter() \u001b[38;5;129;01mis\u001b[39;00m \u001b[38;5;129;01mnot\u001b[39;00m \u001b[38;5;28;01mNone\u001b[39;00m:\n\u001b[1;32m     48\u001b[0m         renderer\u001b[38;5;241m.\u001b[39mstart_filter()\n\u001b[0;32m---> 50\u001b[0m     \u001b[38;5;28;01mreturn\u001b[39;00m \u001b[43mdraw\u001b[49m\u001b[43m(\u001b[49m\u001b[43martist\u001b[49m\u001b[43m,\u001b[49m\u001b[43m \u001b[49m\u001b[43mrenderer\u001b[49m\u001b[43m)\u001b[49m\n\u001b[1;32m     51\u001b[0m \u001b[38;5;28;01mfinally\u001b[39;00m:\n\u001b[1;32m     52\u001b[0m     \u001b[38;5;28;01mif\u001b[39;00m artist\u001b[38;5;241m.\u001b[39mget_agg_filter() \u001b[38;5;129;01mis\u001b[39;00m \u001b[38;5;129;01mnot\u001b[39;00m \u001b[38;5;28;01mNone\u001b[39;00m:\n",
      "File \u001b[0;32m/opt/bwhpc/common/jupyter/tensorflow/2022-03-30/lib/python3.8/site-packages/matplotlib/figure.py:2810\u001b[0m, in \u001b[0;36mFigure.draw\u001b[0;34m(self, renderer)\u001b[0m\n\u001b[1;32m   2807\u001b[0m         \u001b[38;5;66;03m# ValueError can occur when resizing a window.\u001b[39;00m\n\u001b[1;32m   2809\u001b[0m \u001b[38;5;28mself\u001b[39m\u001b[38;5;241m.\u001b[39mpatch\u001b[38;5;241m.\u001b[39mdraw(renderer)\n\u001b[0;32m-> 2810\u001b[0m \u001b[43mmimage\u001b[49m\u001b[38;5;241;43m.\u001b[39;49m\u001b[43m_draw_list_compositing_images\u001b[49m\u001b[43m(\u001b[49m\n\u001b[1;32m   2811\u001b[0m \u001b[43m    \u001b[49m\u001b[43mrenderer\u001b[49m\u001b[43m,\u001b[49m\u001b[43m \u001b[49m\u001b[38;5;28;43mself\u001b[39;49m\u001b[43m,\u001b[49m\u001b[43m \u001b[49m\u001b[43martists\u001b[49m\u001b[43m,\u001b[49m\u001b[43m \u001b[49m\u001b[38;5;28;43mself\u001b[39;49m\u001b[38;5;241;43m.\u001b[39;49m\u001b[43msuppressComposite\u001b[49m\u001b[43m)\u001b[49m\n\u001b[1;32m   2813\u001b[0m \u001b[38;5;28;01mfor\u001b[39;00m sfig \u001b[38;5;129;01min\u001b[39;00m \u001b[38;5;28mself\u001b[39m\u001b[38;5;241m.\u001b[39msubfigs:\n\u001b[1;32m   2814\u001b[0m     sfig\u001b[38;5;241m.\u001b[39mdraw(renderer)\n",
      "File \u001b[0;32m/opt/bwhpc/common/jupyter/tensorflow/2022-03-30/lib/python3.8/site-packages/matplotlib/image.py:132\u001b[0m, in \u001b[0;36m_draw_list_compositing_images\u001b[0;34m(renderer, parent, artists, suppress_composite)\u001b[0m\n\u001b[1;32m    130\u001b[0m \u001b[38;5;28;01mif\u001b[39;00m not_composite \u001b[38;5;129;01mor\u001b[39;00m \u001b[38;5;129;01mnot\u001b[39;00m has_images:\n\u001b[1;32m    131\u001b[0m     \u001b[38;5;28;01mfor\u001b[39;00m a \u001b[38;5;129;01min\u001b[39;00m artists:\n\u001b[0;32m--> 132\u001b[0m         \u001b[43ma\u001b[49m\u001b[38;5;241;43m.\u001b[39;49m\u001b[43mdraw\u001b[49m\u001b[43m(\u001b[49m\u001b[43mrenderer\u001b[49m\u001b[43m)\u001b[49m\n\u001b[1;32m    133\u001b[0m \u001b[38;5;28;01melse\u001b[39;00m:\n\u001b[1;32m    134\u001b[0m     \u001b[38;5;66;03m# Composite any adjacent images together\u001b[39;00m\n\u001b[1;32m    135\u001b[0m     image_group \u001b[38;5;241m=\u001b[39m []\n",
      "File \u001b[0;32m/opt/bwhpc/common/jupyter/tensorflow/2022-03-30/lib/python3.8/site-packages/matplotlib/artist.py:50\u001b[0m, in \u001b[0;36mallow_rasterization.<locals>.draw_wrapper\u001b[0;34m(artist, renderer)\u001b[0m\n\u001b[1;32m     47\u001b[0m     \u001b[38;5;28;01mif\u001b[39;00m artist\u001b[38;5;241m.\u001b[39mget_agg_filter() \u001b[38;5;129;01mis\u001b[39;00m \u001b[38;5;129;01mnot\u001b[39;00m \u001b[38;5;28;01mNone\u001b[39;00m:\n\u001b[1;32m     48\u001b[0m         renderer\u001b[38;5;241m.\u001b[39mstart_filter()\n\u001b[0;32m---> 50\u001b[0m     \u001b[38;5;28;01mreturn\u001b[39;00m \u001b[43mdraw\u001b[49m\u001b[43m(\u001b[49m\u001b[43martist\u001b[49m\u001b[43m,\u001b[49m\u001b[43m \u001b[49m\u001b[43mrenderer\u001b[49m\u001b[43m)\u001b[49m\n\u001b[1;32m     51\u001b[0m \u001b[38;5;28;01mfinally\u001b[39;00m:\n\u001b[1;32m     52\u001b[0m     \u001b[38;5;28;01mif\u001b[39;00m artist\u001b[38;5;241m.\u001b[39mget_agg_filter() \u001b[38;5;129;01mis\u001b[39;00m \u001b[38;5;129;01mnot\u001b[39;00m \u001b[38;5;28;01mNone\u001b[39;00m:\n",
      "File \u001b[0;32m/opt/bwhpc/common/jupyter/tensorflow/2022-03-30/lib/python3.8/site-packages/matplotlib/axes/_base.py:3082\u001b[0m, in \u001b[0;36m_AxesBase.draw\u001b[0;34m(self, renderer)\u001b[0m\n\u001b[1;32m   3079\u001b[0m         a\u001b[38;5;241m.\u001b[39mdraw(renderer)\n\u001b[1;32m   3080\u001b[0m     renderer\u001b[38;5;241m.\u001b[39mstop_rasterizing()\n\u001b[0;32m-> 3082\u001b[0m \u001b[43mmimage\u001b[49m\u001b[38;5;241;43m.\u001b[39;49m\u001b[43m_draw_list_compositing_images\u001b[49m\u001b[43m(\u001b[49m\n\u001b[1;32m   3083\u001b[0m \u001b[43m    \u001b[49m\u001b[43mrenderer\u001b[49m\u001b[43m,\u001b[49m\u001b[43m \u001b[49m\u001b[38;5;28;43mself\u001b[39;49m\u001b[43m,\u001b[49m\u001b[43m \u001b[49m\u001b[43martists\u001b[49m\u001b[43m,\u001b[49m\u001b[43m \u001b[49m\u001b[38;5;28;43mself\u001b[39;49m\u001b[38;5;241;43m.\u001b[39;49m\u001b[43mfigure\u001b[49m\u001b[38;5;241;43m.\u001b[39;49m\u001b[43msuppressComposite\u001b[49m\u001b[43m)\u001b[49m\n\u001b[1;32m   3085\u001b[0m renderer\u001b[38;5;241m.\u001b[39mclose_group(\u001b[38;5;124m'\u001b[39m\u001b[38;5;124maxes\u001b[39m\u001b[38;5;124m'\u001b[39m)\n\u001b[1;32m   3086\u001b[0m \u001b[38;5;28mself\u001b[39m\u001b[38;5;241m.\u001b[39mstale \u001b[38;5;241m=\u001b[39m \u001b[38;5;28;01mFalse\u001b[39;00m\n",
      "File \u001b[0;32m/opt/bwhpc/common/jupyter/tensorflow/2022-03-30/lib/python3.8/site-packages/matplotlib/image.py:132\u001b[0m, in \u001b[0;36m_draw_list_compositing_images\u001b[0;34m(renderer, parent, artists, suppress_composite)\u001b[0m\n\u001b[1;32m    130\u001b[0m \u001b[38;5;28;01mif\u001b[39;00m not_composite \u001b[38;5;129;01mor\u001b[39;00m \u001b[38;5;129;01mnot\u001b[39;00m has_images:\n\u001b[1;32m    131\u001b[0m     \u001b[38;5;28;01mfor\u001b[39;00m a \u001b[38;5;129;01min\u001b[39;00m artists:\n\u001b[0;32m--> 132\u001b[0m         \u001b[43ma\u001b[49m\u001b[38;5;241;43m.\u001b[39;49m\u001b[43mdraw\u001b[49m\u001b[43m(\u001b[49m\u001b[43mrenderer\u001b[49m\u001b[43m)\u001b[49m\n\u001b[1;32m    133\u001b[0m \u001b[38;5;28;01melse\u001b[39;00m:\n\u001b[1;32m    134\u001b[0m     \u001b[38;5;66;03m# Composite any adjacent images together\u001b[39;00m\n\u001b[1;32m    135\u001b[0m     image_group \u001b[38;5;241m=\u001b[39m []\n",
      "File \u001b[0;32m/opt/bwhpc/common/jupyter/tensorflow/2022-03-30/lib/python3.8/site-packages/matplotlib/artist.py:50\u001b[0m, in \u001b[0;36mallow_rasterization.<locals>.draw_wrapper\u001b[0;34m(artist, renderer)\u001b[0m\n\u001b[1;32m     47\u001b[0m     \u001b[38;5;28;01mif\u001b[39;00m artist\u001b[38;5;241m.\u001b[39mget_agg_filter() \u001b[38;5;129;01mis\u001b[39;00m \u001b[38;5;129;01mnot\u001b[39;00m \u001b[38;5;28;01mNone\u001b[39;00m:\n\u001b[1;32m     48\u001b[0m         renderer\u001b[38;5;241m.\u001b[39mstart_filter()\n\u001b[0;32m---> 50\u001b[0m     \u001b[38;5;28;01mreturn\u001b[39;00m \u001b[43mdraw\u001b[49m\u001b[43m(\u001b[49m\u001b[43martist\u001b[49m\u001b[43m,\u001b[49m\u001b[43m \u001b[49m\u001b[43mrenderer\u001b[49m\u001b[43m)\u001b[49m\n\u001b[1;32m     51\u001b[0m \u001b[38;5;28;01mfinally\u001b[39;00m:\n\u001b[1;32m     52\u001b[0m     \u001b[38;5;28;01mif\u001b[39;00m artist\u001b[38;5;241m.\u001b[39mget_agg_filter() \u001b[38;5;129;01mis\u001b[39;00m \u001b[38;5;129;01mnot\u001b[39;00m \u001b[38;5;28;01mNone\u001b[39;00m:\n",
      "File \u001b[0;32m/opt/bwhpc/common/jupyter/tensorflow/2022-03-30/lib/python3.8/site-packages/matplotlib/axis.py:1158\u001b[0m, in \u001b[0;36mAxis.draw\u001b[0;34m(self, renderer, *args, **kwargs)\u001b[0m\n\u001b[1;32m   1155\u001b[0m     \u001b[38;5;28;01mreturn\u001b[39;00m\n\u001b[1;32m   1156\u001b[0m renderer\u001b[38;5;241m.\u001b[39mopen_group(\u001b[38;5;18m__name__\u001b[39m, gid\u001b[38;5;241m=\u001b[39m\u001b[38;5;28mself\u001b[39m\u001b[38;5;241m.\u001b[39mget_gid())\n\u001b[0;32m-> 1158\u001b[0m ticks_to_draw \u001b[38;5;241m=\u001b[39m \u001b[38;5;28;43mself\u001b[39;49m\u001b[38;5;241;43m.\u001b[39;49m\u001b[43m_update_ticks\u001b[49m\u001b[43m(\u001b[49m\u001b[43m)\u001b[49m\n\u001b[1;32m   1159\u001b[0m ticklabelBoxes, ticklabelBoxes2 \u001b[38;5;241m=\u001b[39m \u001b[38;5;28mself\u001b[39m\u001b[38;5;241m.\u001b[39m_get_tick_bboxes(ticks_to_draw,\n\u001b[1;32m   1160\u001b[0m                                                         renderer)\n\u001b[1;32m   1162\u001b[0m \u001b[38;5;28;01mfor\u001b[39;00m tick \u001b[38;5;129;01min\u001b[39;00m ticks_to_draw:\n",
      "File \u001b[0;32m/opt/bwhpc/common/jupyter/tensorflow/2022-03-30/lib/python3.8/site-packages/matplotlib/axis.py:1046\u001b[0m, in \u001b[0;36mAxis._update_ticks\u001b[0;34m(self)\u001b[0m\n\u001b[1;32m   1041\u001b[0m \u001b[38;5;124;03m\"\"\"\u001b[39;00m\n\u001b[1;32m   1042\u001b[0m \u001b[38;5;124;03mUpdate ticks (position and labels) using the current data interval of\u001b[39;00m\n\u001b[1;32m   1043\u001b[0m \u001b[38;5;124;03mthe axes.  Return the list of ticks that will be drawn.\u001b[39;00m\n\u001b[1;32m   1044\u001b[0m \u001b[38;5;124;03m\"\"\"\u001b[39;00m\n\u001b[1;32m   1045\u001b[0m major_locs \u001b[38;5;241m=\u001b[39m \u001b[38;5;28mself\u001b[39m\u001b[38;5;241m.\u001b[39mget_majorticklocs()\n\u001b[0;32m-> 1046\u001b[0m major_labels \u001b[38;5;241m=\u001b[39m \u001b[38;5;28;43mself\u001b[39;49m\u001b[38;5;241;43m.\u001b[39;49m\u001b[43mmajor\u001b[49m\u001b[38;5;241;43m.\u001b[39;49m\u001b[43mformatter\u001b[49m\u001b[38;5;241;43m.\u001b[39;49m\u001b[43mformat_ticks\u001b[49m\u001b[43m(\u001b[49m\u001b[43mmajor_locs\u001b[49m\u001b[43m)\u001b[49m\n\u001b[1;32m   1047\u001b[0m major_ticks \u001b[38;5;241m=\u001b[39m \u001b[38;5;28mself\u001b[39m\u001b[38;5;241m.\u001b[39mget_major_ticks(\u001b[38;5;28mlen\u001b[39m(major_locs))\n\u001b[1;32m   1048\u001b[0m \u001b[38;5;28mself\u001b[39m\u001b[38;5;241m.\u001b[39mmajor\u001b[38;5;241m.\u001b[39mformatter\u001b[38;5;241m.\u001b[39mset_locs(major_locs)\n",
      "File \u001b[0;32m/opt/bwhpc/common/jupyter/tensorflow/2022-03-30/lib/python3.8/site-packages/matplotlib/ticker.py:223\u001b[0m, in \u001b[0;36mFormatter.format_ticks\u001b[0;34m(self, values)\u001b[0m\n\u001b[1;32m    221\u001b[0m \u001b[38;5;28;01mdef\u001b[39;00m \u001b[38;5;21mformat_ticks\u001b[39m(\u001b[38;5;28mself\u001b[39m, values):\n\u001b[1;32m    222\u001b[0m     \u001b[38;5;124;03m\"\"\"Return the tick labels for all the ticks at once.\"\"\"\u001b[39;00m\n\u001b[0;32m--> 223\u001b[0m     \u001b[38;5;28;43mself\u001b[39;49m\u001b[38;5;241;43m.\u001b[39;49m\u001b[43mset_locs\u001b[49m\u001b[43m(\u001b[49m\u001b[43mvalues\u001b[49m\u001b[43m)\u001b[49m\n\u001b[1;32m    224\u001b[0m     \u001b[38;5;28;01mreturn\u001b[39;00m [\u001b[38;5;28mself\u001b[39m(value, i) \u001b[38;5;28;01mfor\u001b[39;00m i, value \u001b[38;5;129;01min\u001b[39;00m \u001b[38;5;28menumerate\u001b[39m(values)]\n",
      "File \u001b[0;32m/opt/bwhpc/common/jupyter/tensorflow/2022-03-30/lib/python3.8/site-packages/matplotlib/ticker.py:712\u001b[0m, in \u001b[0;36mScalarFormatter.set_locs\u001b[0;34m(self, locs)\u001b[0m\n\u001b[1;32m    710\u001b[0m     \u001b[38;5;28mself\u001b[39m\u001b[38;5;241m.\u001b[39m_compute_offset()\n\u001b[1;32m    711\u001b[0m \u001b[38;5;28mself\u001b[39m\u001b[38;5;241m.\u001b[39m_set_order_of_magnitude()\n\u001b[0;32m--> 712\u001b[0m \u001b[38;5;28;43mself\u001b[39;49m\u001b[38;5;241;43m.\u001b[39;49m\u001b[43m_set_format\u001b[49m\u001b[43m(\u001b[49m\u001b[43m)\u001b[49m\n",
      "File \u001b[0;32m/opt/bwhpc/common/jupyter/tensorflow/2022-03-30/lib/python3.8/site-packages/matplotlib/ticker.py:805\u001b[0m, in \u001b[0;36mScalarFormatter._set_format\u001b[0;34m(self)\u001b[0m\n\u001b[1;32m    802\u001b[0m \u001b[38;5;28;01mif\u001b[39;00m \u001b[38;5;28mlen\u001b[39m(\u001b[38;5;28mself\u001b[39m\u001b[38;5;241m.\u001b[39mlocs) \u001b[38;5;241m<\u001b[39m \u001b[38;5;241m2\u001b[39m:\n\u001b[1;32m    803\u001b[0m     \u001b[38;5;66;03m# We needed the end points only for the loc_range calculation.\u001b[39;00m\n\u001b[1;32m    804\u001b[0m     locs \u001b[38;5;241m=\u001b[39m locs[:\u001b[38;5;241m-\u001b[39m\u001b[38;5;241m2\u001b[39m]\n\u001b[0;32m--> 805\u001b[0m loc_range_oom \u001b[38;5;241m=\u001b[39m \u001b[38;5;28mint\u001b[39m(\u001b[43mmath\u001b[49m\u001b[38;5;241;43m.\u001b[39;49m\u001b[43mfloor\u001b[49m\u001b[43m(\u001b[49m\u001b[43mmath\u001b[49m\u001b[38;5;241;43m.\u001b[39;49m\u001b[43mlog10\u001b[49m\u001b[43m(\u001b[49m\u001b[43mloc_range\u001b[49m\u001b[43m)\u001b[49m\u001b[43m)\u001b[49m)\n\u001b[1;32m    806\u001b[0m \u001b[38;5;66;03m# first estimate:\u001b[39;00m\n\u001b[1;32m    807\u001b[0m sigfigs \u001b[38;5;241m=\u001b[39m \u001b[38;5;28mmax\u001b[39m(\u001b[38;5;241m0\u001b[39m, \u001b[38;5;241m3\u001b[39m \u001b[38;5;241m-\u001b[39m loc_range_oom)\n",
      "\u001b[0;31mValueError\u001b[0m: cannot convert float NaN to integer"
     ]
    },
    {
     "data": {
      "text/plain": [
       "<Figure size 1008x288 with 2 Axes>"
      ]
     },
     "metadata": {
      "needs_background": "light"
     },
     "output_type": "display_data"
    },
    {
     "name": "stderr",
     "output_type": "stream",
     "text": [
      "posx and posy should be finite values\n",
      "posx and posy should be finite values\n",
      "posx and posy should be finite values\n",
      "posx and posy should be finite values\n",
      "posx and posy should be finite values\n",
      "posx and posy should be finite values\n",
      "posx and posy should be finite values\n",
      "posx and posy should be finite values\n"
     ]
    },
    {
     "ename": "ValueError",
     "evalue": "cannot convert float NaN to integer",
     "output_type": "error",
     "traceback": [
      "\u001b[0;31m---------------------------------------------------------------------------\u001b[0m",
      "\u001b[0;31mValueError\u001b[0m                                Traceback (most recent call last)",
      "Input \u001b[0;32mIn [14]\u001b[0m, in \u001b[0;36m<cell line: 37>\u001b[0;34m()\u001b[0m\n\u001b[1;32m     35\u001b[0m data_dict_logs \u001b[38;5;241m=\u001b[39m model\u001b[38;5;241m.\u001b[39msummary_logs(save_dict\u001b[38;5;241m=\u001b[39m\u001b[38;5;28;01mFalse\u001b[39;00m)\n\u001b[1;32m     36\u001b[0m plot_trajectory(data_dict_logs, folder\u001b[38;5;241m=\u001b[39mfolder, name\u001b[38;5;241m=\u001b[39m\u001b[38;5;124m\"\u001b[39m\u001b[38;5;124m78_traj\u001b[39m\u001b[38;5;124m\"\u001b[39m, save_png\u001b[38;5;241m=\u001b[39m\u001b[38;5;28;01mTrue\u001b[39;00m, save_eps\u001b[38;5;241m=\u001b[39m\u001b[38;5;28;01mTrue\u001b[39;00m)\n\u001b[0;32m---> 37\u001b[0m \u001b[43mplot_regularization\u001b[49m\u001b[43m(\u001b[49m\u001b[43mdata_dict_logs\u001b[49m\u001b[43m,\u001b[49m\u001b[43m \u001b[49m\u001b[43mfolder\u001b[49m\u001b[38;5;241;43m=\u001b[39;49m\u001b[43mfolder\u001b[49m\u001b[43m,\u001b[49m\u001b[43m \u001b[49m\u001b[43mname\u001b[49m\u001b[38;5;241;43m=\u001b[39;49m\u001b[38;5;124;43m\"\u001b[39;49m\u001b[38;5;124;43m78_regu\u001b[39;49m\u001b[38;5;124;43m\"\u001b[39;49m\u001b[43m,\u001b[49m\u001b[43m \u001b[49m\u001b[43msave_png\u001b[49m\u001b[38;5;241;43m=\u001b[39;49m\u001b[38;5;28;43;01mTrue\u001b[39;49;00m\u001b[43m,\u001b[49m\u001b[43m \u001b[49m\u001b[43msave_eps\u001b[49m\u001b[38;5;241;43m=\u001b[39;49m\u001b[38;5;28;43;01mTrue\u001b[39;49;00m\u001b[43m)\u001b[49m\n",
      "File \u001b[0;32m/pfs/data5/home/kit/stud/uvnyg/gaminet/gaminet/utils.py:126\u001b[0m, in \u001b[0;36mplot_regularization\u001b[0;34m(data_dict_logs, log_scale, save_eps, save_png, folder, name)\u001b[0m\n\u001b[1;32m    124\u001b[0m     \u001b[38;5;28;01mif\u001b[39;00m \u001b[38;5;129;01mnot\u001b[39;00m os\u001b[38;5;241m.\u001b[39mpath\u001b[38;5;241m.\u001b[39mexists(folder):\n\u001b[1;32m    125\u001b[0m         os\u001b[38;5;241m.\u001b[39mmakedirs(folder)\n\u001b[0;32m--> 126\u001b[0m     \u001b[43mfig\u001b[49m\u001b[38;5;241;43m.\u001b[39;49m\u001b[43msavefig\u001b[49m\u001b[43m(\u001b[49m\u001b[38;5;124;43m\"\u001b[39;49m\u001b[38;5;132;43;01m%s\u001b[39;49;00m\u001b[38;5;124;43m.eps\u001b[39;49m\u001b[38;5;124;43m\"\u001b[39;49m\u001b[43m \u001b[49m\u001b[38;5;241;43m%\u001b[39;49m\u001b[43m \u001b[49m\u001b[43msave_path\u001b[49m\u001b[43m,\u001b[49m\u001b[43m \u001b[49m\u001b[43mbbox_inches\u001b[49m\u001b[38;5;241;43m=\u001b[39;49m\u001b[38;5;124;43m\"\u001b[39;49m\u001b[38;5;124;43mtight\u001b[39;49m\u001b[38;5;124;43m\"\u001b[39;49m\u001b[43m,\u001b[49m\u001b[43m \u001b[49m\u001b[43mdpi\u001b[49m\u001b[38;5;241;43m=\u001b[39;49m\u001b[38;5;241;43m100\u001b[39;49m\u001b[43m)\u001b[49m\n\u001b[1;32m    127\u001b[0m \u001b[38;5;28;01mif\u001b[39;00m save_png:\n\u001b[1;32m    128\u001b[0m     \u001b[38;5;28;01mif\u001b[39;00m \u001b[38;5;129;01mnot\u001b[39;00m os\u001b[38;5;241m.\u001b[39mpath\u001b[38;5;241m.\u001b[39mexists(folder):\n",
      "File \u001b[0;32m/opt/bwhpc/common/jupyter/tensorflow/2022-03-30/lib/python3.8/site-packages/matplotlib/figure.py:3019\u001b[0m, in \u001b[0;36mFigure.savefig\u001b[0;34m(self, fname, transparent, **kwargs)\u001b[0m\n\u001b[1;32m   3015\u001b[0m     \u001b[38;5;28;01mfor\u001b[39;00m ax \u001b[38;5;129;01min\u001b[39;00m \u001b[38;5;28mself\u001b[39m\u001b[38;5;241m.\u001b[39maxes:\n\u001b[1;32m   3016\u001b[0m         stack\u001b[38;5;241m.\u001b[39menter_context(\n\u001b[1;32m   3017\u001b[0m             ax\u001b[38;5;241m.\u001b[39mpatch\u001b[38;5;241m.\u001b[39m_cm_set(facecolor\u001b[38;5;241m=\u001b[39m\u001b[38;5;124m'\u001b[39m\u001b[38;5;124mnone\u001b[39m\u001b[38;5;124m'\u001b[39m, edgecolor\u001b[38;5;241m=\u001b[39m\u001b[38;5;124m'\u001b[39m\u001b[38;5;124mnone\u001b[39m\u001b[38;5;124m'\u001b[39m))\n\u001b[0;32m-> 3019\u001b[0m \u001b[38;5;28;43mself\u001b[39;49m\u001b[38;5;241;43m.\u001b[39;49m\u001b[43mcanvas\u001b[49m\u001b[38;5;241;43m.\u001b[39;49m\u001b[43mprint_figure\u001b[49m\u001b[43m(\u001b[49m\u001b[43mfname\u001b[49m\u001b[43m,\u001b[49m\u001b[43m \u001b[49m\u001b[38;5;241;43m*\u001b[39;49m\u001b[38;5;241;43m*\u001b[39;49m\u001b[43mkwargs\u001b[49m\u001b[43m)\u001b[49m\n",
      "File \u001b[0;32m/opt/bwhpc/common/jupyter/tensorflow/2022-03-30/lib/python3.8/site-packages/matplotlib/backend_bases.py:2295\u001b[0m, in \u001b[0;36mFigureCanvasBase.print_figure\u001b[0;34m(self, filename, dpi, facecolor, edgecolor, orientation, format, bbox_inches, pad_inches, bbox_extra_artists, backend, **kwargs)\u001b[0m\n\u001b[1;32m   2289\u001b[0m     renderer \u001b[38;5;241m=\u001b[39m _get_renderer(\n\u001b[1;32m   2290\u001b[0m         \u001b[38;5;28mself\u001b[39m\u001b[38;5;241m.\u001b[39mfigure,\n\u001b[1;32m   2291\u001b[0m         functools\u001b[38;5;241m.\u001b[39mpartial(\n\u001b[1;32m   2292\u001b[0m             print_method, orientation\u001b[38;5;241m=\u001b[39morientation)\n\u001b[1;32m   2293\u001b[0m     )\n\u001b[1;32m   2294\u001b[0m     \u001b[38;5;28;01mwith\u001b[39;00m \u001b[38;5;28mgetattr\u001b[39m(renderer, \u001b[38;5;124m\"\u001b[39m\u001b[38;5;124m_draw_disabled\u001b[39m\u001b[38;5;124m\"\u001b[39m, nullcontext)():\n\u001b[0;32m-> 2295\u001b[0m         \u001b[38;5;28;43mself\u001b[39;49m\u001b[38;5;241;43m.\u001b[39;49m\u001b[43mfigure\u001b[49m\u001b[38;5;241;43m.\u001b[39;49m\u001b[43mdraw\u001b[49m\u001b[43m(\u001b[49m\u001b[43mrenderer\u001b[49m\u001b[43m)\u001b[49m\n\u001b[1;32m   2297\u001b[0m \u001b[38;5;28;01mif\u001b[39;00m bbox_inches:\n\u001b[1;32m   2298\u001b[0m     \u001b[38;5;28;01mif\u001b[39;00m bbox_inches \u001b[38;5;241m==\u001b[39m \u001b[38;5;124m\"\u001b[39m\u001b[38;5;124mtight\u001b[39m\u001b[38;5;124m\"\u001b[39m:\n",
      "File \u001b[0;32m/opt/bwhpc/common/jupyter/tensorflow/2022-03-30/lib/python3.8/site-packages/matplotlib/artist.py:73\u001b[0m, in \u001b[0;36m_finalize_rasterization.<locals>.draw_wrapper\u001b[0;34m(artist, renderer, *args, **kwargs)\u001b[0m\n\u001b[1;32m     71\u001b[0m \u001b[38;5;129m@wraps\u001b[39m(draw)\n\u001b[1;32m     72\u001b[0m \u001b[38;5;28;01mdef\u001b[39;00m \u001b[38;5;21mdraw_wrapper\u001b[39m(artist, renderer, \u001b[38;5;241m*\u001b[39margs, \u001b[38;5;241m*\u001b[39m\u001b[38;5;241m*\u001b[39mkwargs):\n\u001b[0;32m---> 73\u001b[0m     result \u001b[38;5;241m=\u001b[39m \u001b[43mdraw\u001b[49m\u001b[43m(\u001b[49m\u001b[43martist\u001b[49m\u001b[43m,\u001b[49m\u001b[43m \u001b[49m\u001b[43mrenderer\u001b[49m\u001b[43m,\u001b[49m\u001b[43m \u001b[49m\u001b[38;5;241;43m*\u001b[39;49m\u001b[43margs\u001b[49m\u001b[43m,\u001b[49m\u001b[43m \u001b[49m\u001b[38;5;241;43m*\u001b[39;49m\u001b[38;5;241;43m*\u001b[39;49m\u001b[43mkwargs\u001b[49m\u001b[43m)\u001b[49m\n\u001b[1;32m     74\u001b[0m     \u001b[38;5;28;01mif\u001b[39;00m renderer\u001b[38;5;241m.\u001b[39m_rasterizing:\n\u001b[1;32m     75\u001b[0m         renderer\u001b[38;5;241m.\u001b[39mstop_rasterizing()\n",
      "File \u001b[0;32m/opt/bwhpc/common/jupyter/tensorflow/2022-03-30/lib/python3.8/site-packages/matplotlib/artist.py:50\u001b[0m, in \u001b[0;36mallow_rasterization.<locals>.draw_wrapper\u001b[0;34m(artist, renderer)\u001b[0m\n\u001b[1;32m     47\u001b[0m     \u001b[38;5;28;01mif\u001b[39;00m artist\u001b[38;5;241m.\u001b[39mget_agg_filter() \u001b[38;5;129;01mis\u001b[39;00m \u001b[38;5;129;01mnot\u001b[39;00m \u001b[38;5;28;01mNone\u001b[39;00m:\n\u001b[1;32m     48\u001b[0m         renderer\u001b[38;5;241m.\u001b[39mstart_filter()\n\u001b[0;32m---> 50\u001b[0m     \u001b[38;5;28;01mreturn\u001b[39;00m \u001b[43mdraw\u001b[49m\u001b[43m(\u001b[49m\u001b[43martist\u001b[49m\u001b[43m,\u001b[49m\u001b[43m \u001b[49m\u001b[43mrenderer\u001b[49m\u001b[43m)\u001b[49m\n\u001b[1;32m     51\u001b[0m \u001b[38;5;28;01mfinally\u001b[39;00m:\n\u001b[1;32m     52\u001b[0m     \u001b[38;5;28;01mif\u001b[39;00m artist\u001b[38;5;241m.\u001b[39mget_agg_filter() \u001b[38;5;129;01mis\u001b[39;00m \u001b[38;5;129;01mnot\u001b[39;00m \u001b[38;5;28;01mNone\u001b[39;00m:\n",
      "File \u001b[0;32m/opt/bwhpc/common/jupyter/tensorflow/2022-03-30/lib/python3.8/site-packages/matplotlib/figure.py:2810\u001b[0m, in \u001b[0;36mFigure.draw\u001b[0;34m(self, renderer)\u001b[0m\n\u001b[1;32m   2807\u001b[0m         \u001b[38;5;66;03m# ValueError can occur when resizing a window.\u001b[39;00m\n\u001b[1;32m   2809\u001b[0m \u001b[38;5;28mself\u001b[39m\u001b[38;5;241m.\u001b[39mpatch\u001b[38;5;241m.\u001b[39mdraw(renderer)\n\u001b[0;32m-> 2810\u001b[0m \u001b[43mmimage\u001b[49m\u001b[38;5;241;43m.\u001b[39;49m\u001b[43m_draw_list_compositing_images\u001b[49m\u001b[43m(\u001b[49m\n\u001b[1;32m   2811\u001b[0m \u001b[43m    \u001b[49m\u001b[43mrenderer\u001b[49m\u001b[43m,\u001b[49m\u001b[43m \u001b[49m\u001b[38;5;28;43mself\u001b[39;49m\u001b[43m,\u001b[49m\u001b[43m \u001b[49m\u001b[43martists\u001b[49m\u001b[43m,\u001b[49m\u001b[43m \u001b[49m\u001b[38;5;28;43mself\u001b[39;49m\u001b[38;5;241;43m.\u001b[39;49m\u001b[43msuppressComposite\u001b[49m\u001b[43m)\u001b[49m\n\u001b[1;32m   2813\u001b[0m \u001b[38;5;28;01mfor\u001b[39;00m sfig \u001b[38;5;129;01min\u001b[39;00m \u001b[38;5;28mself\u001b[39m\u001b[38;5;241m.\u001b[39msubfigs:\n\u001b[1;32m   2814\u001b[0m     sfig\u001b[38;5;241m.\u001b[39mdraw(renderer)\n",
      "File \u001b[0;32m/opt/bwhpc/common/jupyter/tensorflow/2022-03-30/lib/python3.8/site-packages/matplotlib/image.py:132\u001b[0m, in \u001b[0;36m_draw_list_compositing_images\u001b[0;34m(renderer, parent, artists, suppress_composite)\u001b[0m\n\u001b[1;32m    130\u001b[0m \u001b[38;5;28;01mif\u001b[39;00m not_composite \u001b[38;5;129;01mor\u001b[39;00m \u001b[38;5;129;01mnot\u001b[39;00m has_images:\n\u001b[1;32m    131\u001b[0m     \u001b[38;5;28;01mfor\u001b[39;00m a \u001b[38;5;129;01min\u001b[39;00m artists:\n\u001b[0;32m--> 132\u001b[0m         \u001b[43ma\u001b[49m\u001b[38;5;241;43m.\u001b[39;49m\u001b[43mdraw\u001b[49m\u001b[43m(\u001b[49m\u001b[43mrenderer\u001b[49m\u001b[43m)\u001b[49m\n\u001b[1;32m    133\u001b[0m \u001b[38;5;28;01melse\u001b[39;00m:\n\u001b[1;32m    134\u001b[0m     \u001b[38;5;66;03m# Composite any adjacent images together\u001b[39;00m\n\u001b[1;32m    135\u001b[0m     image_group \u001b[38;5;241m=\u001b[39m []\n",
      "File \u001b[0;32m/opt/bwhpc/common/jupyter/tensorflow/2022-03-30/lib/python3.8/site-packages/matplotlib/artist.py:50\u001b[0m, in \u001b[0;36mallow_rasterization.<locals>.draw_wrapper\u001b[0;34m(artist, renderer)\u001b[0m\n\u001b[1;32m     47\u001b[0m     \u001b[38;5;28;01mif\u001b[39;00m artist\u001b[38;5;241m.\u001b[39mget_agg_filter() \u001b[38;5;129;01mis\u001b[39;00m \u001b[38;5;129;01mnot\u001b[39;00m \u001b[38;5;28;01mNone\u001b[39;00m:\n\u001b[1;32m     48\u001b[0m         renderer\u001b[38;5;241m.\u001b[39mstart_filter()\n\u001b[0;32m---> 50\u001b[0m     \u001b[38;5;28;01mreturn\u001b[39;00m \u001b[43mdraw\u001b[49m\u001b[43m(\u001b[49m\u001b[43martist\u001b[49m\u001b[43m,\u001b[49m\u001b[43m \u001b[49m\u001b[43mrenderer\u001b[49m\u001b[43m)\u001b[49m\n\u001b[1;32m     51\u001b[0m \u001b[38;5;28;01mfinally\u001b[39;00m:\n\u001b[1;32m     52\u001b[0m     \u001b[38;5;28;01mif\u001b[39;00m artist\u001b[38;5;241m.\u001b[39mget_agg_filter() \u001b[38;5;129;01mis\u001b[39;00m \u001b[38;5;129;01mnot\u001b[39;00m \u001b[38;5;28;01mNone\u001b[39;00m:\n",
      "File \u001b[0;32m/opt/bwhpc/common/jupyter/tensorflow/2022-03-30/lib/python3.8/site-packages/matplotlib/axes/_base.py:3082\u001b[0m, in \u001b[0;36m_AxesBase.draw\u001b[0;34m(self, renderer)\u001b[0m\n\u001b[1;32m   3079\u001b[0m         a\u001b[38;5;241m.\u001b[39mdraw(renderer)\n\u001b[1;32m   3080\u001b[0m     renderer\u001b[38;5;241m.\u001b[39mstop_rasterizing()\n\u001b[0;32m-> 3082\u001b[0m \u001b[43mmimage\u001b[49m\u001b[38;5;241;43m.\u001b[39;49m\u001b[43m_draw_list_compositing_images\u001b[49m\u001b[43m(\u001b[49m\n\u001b[1;32m   3083\u001b[0m \u001b[43m    \u001b[49m\u001b[43mrenderer\u001b[49m\u001b[43m,\u001b[49m\u001b[43m \u001b[49m\u001b[38;5;28;43mself\u001b[39;49m\u001b[43m,\u001b[49m\u001b[43m \u001b[49m\u001b[43martists\u001b[49m\u001b[43m,\u001b[49m\u001b[43m \u001b[49m\u001b[38;5;28;43mself\u001b[39;49m\u001b[38;5;241;43m.\u001b[39;49m\u001b[43mfigure\u001b[49m\u001b[38;5;241;43m.\u001b[39;49m\u001b[43msuppressComposite\u001b[49m\u001b[43m)\u001b[49m\n\u001b[1;32m   3085\u001b[0m renderer\u001b[38;5;241m.\u001b[39mclose_group(\u001b[38;5;124m'\u001b[39m\u001b[38;5;124maxes\u001b[39m\u001b[38;5;124m'\u001b[39m)\n\u001b[1;32m   3086\u001b[0m \u001b[38;5;28mself\u001b[39m\u001b[38;5;241m.\u001b[39mstale \u001b[38;5;241m=\u001b[39m \u001b[38;5;28;01mFalse\u001b[39;00m\n",
      "File \u001b[0;32m/opt/bwhpc/common/jupyter/tensorflow/2022-03-30/lib/python3.8/site-packages/matplotlib/image.py:132\u001b[0m, in \u001b[0;36m_draw_list_compositing_images\u001b[0;34m(renderer, parent, artists, suppress_composite)\u001b[0m\n\u001b[1;32m    130\u001b[0m \u001b[38;5;28;01mif\u001b[39;00m not_composite \u001b[38;5;129;01mor\u001b[39;00m \u001b[38;5;129;01mnot\u001b[39;00m has_images:\n\u001b[1;32m    131\u001b[0m     \u001b[38;5;28;01mfor\u001b[39;00m a \u001b[38;5;129;01min\u001b[39;00m artists:\n\u001b[0;32m--> 132\u001b[0m         \u001b[43ma\u001b[49m\u001b[38;5;241;43m.\u001b[39;49m\u001b[43mdraw\u001b[49m\u001b[43m(\u001b[49m\u001b[43mrenderer\u001b[49m\u001b[43m)\u001b[49m\n\u001b[1;32m    133\u001b[0m \u001b[38;5;28;01melse\u001b[39;00m:\n\u001b[1;32m    134\u001b[0m     \u001b[38;5;66;03m# Composite any adjacent images together\u001b[39;00m\n\u001b[1;32m    135\u001b[0m     image_group \u001b[38;5;241m=\u001b[39m []\n",
      "File \u001b[0;32m/opt/bwhpc/common/jupyter/tensorflow/2022-03-30/lib/python3.8/site-packages/matplotlib/artist.py:50\u001b[0m, in \u001b[0;36mallow_rasterization.<locals>.draw_wrapper\u001b[0;34m(artist, renderer)\u001b[0m\n\u001b[1;32m     47\u001b[0m     \u001b[38;5;28;01mif\u001b[39;00m artist\u001b[38;5;241m.\u001b[39mget_agg_filter() \u001b[38;5;129;01mis\u001b[39;00m \u001b[38;5;129;01mnot\u001b[39;00m \u001b[38;5;28;01mNone\u001b[39;00m:\n\u001b[1;32m     48\u001b[0m         renderer\u001b[38;5;241m.\u001b[39mstart_filter()\n\u001b[0;32m---> 50\u001b[0m     \u001b[38;5;28;01mreturn\u001b[39;00m \u001b[43mdraw\u001b[49m\u001b[43m(\u001b[49m\u001b[43martist\u001b[49m\u001b[43m,\u001b[49m\u001b[43m \u001b[49m\u001b[43mrenderer\u001b[49m\u001b[43m)\u001b[49m\n\u001b[1;32m     51\u001b[0m \u001b[38;5;28;01mfinally\u001b[39;00m:\n\u001b[1;32m     52\u001b[0m     \u001b[38;5;28;01mif\u001b[39;00m artist\u001b[38;5;241m.\u001b[39mget_agg_filter() \u001b[38;5;129;01mis\u001b[39;00m \u001b[38;5;129;01mnot\u001b[39;00m \u001b[38;5;28;01mNone\u001b[39;00m:\n",
      "File \u001b[0;32m/opt/bwhpc/common/jupyter/tensorflow/2022-03-30/lib/python3.8/site-packages/matplotlib/axis.py:1158\u001b[0m, in \u001b[0;36mAxis.draw\u001b[0;34m(self, renderer, *args, **kwargs)\u001b[0m\n\u001b[1;32m   1155\u001b[0m     \u001b[38;5;28;01mreturn\u001b[39;00m\n\u001b[1;32m   1156\u001b[0m renderer\u001b[38;5;241m.\u001b[39mopen_group(\u001b[38;5;18m__name__\u001b[39m, gid\u001b[38;5;241m=\u001b[39m\u001b[38;5;28mself\u001b[39m\u001b[38;5;241m.\u001b[39mget_gid())\n\u001b[0;32m-> 1158\u001b[0m ticks_to_draw \u001b[38;5;241m=\u001b[39m \u001b[38;5;28;43mself\u001b[39;49m\u001b[38;5;241;43m.\u001b[39;49m\u001b[43m_update_ticks\u001b[49m\u001b[43m(\u001b[49m\u001b[43m)\u001b[49m\n\u001b[1;32m   1159\u001b[0m ticklabelBoxes, ticklabelBoxes2 \u001b[38;5;241m=\u001b[39m \u001b[38;5;28mself\u001b[39m\u001b[38;5;241m.\u001b[39m_get_tick_bboxes(ticks_to_draw,\n\u001b[1;32m   1160\u001b[0m                                                         renderer)\n\u001b[1;32m   1162\u001b[0m \u001b[38;5;28;01mfor\u001b[39;00m tick \u001b[38;5;129;01min\u001b[39;00m ticks_to_draw:\n",
      "File \u001b[0;32m/opt/bwhpc/common/jupyter/tensorflow/2022-03-30/lib/python3.8/site-packages/matplotlib/axis.py:1046\u001b[0m, in \u001b[0;36mAxis._update_ticks\u001b[0;34m(self)\u001b[0m\n\u001b[1;32m   1041\u001b[0m \u001b[38;5;124;03m\"\"\"\u001b[39;00m\n\u001b[1;32m   1042\u001b[0m \u001b[38;5;124;03mUpdate ticks (position and labels) using the current data interval of\u001b[39;00m\n\u001b[1;32m   1043\u001b[0m \u001b[38;5;124;03mthe axes.  Return the list of ticks that will be drawn.\u001b[39;00m\n\u001b[1;32m   1044\u001b[0m \u001b[38;5;124;03m\"\"\"\u001b[39;00m\n\u001b[1;32m   1045\u001b[0m major_locs \u001b[38;5;241m=\u001b[39m \u001b[38;5;28mself\u001b[39m\u001b[38;5;241m.\u001b[39mget_majorticklocs()\n\u001b[0;32m-> 1046\u001b[0m major_labels \u001b[38;5;241m=\u001b[39m \u001b[38;5;28;43mself\u001b[39;49m\u001b[38;5;241;43m.\u001b[39;49m\u001b[43mmajor\u001b[49m\u001b[38;5;241;43m.\u001b[39;49m\u001b[43mformatter\u001b[49m\u001b[38;5;241;43m.\u001b[39;49m\u001b[43mformat_ticks\u001b[49m\u001b[43m(\u001b[49m\u001b[43mmajor_locs\u001b[49m\u001b[43m)\u001b[49m\n\u001b[1;32m   1047\u001b[0m major_ticks \u001b[38;5;241m=\u001b[39m \u001b[38;5;28mself\u001b[39m\u001b[38;5;241m.\u001b[39mget_major_ticks(\u001b[38;5;28mlen\u001b[39m(major_locs))\n\u001b[1;32m   1048\u001b[0m \u001b[38;5;28mself\u001b[39m\u001b[38;5;241m.\u001b[39mmajor\u001b[38;5;241m.\u001b[39mformatter\u001b[38;5;241m.\u001b[39mset_locs(major_locs)\n",
      "File \u001b[0;32m/opt/bwhpc/common/jupyter/tensorflow/2022-03-30/lib/python3.8/site-packages/matplotlib/ticker.py:223\u001b[0m, in \u001b[0;36mFormatter.format_ticks\u001b[0;34m(self, values)\u001b[0m\n\u001b[1;32m    221\u001b[0m \u001b[38;5;28;01mdef\u001b[39;00m \u001b[38;5;21mformat_ticks\u001b[39m(\u001b[38;5;28mself\u001b[39m, values):\n\u001b[1;32m    222\u001b[0m     \u001b[38;5;124;03m\"\"\"Return the tick labels for all the ticks at once.\"\"\"\u001b[39;00m\n\u001b[0;32m--> 223\u001b[0m     \u001b[38;5;28;43mself\u001b[39;49m\u001b[38;5;241;43m.\u001b[39;49m\u001b[43mset_locs\u001b[49m\u001b[43m(\u001b[49m\u001b[43mvalues\u001b[49m\u001b[43m)\u001b[49m\n\u001b[1;32m    224\u001b[0m     \u001b[38;5;28;01mreturn\u001b[39;00m [\u001b[38;5;28mself\u001b[39m(value, i) \u001b[38;5;28;01mfor\u001b[39;00m i, value \u001b[38;5;129;01min\u001b[39;00m \u001b[38;5;28menumerate\u001b[39m(values)]\n",
      "File \u001b[0;32m/opt/bwhpc/common/jupyter/tensorflow/2022-03-30/lib/python3.8/site-packages/matplotlib/ticker.py:712\u001b[0m, in \u001b[0;36mScalarFormatter.set_locs\u001b[0;34m(self, locs)\u001b[0m\n\u001b[1;32m    710\u001b[0m     \u001b[38;5;28mself\u001b[39m\u001b[38;5;241m.\u001b[39m_compute_offset()\n\u001b[1;32m    711\u001b[0m \u001b[38;5;28mself\u001b[39m\u001b[38;5;241m.\u001b[39m_set_order_of_magnitude()\n\u001b[0;32m--> 712\u001b[0m \u001b[38;5;28;43mself\u001b[39;49m\u001b[38;5;241;43m.\u001b[39;49m\u001b[43m_set_format\u001b[49m\u001b[43m(\u001b[49m\u001b[43m)\u001b[49m\n",
      "File \u001b[0;32m/opt/bwhpc/common/jupyter/tensorflow/2022-03-30/lib/python3.8/site-packages/matplotlib/ticker.py:805\u001b[0m, in \u001b[0;36mScalarFormatter._set_format\u001b[0;34m(self)\u001b[0m\n\u001b[1;32m    802\u001b[0m \u001b[38;5;28;01mif\u001b[39;00m \u001b[38;5;28mlen\u001b[39m(\u001b[38;5;28mself\u001b[39m\u001b[38;5;241m.\u001b[39mlocs) \u001b[38;5;241m<\u001b[39m \u001b[38;5;241m2\u001b[39m:\n\u001b[1;32m    803\u001b[0m     \u001b[38;5;66;03m# We needed the end points only for the loc_range calculation.\u001b[39;00m\n\u001b[1;32m    804\u001b[0m     locs \u001b[38;5;241m=\u001b[39m locs[:\u001b[38;5;241m-\u001b[39m\u001b[38;5;241m2\u001b[39m]\n\u001b[0;32m--> 805\u001b[0m loc_range_oom \u001b[38;5;241m=\u001b[39m \u001b[38;5;28mint\u001b[39m(\u001b[43mmath\u001b[49m\u001b[38;5;241;43m.\u001b[39;49m\u001b[43mfloor\u001b[49m\u001b[43m(\u001b[49m\u001b[43mmath\u001b[49m\u001b[38;5;241;43m.\u001b[39;49m\u001b[43mlog10\u001b[49m\u001b[43m(\u001b[49m\u001b[43mloc_range\u001b[49m\u001b[43m)\u001b[49m\u001b[43m)\u001b[49m)\n\u001b[1;32m    806\u001b[0m \u001b[38;5;66;03m# first estimate:\u001b[39;00m\n\u001b[1;32m    807\u001b[0m sigfigs \u001b[38;5;241m=\u001b[39m \u001b[38;5;28mmax\u001b[39m(\u001b[38;5;241m0\u001b[39m, \u001b[38;5;241m3\u001b[39m \u001b[38;5;241m-\u001b[39m loc_range_oom)\n",
      "\u001b[0;31mValueError\u001b[0m: cannot convert float NaN to integer"
     ]
    }
   ],
   "source": [
    "folder = \"./results/\"\n",
    "if not os.path.exists(folder):\n",
    "    os.makedirs(folder)\n",
    "\n",
    "#with strategy.scope():\n",
    "model = GAMINet(meta_info=meta_info, interact_num=20,\n",
    "        interact_arch=[40] * 4, subnet_arch=[40] * 4, #*5\n",
    "        batch_size=256, task_type=task_type, activation_func=tf.nn.relu, # batch=200\n",
    "        main_effect_epochs=1000, interaction_epochs=1000, tuning_epochs=500, #ep=5000\n",
    "        lr_bp=[0.0001, 0.0001, 0.0001], early_stop_thres=[50, 50, 50],\n",
    "        heredity=True, loss_threshold=0.01, reg_clarity=0.1,\n",
    "        verbose=True, val_ratio=0.2, random_state=0, model_dir='./models/gaminet/')# , strategy=strategy)\n",
    "\n",
    "# initialize wandb\n",
    "wandb.init(project=\"interpretable-ml\", group=\"gaminet-studies\")\n",
    "wandb.log({\"learning_rate\" : model.lr_bp, \"max_epochs\" : model.main_effect_epochs+model.interaction_epochs,\n",
    "#           #\"optimizer\" : model.optimizer, \n",
    "           \"n_features\" : train_x.shape[1],\n",
    "           #\"loss_function\" : model.loss_fn\n",
    "           })\n",
    "\n",
    "model.fit(train_x, train_y)\n",
    "\n",
    "#wandb.log_artifact(model)\n",
    "\n",
    "#wandb.log({\n",
    "           #\"maineffect train loss\" : model.err_train_main_effect_training [-1],\n",
    "           #\"maineffect val loss\" : model.err_val_main_effect_training[-1],\n",
    "           #\"interaction train loss\" : model.err_train_interaction_training[-1],\n",
    "           #\"interaction val loss\" : model.err_val_interaction_training[-1],\n",
    "           #\"Fine tuning train loss\" : model.err_train_tuning[-1],\n",
    "           #\"Fine tuning val loss\" : model.err_val_tuning[-1]\n",
    "#})\n",
    "\n",
    "data_dict_logs = model.summary_logs(save_dict=False)\n",
    "plot_trajectory(data_dict_logs, folder=folder, name=\"78_traj\", save_png=True, save_eps=True)\n",
    "plot_regularization(data_dict_logs, folder=folder, name=\"78_regu\", save_png=True, save_eps=True)"
   ]
  },
  {
   "cell_type": "code",
   "execution_count": 15,
   "id": "7ec6bb11-bd76-45fd-9b9e-571e0009693d",
   "metadata": {},
   "outputs": [],
   "source": [
    "prev_model = pd.read_pickle('./artifacts/current_model.pickle')"
   ]
  },
  {
   "cell_type": "code",
   "execution_count": 38,
   "id": "bfba916a-528f-4a12-8c8d-71218eee3c0c",
   "metadata": {},
   "outputs": [
    {
     "ename": "TypeError",
     "evalue": "only integer scalar arrays can be converted to a scalar index",
     "output_type": "error",
     "traceback": [
      "\u001b[0;31m---------------------------------------------------------------------------\u001b[0m",
      "\u001b[0;31mTypeError\u001b[0m                                 Traceback (most recent call last)",
      "Input \u001b[0;32mIn [38]\u001b[0m, in \u001b[0;36m<cell line: 3>\u001b[0;34m()\u001b[0m\n\u001b[1;32m      1\u001b[0m idx \u001b[38;5;241m=\u001b[39m prev_model[\u001b[38;5;124m'\u001b[39m\u001b[38;5;124mactive_main_effect_index\u001b[39m\u001b[38;5;124m'\u001b[39m]\n\u001b[1;32m      2\u001b[0m feature_dict \u001b[38;5;241m=\u001b[39m \u001b[38;5;28mlist\u001b[39m(meta_info\u001b[38;5;241m.\u001b[39mkeys())\n\u001b[0;32m----> 3\u001b[0m \u001b[38;5;28mprint\u001b[39m(\u001b[38;5;124m\"\u001b[39m\u001b[38;5;124mMain effect importance :\u001b[39m\u001b[38;5;124m\"\u001b[39m, \u001b[43mfeature_dict\u001b[49m\u001b[43m[\u001b[49m\u001b[43midx\u001b[49m\u001b[43m]\u001b[49m)\n",
      "\u001b[0;31mTypeError\u001b[0m: only integer scalar arrays can be converted to a scalar index"
     ]
    }
   ],
   "source": [
    "# this was an attempt to see the features ranked by importance...\n",
    "idx = prev_model['active_main_effect_index']\n",
    "feature_dict = list(meta_info.keys())\n",
    "print(\"Main effect importance :\", feature_dict[idx])"
   ]
  },
  {
   "cell_type": "markdown",
   "id": "65713538-d0a0-45aa-86f9-ac64b79318c5",
   "metadata": {},
   "source": [
    "## Save model for later use\n",
    "[https://www.tensorflow.org/api_docs/python/tf/keras/models/save_model]"
   ]
  },
  {
   "cell_type": "code",
   "execution_count": null,
   "id": "93a84927-79bc-419a-b86f-e5bd0c05fe8b",
   "metadata": {},
   "outputs": [],
   "source": []
  },
  {
   "cell_type": "code",
   "execution_count": null,
   "id": "5060f65e-c600-4465-ad1c-fd8c1ba23623",
   "metadata": {
    "tags": []
   },
   "outputs": [],
   "source": [
    "#print(Out)"
   ]
  },
  {
   "cell_type": "code",
   "execution_count": null,
   "id": "57ad8be1-ce27-4c18-8f63-6c90f815c366",
   "metadata": {},
   "outputs": [],
   "source": [
    "filepath='./models/'\n",
    "\n",
    "tf.keras.models.save_model(\n",
    "    model,\n",
    "    filepath,\n",
    "    overwrite=True,\n",
    "    include_optimizer=True,\n",
    "    save_format=None,\n",
    "    signatures=None,\n",
    "    options=None,\n",
    "    save_traces=True\n",
    ")"
   ]
  },
  {
   "cell_type": "markdown",
   "id": "15b089ce-3d25-4089-8f66-a9178378ee8f",
   "metadata": {},
   "source": [
    "## Final model evaluation and interpretability"
   ]
  },
  {
   "cell_type": "code",
   "execution_count": null,
   "id": "852b372c-dade-4e4d-aea9-24d4eb4e5acd",
   "metadata": {},
   "outputs": [],
   "source": [
    "pred_train = model.predict(train_x)\n",
    "pred_test = model.predict(test_x)\n",
    "gaminet_rmse = np.hstack([np.round(get_rmse(train_y, pred_train),5),\n",
    "                      np.round(get_rmse(test_y, pred_test),5)])\n",
    "gaminet_mse = np.hstack([np.round(get_mse(train_y, pred_train),5),\n",
    "                      np.round(get_mse(test_y, pred_test),5)])\n",
    "gaminet_mae = np.hstack([np.round(get_mae(train_y, pred_train),5),\n",
    "                      np.round(get_mae(test_y, pred_test),5)])\n",
    "\n",
    "wandb.log({\"rmse_train\" : gaminet_rmse[0], \"rmse_test\" : gaminet_rmse[1],\n",
    "           \"mse_train\" : gaminet_mse[0], \"mse_test\" : gaminet_mse[1],\n",
    "           \"mae_train\" : gaminet_mae[0], \"mae_test\" : gaminet_mae[1]\n",
    "           })\n",
    "wandb.finish()\n",
    "print(gaminet_mae)"
   ]
  },
  {
   "cell_type": "code",
   "execution_count": null,
   "id": "9559b578-9591-4b48-bd2c-250156f1b051",
   "metadata": {},
   "outputs": [],
   "source": [
    "# Plot global explanations\n",
    "data_dict_global = model.global_explain(save_dict=True, folder=folder, name=\"explain_global\")\n",
    "global_visualize_density(data_dict_global, folder=folder, name=\"explain_global\",\n",
    "                         main_effect_num=8, interaction_num=4, cols_per_row=4, save_png=True, save_eps=True)"
   ]
  },
  {
   "cell_type": "code",
   "execution_count": null,
   "id": "d836f00e-2cb0-427f-b15a-fbc085ff097c",
   "metadata": {},
   "outputs": [],
   "source": [
    "# feature importance plot\n",
    "feature_importance_visualize(data_dict_global, save_png=True)"
   ]
  },
  {
   "cell_type": "code",
   "execution_count": null,
   "id": "a9916a2d-3e87-44f5-9b5a-f3dbdc38854d",
   "metadata": {},
   "outputs": [],
   "source": [
    "# local explanations\n",
    "data_dict_local = model.local_explain(test_x[[5]], test_y[[5]], save_dict=False)\n",
    "local_visualize(data_dict_local[0], save_png=False)"
   ]
  }
 ],
 "metadata": {
  "kernelspec": {
   "display_name": "ml-venv",
   "language": "python",
   "name": "ml-venv"
  },
  "language_info": {
   "codemirror_mode": {
    "name": "ipython",
    "version": 3
   },
   "file_extension": ".py",
   "mimetype": "text/x-python",
   "name": "python",
   "nbconvert_exporter": "python",
   "pygments_lexer": "ipython3",
   "version": "3.8.6"
  }
 },
 "nbformat": 4,
 "nbformat_minor": 5
}
