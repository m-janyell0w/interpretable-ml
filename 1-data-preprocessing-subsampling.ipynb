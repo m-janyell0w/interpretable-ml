{
 "cells": [
  {
   "cell_type": "code",
   "execution_count": 1,
   "id": "e1f7b64a-f414-4701-a54b-4a868e256bca",
   "metadata": {},
   "outputs": [],
   "source": [
    "import pandas as pd\n",
    "dateparse = lambda x: pd.to_datetime(x, format='%Y-%m-%d', errors='coerce')\n",
    "data = pd.read_csv('./data/data_processed_scaled.csv', index_col=[\"date\",\"permno\"],\n",
    "                           parse_dates=['date'], date_parser=dateparse, skipinitialspace=True)"
   ]
  },
  {
   "cell_type": "code",
   "execution_count": 13,
   "id": "59a60577-b7bd-4a9b-94ff-26997988c3a4",
   "metadata": {
    "tags": []
   },
   "outputs": [
    {
     "data": {
      "text/plain": [
       "1343611"
      ]
     },
     "execution_count": 13,
     "metadata": {},
     "output_type": "execute_result"
    }
   ],
   "source": [
    "len(set(data.stock.values))"
   ]
  },
  {
   "cell_type": "code",
   "execution_count": 17,
   "id": "d8187b9e-5ef3-4ca1-aa01-a626afe34d20",
   "metadata": {},
   "outputs": [
    {
     "name": "stdout",
     "output_type": "stream",
     "text": [
      "(120944, 68)\n"
     ]
    }
   ],
   "source": [
    "### Subsample dataset for faster modelling\n",
    "permnos = data.index.droplevel(['date'])\n",
    "\n",
    "# select 500 permnos randomly\n",
    "import random\n",
    "selected_permnos = random.choices(permnos, k=500)\n",
    "\n",
    "# Slice dataset to subsample randomly\n",
    "crsp_df_subsample_500 = data[data.index.get_level_values('permno').isin(selected_permnos)]\n",
    "print(crsp_df_subsample_500.shape)\n",
    "\n",
    "### Store subsampled data set\n",
    "#crsp_df_subsample_100.to_pickle(f\"{root_path}/subsample_processed_scaled.pkl\")\n",
    "crsp_df_subsample_500.to_csv(\"./data/subsample_processed_scaled_500.csv\")"
   ]
  },
  {
   "cell_type": "code",
   "execution_count": null,
   "id": "6cfe5aab-fc09-44b8-ad61-341a69dea6ab",
   "metadata": {},
   "outputs": [],
   "source": []
  }
 ],
 "metadata": {
  "kernelspec": {
   "display_name": "Python 3 (ipykernel)",
   "language": "python",
   "name": "python3"
  },
  "language_info": {
   "codemirror_mode": {
    "name": "ipython",
    "version": 3
   },
   "file_extension": ".py",
   "mimetype": "text/x-python",
   "name": "python",
   "nbconvert_exporter": "python",
   "pygments_lexer": "ipython3",
   "version": "3.8.6"
  }
 },
 "nbformat": 4,
 "nbformat_minor": 5
}
