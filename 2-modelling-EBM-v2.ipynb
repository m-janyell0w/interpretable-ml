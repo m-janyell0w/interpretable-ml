{
 "cells": [
  {
   "cell_type": "markdown",
   "id": "5e0e103d-168f-450e-8256-73b08f6de291",
   "metadata": {
    "id": "5e0e103d-168f-450e-8256-73b08f6de291"
   },
   "source": [
    "# Explainable Boosting Machine (EBM) - REVISED\n",
    "\n",
    "Ommit using month and year as features, such as freyberger et al."
   ]
  },
  {
   "cell_type": "code",
   "execution_count": 1,
   "id": "55QoRfCkM0UZ",
   "metadata": {
    "colab": {
     "base_uri": "https://localhost:8080/",
     "height": 88
    },
    "collapsed": true,
    "executionInfo": {
     "elapsed": 24974,
     "status": "ok",
     "timestamp": 1656662341234,
     "user": {
      "displayName": "Micha Ianniello",
      "userId": "13712894490193878768"
     },
     "user_tz": -120
    },
    "id": "55QoRfCkM0UZ",
    "jupyter": {
     "outputs_hidden": true
    },
    "outputId": "ad8ec2e9-5db9-44e6-8f45-0e49bf76a54e",
    "tags": []
   },
   "outputs": [
    {
     "name": "stderr",
     "output_type": "stream",
     "text": [
      "/opt/bwhpc/common/jupyter/tensorflow/2022-03-30/lib/python3.8/site-packages/numpy/core/getlimits.py:499: UserWarning: The value of the smallest subnormal for <class 'numpy.float32'> type is zero.\n",
      "  setattr(self, word, getattr(machar, word).flat[0])\n",
      "/opt/bwhpc/common/jupyter/tensorflow/2022-03-30/lib/python3.8/site-packages/numpy/core/getlimits.py:89: UserWarning: The value of the smallest subnormal for <class 'numpy.float32'> type is zero.\n",
      "  return self._float_to_str(self.smallest_subnormal)\n",
      "/opt/bwhpc/common/jupyter/tensorflow/2022-03-30/lib/python3.8/site-packages/numpy/core/getlimits.py:499: UserWarning: The value of the smallest subnormal for <class 'numpy.float64'> type is zero.\n",
      "  setattr(self, word, getattr(machar, word).flat[0])\n",
      "/opt/bwhpc/common/jupyter/tensorflow/2022-03-30/lib/python3.8/site-packages/numpy/core/getlimits.py:89: UserWarning: The value of the smallest subnormal for <class 'numpy.float64'> type is zero.\n",
      "  return self._float_to_str(self.smallest_subnormal)\n",
      "Failed to detect the name of this notebook, you can set it manually with the WANDB_NOTEBOOK_NAME environment variable to enable code saving.\n",
      "\u001b[34m\u001b[1mwandb\u001b[0m: Currently logged in as: \u001b[33mm-janyellow\u001b[0m. Use \u001b[1m`wandb login --relogin`\u001b[0m to force relogin\n"
     ]
    },
    {
     "data": {
      "text/plain": [
       "True"
      ]
     },
     "execution_count": 1,
     "metadata": {},
     "output_type": "execute_result"
    }
   ],
   "source": [
    "import wandb\n",
    "wandb.login()"
   ]
  },
  {
   "cell_type": "code",
   "execution_count": 2,
   "id": "3da347da-2928-4c7a-b7af-3fa938d5f393",
   "metadata": {
    "executionInfo": {
     "elapsed": 1093,
     "status": "ok",
     "timestamp": 1656662363454,
     "user": {
      "displayName": "Micha Ianniello",
      "userId": "13712894490193878768"
     },
     "user_tz": -120
    },
    "id": "3da347da-2928-4c7a-b7af-3fa938d5f393"
   },
   "outputs": [],
   "source": [
    "# import basic libraries\n",
    "from datetime import datetime\n",
    "import pickle\n",
    "\n",
    "from interpret.glassbox import ExplainableBoostingRegressor\n",
    "from interpret import show\n",
    "import matplotlib.pyplot as plt\n",
    "%matplotlib inline\n",
    "#pt.style.use(\"seaborn\")\n",
    "import numpy as np\n",
    "import random\n",
    "import pandas as pd\n",
    "from sklearn.model_selection import train_test_split\n",
    "from sklearn.preprocessing import StandardScaler\n",
    "from sklearn.metrics import mean_absolute_error, mean_squared_error\n",
    "\n",
    "from src.utils import data_loader, time_series_splitter\n",
    "from src.ebm.plot import visualize_sample_prediction, importance_bar_chart\n",
    "from src.ebm.train import EbmPipeline, save_model, load_model\n",
    "\n",
    "root_path = \"./data/\"\n",
    "model_dir = \"./models/ebm/\""
   ]
  },
  {
   "cell_type": "code",
   "execution_count": 3,
   "id": "88761df4-f538-4224-8e6e-2d3370dc4053",
   "metadata": {},
   "outputs": [],
   "source": [
    "# configure interpret to plot in notebook not using a local host\n",
    "from interpret.provider import InlineProvider\n",
    "from interpret import set_visualize_provider\n",
    "\n",
    "set_visualize_provider(InlineProvider())"
   ]
  },
  {
   "cell_type": "code",
   "execution_count": 4,
   "id": "b7a6471f-12d0-4d95-bf74-d71eb9ddcfcc",
   "metadata": {
    "executionInfo": {
     "elapsed": 1785,
     "status": "ok",
     "timestamp": 1656662373441,
     "user": {
      "displayName": "Micha Ianniello",
      "userId": "13712894490193878768"
     },
     "user_tz": -120
    },
    "id": "b7a6471f-12d0-4d95-bf74-d71eb9ddcfcc"
   },
   "outputs": [],
   "source": [
    "subsample_path = 'subsample_processed_scaled_1000.csv'\n",
    "#subsample = data_loader(root_path, subsample_path, pickle=False)\n",
    "#subsample.shape'"
   ]
  },
  {
   "cell_type": "code",
   "execution_count": 5,
   "id": "0ed5a929-21fd-4f3f-8fb8-0264352e835c",
   "metadata": {
    "executionInfo": {
     "elapsed": 2,
     "status": "ok",
     "timestamp": 1656662374213,
     "user": {
      "displayName": "Micha Ianniello",
      "userId": "13712894490193878768"
     },
     "user_tz": -120
    },
    "id": "0ed5a929-21fd-4f3f-8fb8-0264352e835c"
   },
   "outputs": [],
   "source": [
    "# Load full dataset with multiindex enabled\n",
    "fullsample_path = 'data_processed_scaled.pkl'\n",
    "#fullsample = data_loader(root_path, fullsample_path, pickle=True)\n",
    "#data.shape"
   ]
  },
  {
   "cell_type": "markdown",
   "id": "2t0Gj0S2ikqC",
   "metadata": {
    "id": "2t0Gj0S2ikqC",
    "tags": []
   },
   "source": [
    "### Hyperparameter tuning\n",
    "(https://towardsdatascience.com/bayesian-optimization-for-hyperparameter-tuning-how-and-why-655b0ee0b399)"
   ]
  },
  {
   "cell_type": "code",
   "execution_count": 6,
   "id": "vu2N5hwhPSg8",
   "metadata": {
    "executionInfo": {
     "elapsed": 228,
     "status": "ok",
     "timestamp": 1656662542004,
     "user": {
      "displayName": "Micha Ianniello",
      "userId": "13712894490193878768"
     },
     "user_tz": -120
    },
    "id": "vu2N5hwhPSg8"
   },
   "outputs": [],
   "source": [
    "from skopt import BayesSearchCV\n",
    "\n",
    "# Lets try Bayesian search first\n",
    "X_train, X_test, _, y_train, y_test, _ = time_series_splitter(subsample)"
   ]
  },
  {
   "cell_type": "code",
   "execution_count": 7,
   "id": "DzUvtlGROjnW",
   "metadata": {
    "colab": {
     "base_uri": "https://localhost:8080/"
    },
    "executionInfo": {
     "elapsed": 304,
     "status": "ok",
     "timestamp": 1656662582172,
     "user": {
      "displayName": "Micha Ianniello",
      "userId": "13712894490193878768"
     },
     "user_tz": -120
    },
    "id": "DzUvtlGROjnW",
    "outputId": "fd78d94a-9152-49c0-c0f6-1c648d088dc5"
   },
   "outputs": [
    {
     "name": "stdout",
     "output_type": "stream",
     "text": [
      "Optimization took (12.0, 2) minutes.\n"
     ]
    }
   ],
   "source": [
    "# Bayesian Search for hyperparm tuning\n",
    "n_iter = 32\n",
    "\n",
    "param_grid = {\n",
    "    \"learning_rate\": (0.0001, 0.1, \"log-uniform\"),\n",
    "    \"max_rounds\": (3000, 4000,  5000, 6000) ,\n",
    "    \"early_stopping_rounds\": (30, 50),\n",
    "    \"max_bins\": (128, 256),\n",
    "    \"early_stopping_tolerance\" : (0.00001, 0.01, \"log-uniform\")\n",
    "}\n",
    "\n",
    "reg_bay = BayesSearchCV(estimator=ExplainableBoostingRegressor(random_state=0, n_jobs=-2),\n",
    "                    search_spaces=param_grid,\n",
    "                    n_iter=n_iter,\n",
    "                    cv=5,\n",
    "                    n_jobs=8,\n",
    "                    scoring='neg_mean_squared_error',\n",
    "                    random_state=0)\n",
    "\n",
    "start_time = datetime.now()\n",
    "\n",
    "# Run Bayes Search (this takes a while)\n",
    "model_bay = reg_bay.fit(X_train, y_train)\n",
    "\n",
    "execution_time = (datetime.now() - start_time).total_seconds()\n",
    "print(f\"Optimization took {np.round(execution_time/60),2} minutes.\")\n",
    "\n",
    "# model can be saved, used for predictions or scoring\n",
    "best_parms = model_bay.best_params_\n",
    "\n",
    "with open(f'best_params_ebm.pkl', 'wb') as f:\n",
    "        pickle.dump(best_parms, f)"
   ]
  },
  {
   "cell_type": "code",
   "execution_count": 11,
   "id": "95dee86b-e296-4f79-9664-ae1f3b675940",
   "metadata": {},
   "outputs": [],
   "source": [
    "with open(f'{model_dir}best_params_ebm.pkl', 'wb') as f:\n",
    "        pickle.dump(best_parms, f)"
   ]
  },
  {
   "cell_type": "code",
   "execution_count": 12,
   "id": "yXJsO112Z_vL",
   "metadata": {
    "colab": {
     "base_uri": "https://localhost:8080/"
    },
    "executionInfo": {
     "elapsed": 271,
     "status": "ok",
     "timestamp": 1656618993520,
     "user": {
      "displayName": "Micha Ianniello",
      "userId": "13712894490193878768"
     },
     "user_tz": -120
    },
    "id": "yXJsO112Z_vL",
    "outputId": "b0456bdc-3075-4036-8768-f3014b495635"
   },
   "outputs": [
    {
     "name": "stdout",
     "output_type": "stream",
     "text": [
      "Best params are: OrderedDict([('early_stopping_rounds', 38), ('early_stopping_tolerance', 3.91595624545083e-05), ('learning_rate', 0.00025746896437686993), ('max_bins', 164), ('max_rounds', 4000)]) \n",
      " with best score of -0.012647079720771882 \n"
     ]
    }
   ],
   "source": [
    "# model can be saved, used for predictions or scoring\n",
    "best_parms = model_bay.best_params_\n",
    "best_score = model_bay.best_score_\n",
    "best_estimator = model_bay.best_estimator_\n",
    "cv_results = model_bay.cv_results_\n",
    "print(f\"Best params are: {best_parms} \\n with best score of {best_score} \")"
   ]
  },
  {
   "cell_type": "code",
   "execution_count": 9,
   "id": "Ff_8XEb8icdg",
   "metadata": {
    "executionInfo": {
     "elapsed": 229,
     "status": "ok",
     "timestamp": 1656663277379,
     "user": {
      "displayName": "Micha Ianniello",
      "userId": "13712894490193878768"
     },
     "user_tz": -120
    },
    "id": "Ff_8XEb8icdg"
   },
   "outputs": [],
   "source": [
    "# fixed best parms identified by bayessearch and experiments and rounded them\n",
    "best_parms_0 = dict([('early_stopping_rounds', 37), ('early_stopping_tolerance', 0.0002), \n",
    "                    ('learning_rate', 0.00061), ('max_bins', 230), ('max_rounds', 3000)])\n",
    "\n",
    "best_params_1 = dict([('early_stopping_rounds', 37), ('early_stopping_tolerance', 0.00020919480782183626), \n",
    "                     ('learning_rate', 0.000609840586504895), ('max_bins', 230), ('max_rounds', 3000)])\n",
    "\n",
    "with open(f'best_params_ebm_0.pkl', 'wb') as f:\n",
    "        pickle.dump(best_parms_0, f)"
   ]
  },
  {
   "cell_type": "markdown",
   "id": "bfda6998-3dfe-48f6-ad47-b09aacc2feab",
   "metadata": {
    "id": "bfda6998-3dfe-48f6-ad47-b09aacc2feab",
    "tags": []
   },
   "source": [
    "## Modelling\n",
    "\n",
    "Split data into train and test sets using slicing (like in https://towardsdatascience.com/time-series-from-scratch-train-test-splits-and-evaluation-metrics-4fd654de1b37). <br/>\n",
    "\n",
    "Set sizes according to Freyberger et al, 2019 (p.2356):\n",
    "\n",
    "Train size: 1965 to 1985\n",
    "Test size: 1986 to 1990"
   ]
  },
  {
   "cell_type": "code",
   "execution_count": 6,
   "id": "4f5e5df6-f4a3-43a0-8ced-a37bdab71f83",
   "metadata": {
    "tags": []
   },
   "outputs": [],
   "source": [
    "# load saved hyperparams\n",
    "with open(f'{model_dir}best_params_ebm.pkl', 'rb') as f:\n",
    "        best_parms = pickle.load(f)"
   ]
  },
  {
   "cell_type": "code",
   "execution_count": 4,
   "id": "0bc3676e-eaab-47ff-b2d7-1738ed9058c3",
   "metadata": {},
   "outputs": [],
   "source": [
    "def normalize_target(data):\n",
    "    \"\"\"\n",
    "    Normalizes target variable y of a dataset.\n",
    "    \"\"\"\n",
    "    scaler = StandardScaler()\n",
    "    target = data.TARGET.values.reshape(-1, 1)\n",
    "    #print(target.shape)\n",
    "    data['TARGET'] = scaler.fit_transform(target)\n",
    "    return data"
   ]
  },
  {
   "cell_type": "markdown",
   "id": "edd814b4-3f9a-489d-9ce3-7a2dbcbfdad9",
   "metadata": {},
   "source": [
    "## Train on subsample"
   ]
  },
  {
   "cell_type": "code",
   "execution_count": 5,
   "id": "550da11e-edfa-4c0d-9a3e-409e171311e0",
   "metadata": {
    "id": "550da11e-edfa-4c0d-9a3e-409e171311e0",
    "outputId": "cfb60902-0be4-4980-ea2b-b339de2fc689",
    "tags": []
   },
   "outputs": [
    {
     "name": "stdout",
     "output_type": "stream",
     "text": [
      "Dataset has shape:  (220700, 68)\n",
      "Dataset has shape  (220700, 64)\n"
     ]
    }
   ],
   "source": [
    "# Training procedure\n",
    "model = ExplainableBoostingRegressor(random_state=0)\n",
    "\n",
    "# setup hyperparams\n",
    "param_dict = dict(best_parms)\n",
    "model.set_params(**param_dict)\n",
    "\n",
    "##### get data (without extra features to be comparable with freyberger et al)########\n",
    "data = subsample\n",
    "# normalize target\n",
    "data = normalize_target(data)\n",
    "print(\"Dataset has shape: \", data.shape)\n",
    "\n",
    "# remove cols not used by freyberger\n",
    "try:\n",
    "    data.drop(['mm_sin', 'mm_cos', 'yy', 'stock'], axis=1, inplace=True) # cols can only be dropped once\n",
    "except:\n",
    "    pass\n",
    "print(\"Dataset has shape \", data.shape)\n",
    "\n",
    "# split the data\n",
    "X_train, X_valid, X_test, y_train, y_valid, y_test = time_series_splitter(subsample)\n",
    "\n",
    "model.fit(X_train, y_train)\n",
    "\n",
    "ebm_global = model.explain_global()\n",
    "#show(ebm_global)\n",
    "\n",
    "ebm_local = model.explain_local(X_test[:5], y_test[:5])\n",
    "#show(ebm_local)"
   ]
  },
  {
   "cell_type": "code",
   "execution_count": 12,
   "id": "26c3e580-74d2-4826-821b-c2357e98bee0",
   "metadata": {
    "tags": []
   },
   "outputs": [
    {
     "name": "stdout",
     "output_type": "stream",
     "text": [
      "--------- Train performance---------: \n",
      "\n",
      "Train r-squared: 0.059266374673811684 \n",
      " Val r-sqaured: -0.02202359944639598\n",
      "-----------Test Performance.............: \n",
      " MAE 0.7876007245196518 \n",
      " MSE: 1.503936961872742\n"
     ]
    }
   ],
   "source": [
    "# evaluate\n",
    "r2_val = model.score(X_valid, y_valid)\n",
    "r2_train = model.score(X_train, y_train)\n",
    "\n",
    "print(\"--------- Train performance---------: \\n\" )\n",
    "print(f\"Train r-squared: {r2_train} \\n Val r-sqaured: {r2_val}\")\n",
    "\n",
    "y_pred_val = model.predict(X_valid[0:2000]) \n",
    "y_pred_test = model.predict(X_test[0:2000]) # limit preds to 2000 instances\n",
    "\n",
    "# test mse, mae\n",
    "mae_val = mean_absolute_error(y_test[0:2000], y_pred_test) \n",
    "mse_val = mean_squared_error(y_test[0:2000], y_pred_test)\n",
    "\n",
    "# test mse, mae\n",
    "mae_test = mean_absolute_error(y_test[0:2000], y_pred_test) \n",
    "mse_test = mean_squared_error(y_test[0:2000], y_pred_test)\n",
    "\n",
    "print(f\"\\n -----------Test Performance.............: \\n MAE {mae_test} \\n MSE: {mse_test}\")"
   ]
  },
  {
   "cell_type": "code",
   "execution_count": 9,
   "id": "b2f7569e-c50c-4eb5-aae5-e3d0f1aacb85",
   "metadata": {},
   "outputs": [],
   "source": [
    "# get feature imprtances from global explan object\n",
    "importances_dict = ebm_global.data()\n",
    "try:\n",
    "    importances_dict.pop('type')\n",
    "except:\n",
    "    pass\n",
    "\n",
    "feature_importance_df = pd.DataFrame(importances_dict)\n",
    "feature_importance_df.rename(columns={\"names\": \"feature\", \"scores\": \"importance score\"}, inplace=True)"
   ]
  },
  {
   "cell_type": "code",
   "execution_count": 17,
   "id": "9135803a-3c08-44d5-92d9-58278c6faad1",
   "metadata": {},
   "outputs": [
    {
     "name": "stderr",
     "output_type": "stream",
     "text": [
      "/pfs/data5/home/kit/stud/uvnyg/seminar-interpretable-ml/src/ebm/plot.py:39: SettingWithCopyWarning: \n",
      "A value is trying to be set on a copy of a slice from a DataFrame\n",
      "\n",
      "See the caveats in the documentation: https://pandas.pydata.org/pandas-docs/stable/user_guide/indexing.html#returning-a-view-versus-a-copy\n",
      "  feature_importance_df.sort_values(by='importance score', ascending=False, axis=0, inplace=True)\n"
     ]
    },
    {
     "data": {
      "image/png": "[encoded data removed]",
      "text/plain": [
       "<Figure size 640x480 with 1 Axes>"
      ]
     },
     "metadata": {},
     "output_type": "display_data"
    },
    {
     "data": {
      "text/plain": [
       "<Figure size 640x480 with 0 Axes>"
      ]
     },
     "metadata": {},
     "output_type": "display_data"
    }
   ],
   "source": [
    "importance_bar_chart(feature_importance_df[0:21], save=True, id='wo_temporals')"
   ]
  },
  {
   "cell_type": "code",
   "execution_count": 83,
   "id": "4a5267a7-708e-4944-aae4-edb7fab57b10",
   "metadata": {},
   "outputs": [
    {
     "name": "stdout",
     "output_type": "stream",
     "text": [
      "Model scored with MAE: 0.08221856630920614 \n",
      " and an MSE of: 0.014490251046745324\n"
     ]
    }
   ],
   "source": [
    "mae = mean_absolute_error(y_pred, y_valid)\n",
    "mse = mean_squared_error(y_pred, y_valid)\n",
    "print(f\"Model scored with MAE: {mae} \\n and an MSE of: {mse}\")"
   ]
  },
  {
   "cell_type": "code",
   "execution_count": 88,
   "id": "185dcae8-47d2-4ab5-b356-da7ae411af1f",
   "metadata": {},
   "outputs": [
    {
     "data": {
      "image/png": "[encoded data removed]",
      "text/plain": [
       "<Figure size 1296x432 with 1 Axes>"
      ]
     },
     "metadata": {
      "needs_background": "light"
     },
     "output_type": "display_data"
    }
   ],
   "source": [
    "## lets see the preds visualized\n",
    "visualize_sample_prediction(pipe.y_valid, y_pred, subsample)"
   ]
  },
  {
   "cell_type": "markdown",
   "id": "ac47cf24-3c7e-44b9-bb15-1c44966665e8",
   "metadata": {},
   "source": [
    "## Experiment: Train on fullsample"
   ]
  },
  {
   "cell_type": "code",
   "execution_count": 30,
   "id": "34819493-bf0c-4bd5-baf8-dca6891e5cc2",
   "metadata": {
    "collapsed": true,
    "jupyter": {
     "outputs_hidden": true
    },
    "tags": []
   },
   "outputs": [
    {
     "data": {
      "text/html": [
       "Waiting for W&B process to finish... <strong style=\"color:green\">(success).</strong>"
      ],
      "text/plain": [
       "<IPython.core.display.HTML object>"
      ]
     },
     "metadata": {},
     "output_type": "display_data"
    },
    {
     "data": {
      "application/vnd.jupyter.widget-view+json": {
       "model_id": "",
       "version_major": 2,
       "version_minor": 0
      },
      "text/plain": [
       "VBox(children=(Label(value='0.001 MB of 0.001 MB uploaded (0.000 MB deduped)\\r'), FloatProgress(value=1.0, max…"
      ]
     },
     "metadata": {},
     "output_type": "display_data"
    },
    {
     "name": "stderr",
     "output_type": "stream",
     "text": [
      "/opt/bwhpc/common/jupyter/tensorflow/2022-03-30/lib/python3.8/site-packages/numpy/core/getlimits.py:499: UserWarning: The value of the smallest subnormal for <class 'numpy.float32'> type is zero.\n",
      "  setattr(self, word, getattr(machar, word).flat[0])\n",
      "/opt/bwhpc/common/jupyter/tensorflow/2022-03-30/lib/python3.8/site-packages/numpy/core/getlimits.py:89: UserWarning: The value of the smallest subnormal for <class 'numpy.float32'> type is zero.\n",
      "  return self._float_to_str(self.smallest_subnormal)\n",
      "/opt/bwhpc/common/jupyter/tensorflow/2022-03-30/lib/python3.8/site-packages/numpy/core/getlimits.py:499: UserWarning: The value of the smallest subnormal for <class 'numpy.float64'> type is zero.\n",
      "  setattr(self, word, getattr(machar, word).flat[0])\n",
      "/opt/bwhpc/common/jupyter/tensorflow/2022-03-30/lib/python3.8/site-packages/numpy/core/getlimits.py:89: UserWarning: The value of the smallest subnormal for <class 'numpy.float64'> type is zero.\n",
      "  return self._float_to_str(self.smallest_subnormal)\n"
     ]
    },
    {
     "data": {
      "text/html": [
       "Synced <strong style=\"color:#cdcd00\">avid-wind-131</strong>: <a href=\"https://wandb.ai/m-janyellow/interpretable-ml/runs/31ddhxxs\" target=\"_blank\">https://wandb.ai/m-janyellow/interpretable-ml/runs/31ddhxxs</a><br/>Synced 5 W&B file(s), 0 media file(s), 0 artifact file(s) and 0 other file(s)"
      ],
      "text/plain": [
       "<IPython.core.display.HTML object>"
      ]
     },
     "metadata": {},
     "output_type": "display_data"
    },
    {
     "data": {
      "text/html": [
       "Find logs at: <code>./wandb/run-20220826_114405-31ddhxxs/logs</code>"
      ],
      "text/plain": [
       "<IPython.core.display.HTML object>"
      ]
     },
     "metadata": {},
     "output_type": "display_data"
    }
   ],
   "source": [
    "wandb.finish()"
   ]
  },
  {
   "cell_type": "code",
   "execution_count": 28,
   "id": "cbc1920b-37b8-4f4f-8f6e-34456cdc2998",
   "metadata": {
    "collapsed": true,
    "jupyter": {
     "outputs_hidden": true
    },
    "tags": []
   },
   "outputs": [
    {
     "data": {
      "text/html": [
       "wandb version 0.13.2 is available!  To upgrade, please run:\n",
       " $ pip install wandb --upgrade"
      ],
      "text/plain": [
       "<IPython.core.display.HTML object>"
      ]
     },
     "metadata": {},
     "output_type": "display_data"
    },
    {
     "data": {
      "text/html": [
       "Tracking run with wandb version 0.12.20"
      ],
      "text/plain": [
       "<IPython.core.display.HTML object>"
      ]
     },
     "metadata": {},
     "output_type": "display_data"
    },
    {
     "data": {
      "text/html": [
       "Run data is saved locally in <code>/pfs/data5/home/kit/stud/uvnyg/seminar-interpretable-ml/wandb/run-20220826_114405-31ddhxxs</code>"
      ],
      "text/plain": [
       "<IPython.core.display.HTML object>"
      ]
     },
     "metadata": {},
     "output_type": "display_data"
    },
    {
     "data": {
      "text/html": [
       "Syncing run <strong><a href=\"https://wandb.ai/m-janyellow/interpretable-ml/runs/31ddhxxs\" target=\"_blank\">avid-wind-131</a></strong> to <a href=\"https://wandb.ai/m-janyellow/interpretable-ml\" target=\"_blank\">Weights & Biases</a> (<a href=\"https://wandb.me/run\" target=\"_blank\">docs</a>)<br/>"
      ],
      "text/plain": [
       "<IPython.core.display.HTML object>"
      ]
     },
     "metadata": {},
     "output_type": "display_data"
    },
    {
     "name": "stdout",
     "output_type": "stream",
     "text": [
      "model is being tuned\n"
     ]
    },
    {
     "ename": "TypeError",
     "evalue": "__init__() got an unexpected keyword argument 'unbound_message'",
     "output_type": "error",
     "traceback": [
      "\u001b[0;31m---------------------------------------------------------------------------\u001b[0m",
      "\u001b[0;31mTypeError\u001b[0m                                 Traceback (most recent call last)",
      "Input \u001b[0;32mIn [28]\u001b[0m, in \u001b[0;36m<cell line: 14>\u001b[0;34m()\u001b[0m\n\u001b[1;32m     11\u001b[0m pipe\u001b[38;5;241m.\u001b[39mtune \u001b[38;5;241m=\u001b[39m \u001b[38;5;28;01mTrue\u001b[39;00m\n\u001b[1;32m     13\u001b[0m \u001b[38;5;66;03m# start training pipeline\u001b[39;00m\n\u001b[0;32m---> 14\u001b[0m pipeline_outputs \u001b[38;5;241m=\u001b[39m \u001b[43mpipe\u001b[49m\u001b[38;5;241;43m.\u001b[39;49m\u001b[43mrun\u001b[49m\u001b[43m(\u001b[49m\u001b[43m)\u001b[49m\n",
      "File \u001b[0;32m/pfs/data5/home/kit/stud/uvnyg/seminar-interpretable-ml/src/ebm/train.py:58\u001b[0m, in \u001b[0;36mrun\u001b[0;34m(self, feature_selector)\u001b[0m\n\u001b[1;32m     56\u001b[0m \n\u001b[1;32m     57\u001b[0m         # train model\n\u001b[0;32m---> 58\u001b[0m         self.train_model(X_train, y_train)\n\u001b[1;32m     59\u001b[0m         \n\u001b[1;32m     60\u001b[0m         # give global model explanations using built-in viz\n",
      "File \u001b[0;32m/pfs/data5/home/kit/stud/uvnyg/seminar-interpretable-ml/src/ebm/train.py:130\u001b[0m, in \u001b[0;36mvisualize_ebm_global\u001b[0;34m(self)\u001b[0m\n\u001b[1;32m    128\u001b[0m def visualize_ebm_global(self):\n\u001b[1;32m    129\u001b[0m     \"\"\"\n\u001b[0;32m--> 130\u001b[0m     Visualize global explanation of given model\n\u001b[1;32m    131\u001b[0m     \"\"\"\n\u001b[1;32m    132\u001b[0m     ebm_global = self.model.explain_global()\n",
      "File \u001b[0;32m/pfs/data5/home/kit/stud/uvnyg/ml-env/lib64/python3.8/site-packages/interpret/visual/interactive.py:172\u001b[0m, in \u001b[0;36mshow\u001b[0;34m(explanation, key, **kwargs)\u001b[0m\n\u001b[1;32m    170\u001b[0m \u001b[38;5;28;01mexcept\u001b[39;00m \u001b[38;5;167;01mException\u001b[39;00m \u001b[38;5;28;01mas\u001b[39;00m e:  \u001b[38;5;66;03m# pragma: no cover\u001b[39;00m\n\u001b[1;32m    171\u001b[0m     log\u001b[38;5;241m.\u001b[39merror(e, exc_info\u001b[38;5;241m=\u001b[39m\u001b[38;5;28;01mTrue\u001b[39;00m)\n\u001b[0;32m--> 172\u001b[0m     \u001b[38;5;28;01mraise\u001b[39;00m e\n\u001b[1;32m    174\u001b[0m \u001b[38;5;28;01mreturn\u001b[39;00m \u001b[38;5;28;01mNone\u001b[39;00m\n",
      "File \u001b[0;32m/pfs/data5/home/kit/stud/uvnyg/ml-env/lib64/python3.8/site-packages/interpret/visual/interactive.py:169\u001b[0m, in \u001b[0;36mshow\u001b[0;34m(explanation, key, **kwargs)\u001b[0m\n\u001b[1;32m    166\u001b[0m         this\u001b[38;5;241m.\u001b[39mvisualize_provider \u001b[38;5;241m=\u001b[39m AutoVisualizeProvider()\n\u001b[1;32m    168\u001b[0m     \u001b[38;5;66;03m# Render\u001b[39;00m\n\u001b[0;32m--> 169\u001b[0m     \u001b[43mthis\u001b[49m\u001b[38;5;241;43m.\u001b[39;49m\u001b[43mvisualize_provider\u001b[49m\u001b[38;5;241;43m.\u001b[39;49m\u001b[43mrender\u001b[49m\u001b[43m(\u001b[49m\u001b[43mexplanation\u001b[49m\u001b[43m,\u001b[49m\u001b[43m \u001b[49m\u001b[43mkey\u001b[49m\u001b[38;5;241;43m=\u001b[39;49m\u001b[43mkey\u001b[49m\u001b[43m,\u001b[49m\u001b[43m \u001b[49m\u001b[38;5;241;43m*\u001b[39;49m\u001b[38;5;241;43m*\u001b[39;49m\u001b[43mkwargs\u001b[49m\u001b[43m)\u001b[49m\n\u001b[1;32m    170\u001b[0m \u001b[38;5;28;01mexcept\u001b[39;00m \u001b[38;5;167;01mException\u001b[39;00m \u001b[38;5;28;01mas\u001b[39;00m e:  \u001b[38;5;66;03m# pragma: no cover\u001b[39;00m\n\u001b[1;32m    171\u001b[0m     log\u001b[38;5;241m.\u001b[39merror(e, exc_info\u001b[38;5;241m=\u001b[39m\u001b[38;5;28;01mTrue\u001b[39;00m)\n",
      "File \u001b[0;32m/pfs/data5/home/kit/stud/uvnyg/ml-env/lib64/python3.8/site-packages/interpret/provider/visualize.py:224\u001b[0m, in \u001b[0;36mInlineProvider.render\u001b[0;34m(self, explanation, key, **kwargs)\u001b[0m\n\u001b[1;32m    221\u001b[0m \u001b[38;5;28;01mdef\u001b[39;00m \u001b[38;5;21mrender\u001b[39m(\u001b[38;5;28mself\u001b[39m, explanation, key\u001b[38;5;241m=\u001b[39m\u001b[38;5;241m-\u001b[39m\u001b[38;5;241m1\u001b[39m, \u001b[38;5;241m*\u001b[39m\u001b[38;5;241m*\u001b[39mkwargs):\n\u001b[1;32m    222\u001b[0m     \u001b[38;5;28;01mfrom\u001b[39;00m \u001b[38;5;21;01m.\u001b[39;00m\u001b[38;5;21;01m.\u001b[39;00m\u001b[38;5;21;01mvisual\u001b[39;00m\u001b[38;5;21;01m.\u001b[39;00m\u001b[38;5;21;01minline\u001b[39;00m \u001b[38;5;28;01mimport\u001b[39;00m render\n\u001b[0;32m--> 224\u001b[0m     \u001b[43mrender\u001b[49m\u001b[43m(\u001b[49m\n\u001b[1;32m    225\u001b[0m \u001b[43m        \u001b[49m\u001b[43mexplanation\u001b[49m\u001b[43m,\u001b[49m\n\u001b[1;32m    226\u001b[0m \u001b[43m        \u001b[49m\u001b[43mdefault_key\u001b[49m\u001b[38;5;241;43m=\u001b[39;49m\u001b[43mkey\u001b[49m\u001b[43m,\u001b[49m\n\u001b[1;32m    227\u001b[0m \u001b[43m        \u001b[49m\u001b[43mdetected_envs\u001b[49m\u001b[38;5;241;43m=\u001b[39;49m\u001b[38;5;28;43mself\u001b[39;49m\u001b[38;5;241;43m.\u001b[39;49m\u001b[43mdetected_envs\u001b[49m\u001b[43m,\u001b[49m\n\u001b[1;32m    228\u001b[0m \u001b[43m        \u001b[49m\u001b[43mjs_url\u001b[49m\u001b[38;5;241;43m=\u001b[39;49m\u001b[38;5;28;43mself\u001b[39;49m\u001b[38;5;241;43m.\u001b[39;49m\u001b[43mjs_url\u001b[49m\u001b[43m,\u001b[49m\n\u001b[1;32m    229\u001b[0m \u001b[43m    \u001b[49m\u001b[43m)\u001b[49m\n",
      "File \u001b[0;32m/pfs/data5/home/kit/stud/uvnyg/ml-env/lib64/python3.8/site-packages/interpret/visual/inline.py:216\u001b[0m, in \u001b[0;36mrender\u001b[0;34m(explanation, id_str, default_key, detected_envs, js_url)\u001b[0m\n\u001b[1;32m    214\u001b[0m     viz_obj \u001b[38;5;241m=\u001b[39m _build_viz_err_obj(msg)\n\u001b[1;32m    215\u001b[0m \u001b[38;5;28;01melse\u001b[39;00m:\n\u001b[0;32m--> 216\u001b[0m     viz_obj \u001b[38;5;241m=\u001b[39m \u001b[43m_build_viz_obj\u001b[49m\u001b[43m(\u001b[49m\u001b[43mexplanation\u001b[49m\u001b[43m)\u001b[49m\n\u001b[1;32m    218\u001b[0m init_js, body_js \u001b[38;5;241m=\u001b[39m _build_javascript(\n\u001b[1;32m    219\u001b[0m     viz_obj, id_str, default_key\u001b[38;5;241m=\u001b[39mdefault_key, js_url\u001b[38;5;241m=\u001b[39mjs_url\n\u001b[1;32m    220\u001b[0m )\n\u001b[1;32m    222\u001b[0m \u001b[38;5;28;01mif\u001b[39;00m \u001b[38;5;124m\"\u001b[39m\u001b[38;5;124mdatabricks\u001b[39m\u001b[38;5;124m\"\u001b[39m \u001b[38;5;129;01min\u001b[39;00m detected_envs:\n",
      "File \u001b[0;32m/pfs/data5/home/kit/stud/uvnyg/ml-env/lib64/python3.8/site-packages/interpret/visual/inline.py:94\u001b[0m, in \u001b[0;36m_build_viz_obj\u001b[0;34m(explanation)\u001b[0m\n\u001b[1;32m     93\u001b[0m \u001b[38;5;28;01mdef\u001b[39;00m \u001b[38;5;21m_build_viz_obj\u001b[39m(explanation):\n\u001b[0;32m---> 94\u001b[0m     overall \u001b[38;5;241m=\u001b[39m \u001b[43m_build_viz_figure\u001b[49m\u001b[43m(\u001b[49m\u001b[43mexplanation\u001b[49m\u001b[38;5;241;43m.\u001b[39;49m\u001b[43mvisualize\u001b[49m\u001b[43m(\u001b[49m\u001b[43m)\u001b[49m\u001b[43m)\u001b[49m\n\u001b[1;32m     95\u001b[0m     \u001b[38;5;28;01mif\u001b[39;00m explanation\u001b[38;5;241m.\u001b[39mselector \u001b[38;5;129;01mis\u001b[39;00m \u001b[38;5;28;01mNone\u001b[39;00m:\n\u001b[1;32m     96\u001b[0m         \u001b[38;5;66;03m# NOTE: Unsure if this should be a list or None in the long term.\u001b[39;00m\n\u001b[1;32m     97\u001b[0m         specific \u001b[38;5;241m=\u001b[39m []\n",
      "File \u001b[0;32m/pfs/data5/home/kit/stud/uvnyg/ml-env/lib64/python3.8/site-packages/interpret/visual/inline.py:54\u001b[0m, in \u001b[0;36m_build_viz_figure\u001b[0;34m(visualization)\u001b[0m\n\u001b[1;32m     53\u001b[0m \u001b[38;5;28;01mdef\u001b[39;00m \u001b[38;5;21m_build_viz_figure\u001b[39m(visualization):\n\u001b[0;32m---> 54\u001b[0m     \u001b[38;5;28;01mimport\u001b[39;00m \u001b[38;5;21;01mdash_cytoscape\u001b[39;00m \u001b[38;5;28;01mas\u001b[39;00m \u001b[38;5;21;01mcyto\u001b[39;00m\n\u001b[1;32m     56\u001b[0m     \u001b[38;5;28;01mif\u001b[39;00m visualization \u001b[38;5;129;01mis\u001b[39;00m \u001b[38;5;28;01mNone\u001b[39;00m:\n\u001b[1;32m     57\u001b[0m         _type \u001b[38;5;241m=\u001b[39m \u001b[38;5;124m\"\u001b[39m\u001b[38;5;124mnone\u001b[39m\u001b[38;5;124m\"\u001b[39m\n",
      "File \u001b[0;32m/pfs/data5/home/kit/stud/uvnyg/ml-env/lib64/python3.8/site-packages/dash_cytoscape/__init__.py:7\u001b[0m, in \u001b[0;36m<module>\u001b[0;34m\u001b[0m\n\u001b[1;32m      4\u001b[0m \u001b[38;5;28;01mimport\u001b[39;00m \u001b[38;5;21;01msys\u001b[39;00m \u001b[38;5;28;01mas\u001b[39;00m \u001b[38;5;21;01m_sys\u001b[39;00m\n\u001b[1;32m      5\u001b[0m \u001b[38;5;28;01mimport\u001b[39;00m \u001b[38;5;21;01mjson\u001b[39;00m\n\u001b[0;32m----> 7\u001b[0m \u001b[38;5;28;01mimport\u001b[39;00m \u001b[38;5;21;01mdash\u001b[39;00m \u001b[38;5;28;01mas\u001b[39;00m \u001b[38;5;21;01m_dash\u001b[39;00m\n\u001b[1;32m      9\u001b[0m \u001b[38;5;66;03m# noinspection PyUnresolvedReferences\u001b[39;00m\n\u001b[1;32m     10\u001b[0m \u001b[38;5;28;01mfrom\u001b[39;00m \u001b[38;5;21;01m.\u001b[39;00m\u001b[38;5;21;01m_imports_\u001b[39;00m \u001b[38;5;28;01mimport\u001b[39;00m \u001b[38;5;241m*\u001b[39m\n",
      "File \u001b[0;32m/pfs/data5/home/kit/stud/uvnyg/ml-env/lib64/python3.8/site-packages/dash/__init__.py:5\u001b[0m, in \u001b[0;36m<module>\u001b[0;34m\u001b[0m\n\u001b[1;32m      1\u001b[0m \u001b[38;5;66;03m# pylint: disable=C0413\u001b[39;00m\n\u001b[1;32m      2\u001b[0m \u001b[38;5;66;03m# __plotly_dash is for the \"make sure you don't have a dash.py\" check\u001b[39;00m\n\u001b[1;32m      3\u001b[0m \u001b[38;5;66;03m# must come before any other imports.\u001b[39;00m\n\u001b[1;32m      4\u001b[0m __plotly_dash \u001b[38;5;241m=\u001b[39m \u001b[38;5;28;01mTrue\u001b[39;00m\n\u001b[0;32m----> 5\u001b[0m \u001b[38;5;28;01mfrom\u001b[39;00m \u001b[38;5;21;01m.\u001b[39;00m\u001b[38;5;21;01mdependencies\u001b[39;00m \u001b[38;5;28;01mimport\u001b[39;00m (  \u001b[38;5;66;03m# noqa: F401,E402\u001b[39;00m\n\u001b[1;32m      6\u001b[0m     Input,  \u001b[38;5;66;03m# noqa: F401,E402\u001b[39;00m\n\u001b[1;32m      7\u001b[0m     Output,  \u001b[38;5;66;03m# noqa: F401,E402\u001b[39;00m\n\u001b[1;32m      8\u001b[0m     State,  \u001b[38;5;66;03m# noqa: F401,E402\u001b[39;00m\n\u001b[1;32m      9\u001b[0m     ClientsideFunction,  \u001b[38;5;66;03m# noqa: F401,E402\u001b[39;00m\n\u001b[1;32m     10\u001b[0m     MATCH,  \u001b[38;5;66;03m# noqa: F401,E402\u001b[39;00m\n\u001b[1;32m     11\u001b[0m     ALL,  \u001b[38;5;66;03m# noqa: F401,E402\u001b[39;00m\n\u001b[1;32m     12\u001b[0m     ALLSMALLER,  \u001b[38;5;66;03m# noqa: F401,E402\u001b[39;00m\n\u001b[1;32m     13\u001b[0m )  \u001b[38;5;66;03m# noqa: F401,E402\u001b[39;00m\n\u001b[1;32m     14\u001b[0m \u001b[38;5;28;01mfrom\u001b[39;00m \u001b[38;5;21;01m.\u001b[39;00m \u001b[38;5;28;01mimport\u001b[39;00m development  \u001b[38;5;66;03m# noqa: F401,E402\u001b[39;00m\n\u001b[1;32m     15\u001b[0m \u001b[38;5;28;01mfrom\u001b[39;00m \u001b[38;5;21;01m.\u001b[39;00m \u001b[38;5;28;01mimport\u001b[39;00m exceptions  \u001b[38;5;66;03m# noqa: F401,E402\u001b[39;00m\n",
      "File \u001b[0;32m/pfs/data5/home/kit/stud/uvnyg/ml-env/lib64/python3.8/site-packages/dash/dependencies.py:4\u001b[0m, in \u001b[0;36m<module>\u001b[0;34m\u001b[0m\n\u001b[1;32m      1\u001b[0m \u001b[38;5;28;01mimport\u001b[39;00m \u001b[38;5;21;01mjson\u001b[39;00m\n\u001b[1;32m      2\u001b[0m \u001b[38;5;28;01mfrom\u001b[39;00m \u001b[38;5;21;01mdash\u001b[39;00m\u001b[38;5;21;01m.\u001b[39;00m\u001b[38;5;21;01mdevelopment\u001b[39;00m\u001b[38;5;21;01m.\u001b[39;00m\u001b[38;5;21;01mbase_component\u001b[39;00m \u001b[38;5;28;01mimport\u001b[39;00m Component\n\u001b[0;32m----> 4\u001b[0m \u001b[38;5;28;01mfrom\u001b[39;00m \u001b[38;5;21;01m.\u001b[39;00m\u001b[38;5;21;01m_validate\u001b[39;00m \u001b[38;5;28;01mimport\u001b[39;00m validate_callback\n\u001b[1;32m      5\u001b[0m \u001b[38;5;28;01mfrom\u001b[39;00m \u001b[38;5;21;01m.\u001b[39;00m\u001b[38;5;21;01m_grouping\u001b[39;00m \u001b[38;5;28;01mimport\u001b[39;00m flatten_grouping, make_grouping_by_index\n\u001b[1;32m      8\u001b[0m \u001b[38;5;28;01mclass\u001b[39;00m \u001b[38;5;21;01m_Wildcard\u001b[39;00m:  \u001b[38;5;66;03m# pylint: disable=too-few-public-methods\u001b[39;00m\n",
      "File \u001b[0;32m/pfs/data5/home/kit/stud/uvnyg/ml-env/lib64/python3.8/site-packages/dash/_validate.py:5\u001b[0m, in \u001b[0;36m<module>\u001b[0;34m\u001b[0m\n\u001b[1;32m      3\u001b[0m \u001b[38;5;28;01mfrom\u001b[39;00m \u001b[38;5;21;01mtextwrap\u001b[39;00m \u001b[38;5;28;01mimport\u001b[39;00m dedent\n\u001b[1;32m      4\u001b[0m \u001b[38;5;28;01mfrom\u001b[39;00m \u001b[38;5;21;01mkeyword\u001b[39;00m \u001b[38;5;28;01mimport\u001b[39;00m iskeyword\n\u001b[0;32m----> 5\u001b[0m \u001b[38;5;28;01mimport\u001b[39;00m \u001b[38;5;21;01mflask\u001b[39;00m\n\u001b[1;32m      7\u001b[0m \u001b[38;5;28;01mfrom\u001b[39;00m \u001b[38;5;21;01m.\u001b[39;00m\u001b[38;5;21;01m_grouping\u001b[39;00m \u001b[38;5;28;01mimport\u001b[39;00m grouping_len, map_grouping\n\u001b[1;32m      8\u001b[0m \u001b[38;5;28;01mfrom\u001b[39;00m \u001b[38;5;21;01m.\u001b[39;00m\u001b[38;5;21;01mdevelopment\u001b[39;00m\u001b[38;5;21;01m.\u001b[39;00m\u001b[38;5;21;01mbase_component\u001b[39;00m \u001b[38;5;28;01mimport\u001b[39;00m Component\n",
      "File \u001b[0;32m/pfs/data5/home/kit/stud/uvnyg/ml-env/lib64/python3.8/site-packages/flask/__init__.py:4\u001b[0m, in \u001b[0;36m<module>\u001b[0;34m\u001b[0m\n\u001b[1;32m      1\u001b[0m \u001b[38;5;28;01mfrom\u001b[39;00m \u001b[38;5;21;01mmarkupsafe\u001b[39;00m \u001b[38;5;28;01mimport\u001b[39;00m escape\n\u001b[1;32m      2\u001b[0m \u001b[38;5;28;01mfrom\u001b[39;00m \u001b[38;5;21;01mmarkupsafe\u001b[39;00m \u001b[38;5;28;01mimport\u001b[39;00m Markup\n\u001b[0;32m----> 4\u001b[0m \u001b[38;5;28;01mfrom\u001b[39;00m \u001b[38;5;21;01m.\u001b[39;00m \u001b[38;5;28;01mimport\u001b[39;00m json \u001b[38;5;28;01mas\u001b[39;00m json\n\u001b[1;32m      5\u001b[0m \u001b[38;5;28;01mfrom\u001b[39;00m \u001b[38;5;21;01m.\u001b[39;00m\u001b[38;5;21;01mapp\u001b[39;00m \u001b[38;5;28;01mimport\u001b[39;00m Flask \u001b[38;5;28;01mas\u001b[39;00m Flask\n\u001b[1;32m      6\u001b[0m \u001b[38;5;28;01mfrom\u001b[39;00m \u001b[38;5;21;01m.\u001b[39;00m\u001b[38;5;21;01mapp\u001b[39;00m \u001b[38;5;28;01mimport\u001b[39;00m Request \u001b[38;5;28;01mas\u001b[39;00m Request\n",
      "File \u001b[0;32m/pfs/data5/home/kit/stud/uvnyg/ml-env/lib64/python3.8/site-packages/flask/json/__init__.py:8\u001b[0m, in \u001b[0;36m<module>\u001b[0;34m\u001b[0m\n\u001b[1;32m      4\u001b[0m \u001b[38;5;28;01mimport\u001b[39;00m \u001b[38;5;21;01mtyping\u001b[39;00m \u001b[38;5;28;01mas\u001b[39;00m \u001b[38;5;21;01mt\u001b[39;00m\n\u001b[1;32m      6\u001b[0m \u001b[38;5;28;01mfrom\u001b[39;00m \u001b[38;5;21;01mjinja2\u001b[39;00m\u001b[38;5;21;01m.\u001b[39;00m\u001b[38;5;21;01mutils\u001b[39;00m \u001b[38;5;28;01mimport\u001b[39;00m htmlsafe_json_dumps \u001b[38;5;28;01mas\u001b[39;00m _jinja_htmlsafe_dumps\n\u001b[0;32m----> 8\u001b[0m \u001b[38;5;28;01mfrom\u001b[39;00m \u001b[38;5;21;01m.\u001b[39;00m\u001b[38;5;21;01m.\u001b[39;00m\u001b[38;5;21;01mglobals\u001b[39;00m \u001b[38;5;28;01mimport\u001b[39;00m current_app\n\u001b[1;32m      9\u001b[0m \u001b[38;5;28;01mfrom\u001b[39;00m \u001b[38;5;21;01m.\u001b[39;00m\u001b[38;5;21;01mprovider\u001b[39;00m \u001b[38;5;28;01mimport\u001b[39;00m _default\n\u001b[1;32m     11\u001b[0m \u001b[38;5;28;01mif\u001b[39;00m t\u001b[38;5;241m.\u001b[39mTYPE_CHECKING:  \u001b[38;5;66;03m# pragma: no cover\u001b[39;00m\n",
      "File \u001b[0;32m/pfs/data5/home/kit/stud/uvnyg/ml-env/lib64/python3.8/site-packages/flask/globals.py:56\u001b[0m, in \u001b[0;36m<module>\u001b[0;34m\u001b[0m\n\u001b[1;32m     54\u001b[0m _cv_app: ContextVar[\u001b[38;5;124m\"\u001b[39m\u001b[38;5;124mAppContext\u001b[39m\u001b[38;5;124m\"\u001b[39m] \u001b[38;5;241m=\u001b[39m ContextVar(\u001b[38;5;124m\"\u001b[39m\u001b[38;5;124mflask.app_ctx\u001b[39m\u001b[38;5;124m\"\u001b[39m)\n\u001b[1;32m     55\u001b[0m __app_ctx_stack \u001b[38;5;241m=\u001b[39m _FakeStack(\u001b[38;5;124m\"\u001b[39m\u001b[38;5;124mapp\u001b[39m\u001b[38;5;124m\"\u001b[39m, _cv_app)\n\u001b[0;32m---> 56\u001b[0m app_ctx: \u001b[38;5;124m\"\u001b[39m\u001b[38;5;124mAppContext\u001b[39m\u001b[38;5;124m\"\u001b[39m \u001b[38;5;241m=\u001b[39m \u001b[43mLocalProxy\u001b[49m\u001b[43m(\u001b[49m\u001b[43m  \u001b[49m\u001b[38;5;66;43;03m# type: ignore[assignment]\u001b[39;49;00m\n\u001b[1;32m     57\u001b[0m \u001b[43m    \u001b[49m\u001b[43m_cv_app\u001b[49m\u001b[43m,\u001b[49m\u001b[43m \u001b[49m\u001b[43munbound_message\u001b[49m\u001b[38;5;241;43m=\u001b[39;49m\u001b[43m_no_app_msg\u001b[49m\n\u001b[1;32m     58\u001b[0m \u001b[43m)\u001b[49m\n\u001b[1;32m     59\u001b[0m current_app: \u001b[38;5;124m\"\u001b[39m\u001b[38;5;124mFlask\u001b[39m\u001b[38;5;124m\"\u001b[39m \u001b[38;5;241m=\u001b[39m LocalProxy(  \u001b[38;5;66;03m# type: ignore[assignment]\u001b[39;00m\n\u001b[1;32m     60\u001b[0m     _cv_app, \u001b[38;5;124m\"\u001b[39m\u001b[38;5;124mapp\u001b[39m\u001b[38;5;124m\"\u001b[39m, unbound_message\u001b[38;5;241m=\u001b[39m_no_app_msg\n\u001b[1;32m     61\u001b[0m )\n\u001b[1;32m     62\u001b[0m g: \u001b[38;5;124m\"\u001b[39m\u001b[38;5;124m_AppCtxGlobals\u001b[39m\u001b[38;5;124m\"\u001b[39m \u001b[38;5;241m=\u001b[39m LocalProxy(  \u001b[38;5;66;03m# type: ignore[assignment]\u001b[39;00m\n\u001b[1;32m     63\u001b[0m     _cv_app, \u001b[38;5;124m\"\u001b[39m\u001b[38;5;124mg\u001b[39m\u001b[38;5;124m\"\u001b[39m, unbound_message\u001b[38;5;241m=\u001b[39m_no_app_msg\n\u001b[1;32m     64\u001b[0m )\n",
      "\u001b[0;31mTypeError\u001b[0m: __init__() got an unexpected keyword argument 'unbound_message'"
     ]
    }
   ],
   "source": [
    "# load saved hyperparams\n",
    "with open(f'{model_dir}best_params_ebm.pkl', 'rb') as f:\n",
    "        best_params = pickle.load(f)\n",
    "\n",
    "# set up pipeline object\n",
    "root_path = root_path\n",
    "data_dir = fullsample_path\n",
    "\n",
    "pipe = EbmPipeline(root_path, subsample_path, pickle=False)\n",
    "pipe.param_dict = best_params\n",
    "pipe.tune = True\n",
    "\n",
    "# start training pipeline\n",
    "pipeline_outputs = pipe.run()"
   ]
  },
  {
   "cell_type": "code",
   "execution_count": 31,
   "id": "ef6ae652-26a5-4d34-89fc-5a03698576f4",
   "metadata": {},
   "outputs": [
    {
     "data": {
      "text/plain": [
       "0.6317269141888073"
      ]
     },
     "execution_count": 31,
     "metadata": {},
     "output_type": "execute_result"
    }
   ],
   "source": [
    "model = pipe.model\n",
    "\n",
    "explainer = model.explain_global()\n",
    "\n",
    "explain_data = explainer.data()\n",
    "\n",
    "sum(explain_data['scores'])"
   ]
  },
  {
   "cell_type": "code",
   "execution_count": 32,
   "id": "2cfb5345-1978-43cf-bf5f-3441d06eae90",
   "metadata": {
    "tags": []
   },
   "outputs": [],
   "source": [
    "# get feature imprtances from global explan object\n",
    "importances_dict = explain_data\n",
    "try:\n",
    "    importances_dict.pop('type')\n",
    "except:\n",
    "    pass\n",
    "\n",
    "feature_importance_df = pd.DataFrame(importances_dict)\n",
    "feature_importance_df.rename(columns={\"names\": \"feature\", \"scores\": \"importance score\"}, inplace=True)"
   ]
  },
  {
   "cell_type": "code",
   "execution_count": 34,
   "id": "94b8d486-ac62-4d49-a676-cdd8fa961a4e",
   "metadata": {},
   "outputs": [
    {
     "name": "stderr",
     "output_type": "stream",
     "text": [
      "/pfs/data5/home/kit/stud/uvnyg/seminar-interpretable-ml/src/ebm/plot.py:40: SettingWithCopyWarning:\n",
      "\n",
      "\n",
      "A value is trying to be set on a copy of a slice from a DataFrame\n",
      "\n",
      "See the caveats in the documentation: https://pandas.pydata.org/pandas-docs/stable/user_guide/indexing.html#returning-a-view-versus-a-copy\n",
      "\n"
     ]
    },
    {
     "data": {
      "image/png": "[encoded data removed]",
      "text/plain": [
       "<Figure size 640x480 with 1 Axes>"
      ]
     },
     "metadata": {},
     "output_type": "display_data"
    },
    {
     "ename": "NameError",
     "evalue": "name 'model_dir' is not defined",
     "output_type": "error",
     "traceback": [
      "\u001b[0;31m---------------------------------------------------------------------------\u001b[0m",
      "\u001b[0;31mNameError\u001b[0m                                 Traceback (most recent call last)",
      "Input \u001b[0;32mIn [34]\u001b[0m, in \u001b[0;36m<cell line: 1>\u001b[0;34m()\u001b[0m\n\u001b[0;32m----> 1\u001b[0m \u001b[43mimportance_bar_chart\u001b[49m\u001b[43m(\u001b[49m\u001b[43mfeature_importance_df\u001b[49m\u001b[43m[\u001b[49m\u001b[38;5;241;43m0\u001b[39;49m\u001b[43m:\u001b[49m\u001b[38;5;241;43m21\u001b[39;49m\u001b[43m]\u001b[49m\u001b[43m,\u001b[49m\u001b[43m \u001b[49m\u001b[43msave\u001b[49m\u001b[38;5;241;43m=\u001b[39;49m\u001b[38;5;28;43;01mTrue\u001b[39;49;00m\u001b[43m,\u001b[49m\u001b[43m \u001b[49m\u001b[38;5;28;43mid\u001b[39;49m\u001b[38;5;241;43m=\u001b[39;49m\u001b[38;5;124;43m'\u001b[39;49m\u001b[38;5;124;43m129\u001b[39;49m\u001b[38;5;124;43m'\u001b[39;49m\u001b[43m)\u001b[49m\n",
      "File \u001b[0;32m/pfs/data5/home/kit/stud/uvnyg/seminar-interpretable-ml/src/ebm/plot.py:59\u001b[0m, in \u001b[0;36mimportance_bar_chart\u001b[0;34m(feature_importance_df, save, id)\u001b[0m\n\u001b[1;32m     56\u001b[0m plt\u001b[38;5;241m.\u001b[39mshow()\n\u001b[1;32m     58\u001b[0m \u001b[38;5;28;01mif\u001b[39;00m save:\n\u001b[0;32m---> 59\u001b[0m     plt\u001b[38;5;241m.\u001b[39msavefig(\u001b[38;5;124mf\u001b[39m\u001b[38;5;124m'\u001b[39m\u001b[38;5;132;01m{\u001b[39;00mmodel_dir\u001b[38;5;132;01m}\u001b[39;00m\u001b[38;5;124mebm_importances_\u001b[39m\u001b[38;5;132;01m{\u001b[39;00m\u001b[38;5;28mid\u001b[39m\u001b[38;5;132;01m}\u001b[39;00m\u001b[38;5;124m.png\u001b[39m\u001b[38;5;124m'\u001b[39m)\n",
      "\u001b[0;31mNameError\u001b[0m: name 'model_dir' is not defined"
     ]
    }
   ],
   "source": [
    "importance_bar_chart(feature_importance_df[0:21], save=True, id='129')"
   ]
  },
  {
   "cell_type": "markdown",
   "id": "dd03ae83-b334-4a4d-b933-a2e9ffd50798",
   "metadata": {
    "id": "dd03ae83-b334-4a4d-b933-a2e9ffd50798"
   },
   "source": [
    "## Pipeline - bring it all together!"
   ]
  },
  {
   "cell_type": "code",
   "execution_count": 23,
   "id": "3058b793-6731-4841-a3e8-6bde5ee7b67e",
   "metadata": {
    "executionInfo": {
     "elapsed": 217,
     "status": "ok",
     "timestamp": 1656662704366,
     "user": {
      "displayName": "Micha Ianniello",
      "userId": "13712894490193878768"
     },
     "user_tz": -120
    },
    "id": "3058b793-6731-4841-a3e8-6bde5ee7b67e"
   },
   "outputs": [],
   "source": [
    "### Helper method to visualize prediction vs true values\n",
    "import matplotlib.pyplot as plt\n",
    "\n",
    "\n",
    "permnos_total = subsample.index.droplevel(['date'])\n",
    "\n",
    "def visualize_sample_prediction(y_test, y_pred):\n",
    "    # Picks a random stock, to visualize its real returns \n",
    "    # against the predicted returns\n",
    "    sample_permno = random.choice(permnos_total)\n",
    "    ## delete:\n",
    "    #sample_permno = 51625\n",
    "    sample_test_y = y_test.xs(sample_permno, level='permno')\n",
    "    \n",
    "    sample_test_idx = sample_test_y.index.get_level_values('date')\n",
    "    \n",
    "    y_pred = pd.Series(y_pred, index=y_test.index)\n",
    "    sample_pred = y_pred.xs(sample_permno, level='permno')\n",
    "    \n",
    "    \n",
    "    fig,ax=plt.subplots(figsize=(18,6))\n",
    "\n",
    "    ax.scatter(x=sample_test_idx, y= sample_test_y, color='r')\n",
    "    ax.scatter(x=sample_test_idx, y= sample_pred, color='b')\n",
    "    plt.title(f'Stock nr {sample_permno} predicted returns (blue) vs actual returns (red)')"
   ]
  },
  {
   "cell_type": "markdown",
   "id": "00cc1ace-632a-4f89-aa3d-bf1d67c8033f",
   "metadata": {
    "id": "00cc1ace-632a-4f89-aa3d-bf1d67c8033f"
   },
   "source": [
    "### Round 1 - all features"
   ]
  },
  {
   "cell_type": "code",
   "execution_count": 29,
   "id": "3dcec4ed-d892-4347-9eea-9a6252c78e1b",
   "metadata": {},
   "outputs": [],
   "source": [
    "## Can we extract the learned functions??\n",
    "X_valid = pipe_run_1[-4]\n",
    "fitted_model = pipe_run_1[-1]\n",
    "fct = fitted_model.decision_function(X_valid) # not sure what exactly this is doing..."
   ]
  },
  {
   "cell_type": "markdown",
   "id": "adcfa927-21ac-445b-b0fb-3173df85f9c4",
   "metadata": {
    "id": "adcfa927-21ac-445b-b0fb-3173df85f9c4"
   },
   "source": [
    "### Selected features accroding to Freyberger et al (2019) and previous student"
   ]
  },
  {
   "cell_type": "code",
   "execution_count": 8,
   "id": "0ab596ce-f080-4225-8d5f-7f44d9dce200",
   "metadata": {
    "executionInfo": {
     "elapsed": 266,
     "status": "ok",
     "timestamp": 1656667432382,
     "user": {
      "displayName": "Micha Ianniello",
      "userId": "13712894490193878768"
     },
     "user_tz": -120
    },
    "id": "0ab596ce-f080-4225-8d5f-7f44d9dce200"
   },
   "outputs": [],
   "source": [
    "## best features used by freyberger et al:\n",
    "features_freyberger = ['d_shrout', 'd_so', 'investment', 'lme', 'lturnover', 'pm_adj', \n",
    "                       'cum_return_1_0', 'cum_return_12_2', 'cum_return_12_7', 'rel_to_high_price', \n",
    "                       'roc','suv', 'total_vol','TARGET']\n",
    "\n",
    "## best features found by random forrest reg\n",
    "features_rf = ['d_shrout', 'roe', 'oa', 'free_cf', 'nop', 'dpi2a', 'rna', 'ato', 'd_dgm_dsales', 'roc', 'ipm', 'spread_mean', 'dto', 'suv', 'TARGET']\n",
    "\n",
    "features_ae = ['e2p', 'beme', 'cum_return_12_2', 'cum_return_12_7', 'mm_sin', 'mm_cos', 'yy', 'dpi2a', 'ret', 'total_vol', 'noa', 'std_volume', 'cto', 'TARGET']\n",
    "\n",
    "# combines features from different feature selection methods\n",
    "features_combined = ['ato', 'yy', 'spread_mean', 'cum_return_12_7', 'ret',\n",
    "                     'd_so', 'd_dgm_dsales', 'lturnover', 'roe', 'mm_sin',\n",
    "                     'ipm', 'dpi2a', 'beme', 'nop', 'lme', 'suv', 'dto', 'noa',\n",
    "                     'd_shrout', 'total_vol', 'free_cf', 'cum_return_1_0', 'mm_cos',\n",
    "                     'roc', 'e2p', 'oa', 'cto', 'rna', 'pm_adj', 'std_volume',\n",
    "                     'rel_to_high_price', 'cum_return_12_2', 'investment', 'TARGET']"
   ]
  },
  {
   "cell_type": "code",
   "execution_count": null,
   "id": "e95106ca-0d23-4c3d-8e02-3261a666c4dc",
   "metadata": {
    "id": "e95106ca-0d23-4c3d-8e02-3261a666c4dc",
    "outputId": "d5060779-0d14-45b9-f69c-c7831101e693"
   },
   "outputs": [
    {
     "name": "stdout",
     "output_type": "stream",
     "text": [
      "-0.2906621707797341\n"
     ]
    }
   ],
   "source": [
    "## Ok, lets randomly pick a subset of features to see if we can at least achieve reasonable performance\n",
    "\n",
    "features = ['d_shrout', 'lme', 'lme_adj', 'lturnover', 'rel_to_high_price',\n",
    "       'ret_max', 'spread_mean', 'std_turn', 'std_volume', 'suv', 'total_vol',\n",
    "       'ret', 'yy', 'mm_cos', 'mm_sin', 'stock', 'TARGET']\n",
    "\n",
    "#train_random = data[features]\n",
    "#valid_random = data[features]"
   ]
  },
  {
   "cell_type": "markdown",
   "id": "KG7Kt-FNvpHl",
   "metadata": {
    "id": "KG7Kt-FNvpHl"
   },
   "source": [
    "## conclusion:\n",
    "\n",
    "Using the union of features of the three methods did not improve but slitely decrease accuracy.\n",
    "=> More features are not necessarily better.\n",
    "=> More tuning does not help either \n",
    "\n",
    "**Two more ideas**\n",
    "\n",
    "1) visualize results in an aggregated way: mean returns over all stocks per month e.g.\n",
    "\n",
    "2) use only a few features, i.e. the top 3 of the above methods + returns (maximum)\n",
    "\n",
    "A thought: standardize per stock not globally - would this change model performanee?"
   ]
  }
 ],
 "metadata": {
  "colab": {
   "collapsed_sections": [
    "bfda6998-3dfe-48f6-ad47-b09aacc2feab",
    "c43c05fc-4ef5-4262-a5a9-1ceb96fe2568",
    "53124539-1002-4340-ac1d-37c9c5c8d7cc",
    "00cc1ace-632a-4f89-aa3d-bf1d67c8033f",
    "DOP-scgUpPHv",
    "6947d869-f264-401b-810c-c1ec61d00e6f",
    "87aedcd1-1560-4c30-9453-ed25c6380b27",
    "adcfa927-21ac-445b-b0fb-3173df85f9c4",
    "650194b7-0dfa-45d2-8145-711dfeed0c06",
    "3906832a-5e54-4889-af0e-e6ce3a73bcfb",
    "6316c7c1-5270-4f2a-8c5e-4d1bd636d2cb",
    "70e41696-220e-410e-a558-5b1a5efbc369"
   ],
   "name": "2-EBM.ipynb",
   "provenance": []
  },
  "gpuClass": "standard",
  "kernelspec": {
   "display_name": "ml-venv",
   "language": "python",
   "name": "ml-venv"
  },
  "language_info": {
   "codemirror_mode": {
    "name": "ipython",
    "version": 3
   },
   "file_extension": ".py",
   "mimetype": "text/x-python",
   "name": "python",
   "nbconvert_exporter": "python",
   "pygments_lexer": "ipython3",
   "version": "3.8.6"
  },
  "vscode": {
   "interpreter": {
    "hash": "101ac7f09dba69cde75534be8081c80174d03be9832ab662aa46cf8ab6d34c8d"
   }
  },
  "widgets": {
   "application/vnd.jupyter.widget-state+json": {
    "0744f9ce664e49c183d2708a1cc9916a": {
     "model_module": "@jupyter-widgets/controls",
     "model_module_version": "1.5.0",
     "model_name": "ProgressStyleModel",
     "state": {
      "_model_module": "@jupyter-widgets/controls",
      "_model_module_version": "1.5.0",
      "_model_name": "ProgressStyleModel",
      "_view_count": null,
      "_view_module": "@jupyter-widgets/base",
      "_view_module_version": "1.2.0",
      "_view_name": "StyleView",
      "bar_color": null,
      "description_width": ""
     }
    },
    "086c119e987a46fbbd3c7db012f50dfb": {
     "model_module": "@jupyter-widgets/controls",
     "model_module_version": "1.5.0",
     "model_name": "DescriptionStyleModel",
     "state": {
      "_model_module": "@jupyter-widgets/controls",
      "_model_module_version": "1.5.0",
      "_model_name": "DescriptionStyleModel",
      "_view_count": null,
      "_view_module": "@jupyter-widgets/base",
      "_view_module_version": "1.2.0",
      "_view_name": "StyleView",
      "description_width": ""
     }
    },
    "0eb84763937c4013801d536c22520d63": {
     "model_module": "@jupyter-widgets/controls",
     "model_module_version": "1.5.0",
     "model_name": "LabelModel",
     "state": {
      "_dom_classes": [],
      "_model_module": "@jupyter-widgets/controls",
      "_model_module_version": "1.5.0",
      "_model_name": "LabelModel",
      "_view_count": null,
      "_view_module": "@jupyter-widgets/controls",
      "_view_module_version": "1.5.0",
      "_view_name": "LabelView",
      "description": "",
      "description_tooltip": null,
      "layout": "IPY_MODEL_a0163cbca9d042e6ad3c268f0849f805",
      "placeholder": "​",
      "style": "IPY_MODEL_1138717d01804531b2e594ef7c6e2440",
      "value": "0.010 MB of 0.010 MB uploaded (0.000 MB deduped)\r"
     }
    },
    "0fa57d8e4c7042c9bc2f89bf07308793": {
     "model_module": "@jupyter-widgets/controls",
     "model_module_version": "1.5.0",
     "model_name": "ProgressStyleModel",
     "state": {
      "_model_module": "@jupyter-widgets/controls",
      "_model_module_version": "1.5.0",
      "_model_name": "ProgressStyleModel",
      "_view_count": null,
      "_view_module": "@jupyter-widgets/base",
      "_view_module_version": "1.2.0",
      "_view_name": "StyleView",
      "bar_color": null,
      "description_width": ""
     }
    },
    "0ffbdd8f828b4111a5aa5b6bd5618f1e": {
     "model_module": "@jupyter-widgets/controls",
     "model_module_version": "1.5.0",
     "model_name": "FloatProgressModel",
     "state": {
      "_dom_classes": [],
      "_model_module": "@jupyter-widgets/controls",
      "_model_module_version": "1.5.0",
      "_model_name": "FloatProgressModel",
      "_view_count": null,
      "_view_module": "@jupyter-widgets/controls",
      "_view_module_version": "1.5.0",
      "_view_name": "ProgressView",
      "bar_style": "",
      "description": "",
      "description_tooltip": null,
      "layout": "IPY_MODEL_2687648435c04721a10b2264b79238ed",
      "max": 1,
      "min": 0,
      "orientation": "horizontal",
      "style": "IPY_MODEL_1f77efffbce644ab905358fc79220b36",
      "value": 1
     }
    },
    "1138717d01804531b2e594ef7c6e2440": {
     "model_module": "@jupyter-widgets/controls",
     "model_module_version": "1.5.0",
     "model_name": "DescriptionStyleModel",
     "state": {
      "_model_module": "@jupyter-widgets/controls",
      "_model_module_version": "1.5.0",
      "_model_name": "DescriptionStyleModel",
      "_view_count": null,
      "_view_module": "@jupyter-widgets/base",
      "_view_module_version": "1.2.0",
      "_view_name": "StyleView",
      "description_width": ""
     }
    },
    "12a0cc8d47f34f6fb42984319d8fc87c": {
     "model_module": "@jupyter-widgets/controls",
     "model_module_version": "1.5.0",
     "model_name": "LabelModel",
     "state": {
      "_dom_classes": [],
      "_model_module": "@jupyter-widgets/controls",
      "_model_module_version": "1.5.0",
      "_model_name": "LabelModel",
      "_view_count": null,
      "_view_module": "@jupyter-widgets/controls",
      "_view_module_version": "1.5.0",
      "_view_name": "LabelView",
      "description": "",
      "description_tooltip": null,
      "layout": "IPY_MODEL_ee3086784e3b434daa66b8ae3f4e769c",
      "placeholder": "​",
      "style": "IPY_MODEL_5a22e14491944c49940dc2a9845f0d0b",
      "value": "0.010 MB of 0.010 MB uploaded (0.000 MB deduped)\r"
     }
    },
    "16fa08fc9efd4aefb863a4fac98491aa": {
     "model_module": "@jupyter-widgets/controls",
     "model_module_version": "1.5.0",
     "model_name": "DescriptionStyleModel",
     "state": {
      "_model_module": "@jupyter-widgets/controls",
      "_model_module_version": "1.5.0",
      "_model_name": "DescriptionStyleModel",
      "_view_count": null,
      "_view_module": "@jupyter-widgets/base",
      "_view_module_version": "1.2.0",
      "_view_name": "StyleView",
      "description_width": ""
     }
    },
    "18650cb2214942babc81da9650998890": {
     "model_module": "@jupyter-widgets/controls",
     "model_module_version": "1.5.0",
     "model_name": "ProgressStyleModel",
     "state": {
      "_model_module": "@jupyter-widgets/controls",
      "_model_module_version": "1.5.0",
      "_model_name": "ProgressStyleModel",
      "_view_count": null,
      "_view_module": "@jupyter-widgets/base",
      "_view_module_version": "1.2.0",
      "_view_name": "StyleView",
      "bar_color": null,
      "description_width": ""
     }
    },
    "1a3bd2d57a234ae6897b0f7abddfa076": {
     "model_module": "@jupyter-widgets/base",
     "model_module_version": "1.2.0",
     "model_name": "LayoutModel",
     "state": {
      "_model_module": "@jupyter-widgets/base",
      "_model_module_version": "1.2.0",
      "_model_name": "LayoutModel",
      "_view_count": null,
      "_view_module": "@jupyter-widgets/base",
      "_view_module_version": "1.2.0",
      "_view_name": "LayoutView",
      "align_content": null,
      "align_items": null,
      "align_self": null,
      "border": null,
      "bottom": null,
      "display": null,
      "flex": null,
      "flex_flow": null,
      "grid_area": null,
      "grid_auto_columns": null,
      "grid_auto_flow": null,
      "grid_auto_rows": null,
      "grid_column": null,
      "grid_gap": null,
      "grid_row": null,
      "grid_template_areas": null,
      "grid_template_columns": null,
      "grid_template_rows": null,
      "height": null,
      "justify_content": null,
      "justify_items": null,
      "left": null,
      "margin": null,
      "max_height": null,
      "max_width": null,
      "min_height": null,
      "min_width": null,
      "object_fit": null,
      "object_position": null,
      "order": null,
      "overflow": null,
      "overflow_x": null,
      "overflow_y": null,
      "padding": null,
      "right": null,
      "top": null,
      "visibility": null,
      "width": null
     }
    },
    "1f77efffbce644ab905358fc79220b36": {
     "model_module": "@jupyter-widgets/controls",
     "model_module_version": "1.5.0",
     "model_name": "ProgressStyleModel",
     "state": {
      "_model_module": "@jupyter-widgets/controls",
      "_model_module_version": "1.5.0",
      "_model_name": "ProgressStyleModel",
      "_view_count": null,
      "_view_module": "@jupyter-widgets/base",
      "_view_module_version": "1.2.0",
      "_view_name": "StyleView",
      "bar_color": null,
      "description_width": ""
     }
    },
    "203e4005eb0f4c0cb1c41d6894ac9023": {
     "model_module": "@jupyter-widgets/base",
     "model_module_version": "1.2.0",
     "model_name": "LayoutModel",
     "state": {
      "_model_module": "@jupyter-widgets/base",
      "_model_module_version": "1.2.0",
      "_model_name": "LayoutModel",
      "_view_count": null,
      "_view_module": "@jupyter-widgets/base",
      "_view_module_version": "1.2.0",
      "_view_name": "LayoutView",
      "align_content": null,
      "align_items": null,
      "align_self": null,
      "border": null,
      "bottom": null,
      "display": null,
      "flex": null,
      "flex_flow": null,
      "grid_area": null,
      "grid_auto_columns": null,
      "grid_auto_flow": null,
      "grid_auto_rows": null,
      "grid_column": null,
      "grid_gap": null,
      "grid_row": null,
      "grid_template_areas": null,
      "grid_template_columns": null,
      "grid_template_rows": null,
      "height": null,
      "justify_content": null,
      "justify_items": null,
      "left": null,
      "margin": null,
      "max_height": null,
      "max_width": null,
      "min_height": null,
      "min_width": null,
      "object_fit": null,
      "object_position": null,
      "order": null,
      "overflow": null,
      "overflow_x": null,
      "overflow_y": null,
      "padding": null,
      "right": null,
      "top": null,
      "visibility": null,
      "width": null
     }
    },
    "251e18d448e84bf79325c42e8ddf336c": {
     "model_module": "@jupyter-widgets/base",
     "model_module_version": "1.2.0",
     "model_name": "LayoutModel",
     "state": {
      "_model_module": "@jupyter-widgets/base",
      "_model_module_version": "1.2.0",
      "_model_name": "LayoutModel",
      "_view_count": null,
      "_view_module": "@jupyter-widgets/base",
      "_view_module_version": "1.2.0",
      "_view_name": "LayoutView",
      "align_content": null,
      "align_items": null,
      "align_self": null,
      "border": null,
      "bottom": null,
      "display": null,
      "flex": null,
      "flex_flow": null,
      "grid_area": null,
      "grid_auto_columns": null,
      "grid_auto_flow": null,
      "grid_auto_rows": null,
      "grid_column": null,
      "grid_gap": null,
      "grid_row": null,
      "grid_template_areas": null,
      "grid_template_columns": null,
      "grid_template_rows": null,
      "height": null,
      "justify_content": null,
      "justify_items": null,
      "left": null,
      "margin": null,
      "max_height": null,
      "max_width": null,
      "min_height": null,
      "min_width": null,
      "object_fit": null,
      "object_position": null,
      "order": null,
      "overflow": null,
      "overflow_x": null,
      "overflow_y": null,
      "padding": null,
      "right": null,
      "top": null,
      "visibility": null,
      "width": null
     }
    },
    "2687648435c04721a10b2264b79238ed": {
     "model_module": "@jupyter-widgets/base",
     "model_module_version": "1.2.0",
     "model_name": "LayoutModel",
     "state": {
      "_model_module": "@jupyter-widgets/base",
      "_model_module_version": "1.2.0",
      "_model_name": "LayoutModel",
      "_view_count": null,
      "_view_module": "@jupyter-widgets/base",
      "_view_module_version": "1.2.0",
      "_view_name": "LayoutView",
      "align_content": null,
      "align_items": null,
      "align_self": null,
      "border": null,
      "bottom": null,
      "display": null,
      "flex": null,
      "flex_flow": null,
      "grid_area": null,
      "grid_auto_columns": null,
      "grid_auto_flow": null,
      "grid_auto_rows": null,
      "grid_column": null,
      "grid_gap": null,
      "grid_row": null,
      "grid_template_areas": null,
      "grid_template_columns": null,
      "grid_template_rows": null,
      "height": null,
      "justify_content": null,
      "justify_items": null,
      "left": null,
      "margin": null,
      "max_height": null,
      "max_width": null,
      "min_height": null,
      "min_width": null,
      "object_fit": null,
      "object_position": null,
      "order": null,
      "overflow": null,
      "overflow_x": null,
      "overflow_y": null,
      "padding": null,
      "right": null,
      "top": null,
      "visibility": null,
      "width": null
     }
    },
    "38efd34173e84756a7cea31c29b13aeb": {
     "model_module": "@jupyter-widgets/controls",
     "model_module_version": "1.5.0",
     "model_name": "FloatProgressModel",
     "state": {
      "_dom_classes": [],
      "_model_module": "@jupyter-widgets/controls",
      "_model_module_version": "1.5.0",
      "_model_name": "FloatProgressModel",
      "_view_count": null,
      "_view_module": "@jupyter-widgets/controls",
      "_view_module_version": "1.5.0",
      "_view_name": "ProgressView",
      "bar_style": "",
      "description": "",
      "description_tooltip": null,
      "layout": "IPY_MODEL_a631a021e5c64582be3ed75396653728",
      "max": 1,
      "min": 0,
      "orientation": "horizontal",
      "style": "IPY_MODEL_0744f9ce664e49c183d2708a1cc9916a",
      "value": 1
     }
    },
    "425b30b73f564c64a2f6777549f2b763": {
     "model_module": "@jupyter-widgets/controls",
     "model_module_version": "1.5.0",
     "model_name": "FloatProgressModel",
     "state": {
      "_dom_classes": [],
      "_model_module": "@jupyter-widgets/controls",
      "_model_module_version": "1.5.0",
      "_model_name": "FloatProgressModel",
      "_view_count": null,
      "_view_module": "@jupyter-widgets/controls",
      "_view_module_version": "1.5.0",
      "_view_name": "ProgressView",
      "bar_style": "",
      "description": "",
      "description_tooltip": null,
      "layout": "IPY_MODEL_251e18d448e84bf79325c42e8ddf336c",
      "max": 1,
      "min": 0,
      "orientation": "horizontal",
      "style": "IPY_MODEL_6895d7d2c9fa44258a4e9e289e1deaa8",
      "value": 1
     }
    },
    "439da5bd0b9e4f45b7655a2505f3dc90": {
     "model_module": "@jupyter-widgets/base",
     "model_module_version": "1.2.0",
     "model_name": "LayoutModel",
     "state": {
      "_model_module": "@jupyter-widgets/base",
      "_model_module_version": "1.2.0",
      "_model_name": "LayoutModel",
      "_view_count": null,
      "_view_module": "@jupyter-widgets/base",
      "_view_module_version": "1.2.0",
      "_view_name": "LayoutView",
      "align_content": null,
      "align_items": null,
      "align_self": null,
      "border": null,
      "bottom": null,
      "display": null,
      "flex": null,
      "flex_flow": null,
      "grid_area": null,
      "grid_auto_columns": null,
      "grid_auto_flow": null,
      "grid_auto_rows": null,
      "grid_column": null,
      "grid_gap": null,
      "grid_row": null,
      "grid_template_areas": null,
      "grid_template_columns": null,
      "grid_template_rows": null,
      "height": null,
      "justify_content": null,
      "justify_items": null,
      "left": null,
      "margin": null,
      "max_height": null,
      "max_width": null,
      "min_height": null,
      "min_width": null,
      "object_fit": null,
      "object_position": null,
      "order": null,
      "overflow": null,
      "overflow_x": null,
      "overflow_y": null,
      "padding": null,
      "right": null,
      "top": null,
      "visibility": null,
      "width": null
     }
    },
    "554f8eb070eb4a96bc193c3dcad4ce0f": {
     "model_module": "@jupyter-widgets/base",
     "model_module_version": "1.2.0",
     "model_name": "LayoutModel",
     "state": {
      "_model_module": "@jupyter-widgets/base",
      "_model_module_version": "1.2.0",
      "_model_name": "LayoutModel",
      "_view_count": null,
      "_view_module": "@jupyter-widgets/base",
      "_view_module_version": "1.2.0",
      "_view_name": "LayoutView",
      "align_content": null,
      "align_items": null,
      "align_self": null,
      "border": null,
      "bottom": null,
      "display": null,
      "flex": null,
      "flex_flow": null,
      "grid_area": null,
      "grid_auto_columns": null,
      "grid_auto_flow": null,
      "grid_auto_rows": null,
      "grid_column": null,
      "grid_gap": null,
      "grid_row": null,
      "grid_template_areas": null,
      "grid_template_columns": null,
      "grid_template_rows": null,
      "height": null,
      "justify_content": null,
      "justify_items": null,
      "left": null,
      "margin": null,
      "max_height": null,
      "max_width": null,
      "min_height": null,
      "min_width": null,
      "object_fit": null,
      "object_position": null,
      "order": null,
      "overflow": null,
      "overflow_x": null,
      "overflow_y": null,
      "padding": null,
      "right": null,
      "top": null,
      "visibility": null,
      "width": null
     }
    },
    "5a22e14491944c49940dc2a9845f0d0b": {
     "model_module": "@jupyter-widgets/controls",
     "model_module_version": "1.5.0",
     "model_name": "DescriptionStyleModel",
     "state": {
      "_model_module": "@jupyter-widgets/controls",
      "_model_module_version": "1.5.0",
      "_model_name": "DescriptionStyleModel",
      "_view_count": null,
      "_view_module": "@jupyter-widgets/base",
      "_view_module_version": "1.2.0",
      "_view_name": "StyleView",
      "description_width": ""
     }
    },
    "670ba83a13824b1390bc3758e325e089": {
     "model_module": "@jupyter-widgets/controls",
     "model_module_version": "1.5.0",
     "model_name": "FloatProgressModel",
     "state": {
      "_dom_classes": [],
      "_model_module": "@jupyter-widgets/controls",
      "_model_module_version": "1.5.0",
      "_model_name": "FloatProgressModel",
      "_view_count": null,
      "_view_module": "@jupyter-widgets/controls",
      "_view_module_version": "1.5.0",
      "_view_name": "ProgressView",
      "bar_style": "",
      "description": "",
      "description_tooltip": null,
      "layout": "IPY_MODEL_9630315efbea403eb6840751b40043ed",
      "max": 1,
      "min": 0,
      "orientation": "horizontal",
      "style": "IPY_MODEL_0fa57d8e4c7042c9bc2f89bf07308793",
      "value": 1
     }
    },
    "6895d7d2c9fa44258a4e9e289e1deaa8": {
     "model_module": "@jupyter-widgets/controls",
     "model_module_version": "1.5.0",
     "model_name": "ProgressStyleModel",
     "state": {
      "_model_module": "@jupyter-widgets/controls",
      "_model_module_version": "1.5.0",
      "_model_name": "ProgressStyleModel",
      "_view_count": null,
      "_view_module": "@jupyter-widgets/base",
      "_view_module_version": "1.2.0",
      "_view_name": "StyleView",
      "bar_color": null,
      "description_width": ""
     }
    },
    "703da1f8122948809ff0c61d4e19326e": {
     "model_module": "@jupyter-widgets/controls",
     "model_module_version": "1.5.0",
     "model_name": "VBoxModel",
     "state": {
      "_dom_classes": [],
      "_model_module": "@jupyter-widgets/controls",
      "_model_module_version": "1.5.0",
      "_model_name": "VBoxModel",
      "_view_count": null,
      "_view_module": "@jupyter-widgets/controls",
      "_view_module_version": "1.5.0",
      "_view_name": "VBoxView",
      "box_style": "",
      "children": [
       "IPY_MODEL_c602a5bb34ea47289df10d5dcf4ab135",
       "IPY_MODEL_0ffbdd8f828b4111a5aa5b6bd5618f1e"
      ],
      "layout": "IPY_MODEL_d4e8bccf39304e47b8770ae86ff7784d"
     }
    },
    "7f56791935684275b4a90c16b6cc0f81": {
     "model_module": "@jupyter-widgets/base",
     "model_module_version": "1.2.0",
     "model_name": "LayoutModel",
     "state": {
      "_model_module": "@jupyter-widgets/base",
      "_model_module_version": "1.2.0",
      "_model_name": "LayoutModel",
      "_view_count": null,
      "_view_module": "@jupyter-widgets/base",
      "_view_module_version": "1.2.0",
      "_view_name": "LayoutView",
      "align_content": null,
      "align_items": null,
      "align_self": null,
      "border": null,
      "bottom": null,
      "display": null,
      "flex": null,
      "flex_flow": null,
      "grid_area": null,
      "grid_auto_columns": null,
      "grid_auto_flow": null,
      "grid_auto_rows": null,
      "grid_column": null,
      "grid_gap": null,
      "grid_row": null,
      "grid_template_areas": null,
      "grid_template_columns": null,
      "grid_template_rows": null,
      "height": null,
      "justify_content": null,
      "justify_items": null,
      "left": null,
      "margin": null,
      "max_height": null,
      "max_width": null,
      "min_height": null,
      "min_width": null,
      "object_fit": null,
      "object_position": null,
      "order": null,
      "overflow": null,
      "overflow_x": null,
      "overflow_y": null,
      "padding": null,
      "right": null,
      "top": null,
      "visibility": null,
      "width": null
     }
    },
    "9630315efbea403eb6840751b40043ed": {
     "model_module": "@jupyter-widgets/base",
     "model_module_version": "1.2.0",
     "model_name": "LayoutModel",
     "state": {
      "_model_module": "@jupyter-widgets/base",
      "_model_module_version": "1.2.0",
      "_model_name": "LayoutModel",
      "_view_count": null,
      "_view_module": "@jupyter-widgets/base",
      "_view_module_version": "1.2.0",
      "_view_name": "LayoutView",
      "align_content": null,
      "align_items": null,
      "align_self": null,
      "border": null,
      "bottom": null,
      "display": null,
      "flex": null,
      "flex_flow": null,
      "grid_area": null,
      "grid_auto_columns": null,
      "grid_auto_flow": null,
      "grid_auto_rows": null,
      "grid_column": null,
      "grid_gap": null,
      "grid_row": null,
      "grid_template_areas": null,
      "grid_template_columns": null,
      "grid_template_rows": null,
      "height": null,
      "justify_content": null,
      "justify_items": null,
      "left": null,
      "margin": null,
      "max_height": null,
      "max_width": null,
      "min_height": null,
      "min_width": null,
      "object_fit": null,
      "object_position": null,
      "order": null,
      "overflow": null,
      "overflow_x": null,
      "overflow_y": null,
      "padding": null,
      "right": null,
      "top": null,
      "visibility": null,
      "width": null
     }
    },
    "a0163cbca9d042e6ad3c268f0849f805": {
     "model_module": "@jupyter-widgets/base",
     "model_module_version": "1.2.0",
     "model_name": "LayoutModel",
     "state": {
      "_model_module": "@jupyter-widgets/base",
      "_model_module_version": "1.2.0",
      "_model_name": "LayoutModel",
      "_view_count": null,
      "_view_module": "@jupyter-widgets/base",
      "_view_module_version": "1.2.0",
      "_view_name": "LayoutView",
      "align_content": null,
      "align_items": null,
      "align_self": null,
      "border": null,
      "bottom": null,
      "display": null,
      "flex": null,
      "flex_flow": null,
      "grid_area": null,
      "grid_auto_columns": null,
      "grid_auto_flow": null,
      "grid_auto_rows": null,
      "grid_column": null,
      "grid_gap": null,
      "grid_row": null,
      "grid_template_areas": null,
      "grid_template_columns": null,
      "grid_template_rows": null,
      "height": null,
      "justify_content": null,
      "justify_items": null,
      "left": null,
      "margin": null,
      "max_height": null,
      "max_width": null,
      "min_height": null,
      "min_width": null,
      "object_fit": null,
      "object_position": null,
      "order": null,
      "overflow": null,
      "overflow_x": null,
      "overflow_y": null,
      "padding": null,
      "right": null,
      "top": null,
      "visibility": null,
      "width": null
     }
    },
    "a631a021e5c64582be3ed75396653728": {
     "model_module": "@jupyter-widgets/base",
     "model_module_version": "1.2.0",
     "model_name": "LayoutModel",
     "state": {
      "_model_module": "@jupyter-widgets/base",
      "_model_module_version": "1.2.0",
      "_model_name": "LayoutModel",
      "_view_count": null,
      "_view_module": "@jupyter-widgets/base",
      "_view_module_version": "1.2.0",
      "_view_name": "LayoutView",
      "align_content": null,
      "align_items": null,
      "align_self": null,
      "border": null,
      "bottom": null,
      "display": null,
      "flex": null,
      "flex_flow": null,
      "grid_area": null,
      "grid_auto_columns": null,
      "grid_auto_flow": null,
      "grid_auto_rows": null,
      "grid_column": null,
      "grid_gap": null,
      "grid_row": null,
      "grid_template_areas": null,
      "grid_template_columns": null,
      "grid_template_rows": null,
      "height": null,
      "justify_content": null,
      "justify_items": null,
      "left": null,
      "margin": null,
      "max_height": null,
      "max_width": null,
      "min_height": null,
      "min_width": null,
      "object_fit": null,
      "object_position": null,
      "order": null,
      "overflow": null,
      "overflow_x": null,
      "overflow_y": null,
      "padding": null,
      "right": null,
      "top": null,
      "visibility": null,
      "width": null
     }
    },
    "a835a67380dc492eb5b31d2c4c9bd6b9": {
     "model_module": "@jupyter-widgets/controls",
     "model_module_version": "1.5.0",
     "model_name": "VBoxModel",
     "state": {
      "_dom_classes": [],
      "_model_module": "@jupyter-widgets/controls",
      "_model_module_version": "1.5.0",
      "_model_name": "VBoxModel",
      "_view_count": null,
      "_view_module": "@jupyter-widgets/controls",
      "_view_module_version": "1.5.0",
      "_view_name": "VBoxView",
      "box_style": "",
      "children": [
       "IPY_MODEL_d7445d6b764d4e9a9c85fd0082b4168d",
       "IPY_MODEL_a83866a9c1c54c0bb84f70fc48051a07"
      ],
      "layout": "IPY_MODEL_c21ed167418649a39b8986847aa4509c"
     }
    },
    "a83866a9c1c54c0bb84f70fc48051a07": {
     "model_module": "@jupyter-widgets/controls",
     "model_module_version": "1.5.0",
     "model_name": "FloatProgressModel",
     "state": {
      "_dom_classes": [],
      "_model_module": "@jupyter-widgets/controls",
      "_model_module_version": "1.5.0",
      "_model_name": "FloatProgressModel",
      "_view_count": null,
      "_view_module": "@jupyter-widgets/controls",
      "_view_module_version": "1.5.0",
      "_view_name": "ProgressView",
      "bar_style": "",
      "description": "",
      "description_tooltip": null,
      "layout": "IPY_MODEL_439da5bd0b9e4f45b7655a2505f3dc90",
      "max": 1,
      "min": 0,
      "orientation": "horizontal",
      "style": "IPY_MODEL_18650cb2214942babc81da9650998890",
      "value": 1
     }
    },
    "b4440a2be1e142bc9e9ba82fb4a18e8e": {
     "model_module": "@jupyter-widgets/controls",
     "model_module_version": "1.5.0",
     "model_name": "VBoxModel",
     "state": {
      "_dom_classes": [],
      "_model_module": "@jupyter-widgets/controls",
      "_model_module_version": "1.5.0",
      "_model_name": "VBoxModel",
      "_view_count": null,
      "_view_module": "@jupyter-widgets/controls",
      "_view_module_version": "1.5.0",
      "_view_name": "VBoxView",
      "box_style": "",
      "children": [
       "IPY_MODEL_dd2d647f05a34355bed335ef7a026f14",
       "IPY_MODEL_425b30b73f564c64a2f6777549f2b763"
      ],
      "layout": "IPY_MODEL_554f8eb070eb4a96bc193c3dcad4ce0f"
     }
    },
    "c21ed167418649a39b8986847aa4509c": {
     "model_module": "@jupyter-widgets/base",
     "model_module_version": "1.2.0",
     "model_name": "LayoutModel",
     "state": {
      "_model_module": "@jupyter-widgets/base",
      "_model_module_version": "1.2.0",
      "_model_name": "LayoutModel",
      "_view_count": null,
      "_view_module": "@jupyter-widgets/base",
      "_view_module_version": "1.2.0",
      "_view_name": "LayoutView",
      "align_content": null,
      "align_items": null,
      "align_self": null,
      "border": null,
      "bottom": null,
      "display": null,
      "flex": null,
      "flex_flow": null,
      "grid_area": null,
      "grid_auto_columns": null,
      "grid_auto_flow": null,
      "grid_auto_rows": null,
      "grid_column": null,
      "grid_gap": null,
      "grid_row": null,
      "grid_template_areas": null,
      "grid_template_columns": null,
      "grid_template_rows": null,
      "height": null,
      "justify_content": null,
      "justify_items": null,
      "left": null,
      "margin": null,
      "max_height": null,
      "max_width": null,
      "min_height": null,
      "min_width": null,
      "object_fit": null,
      "object_position": null,
      "order": null,
      "overflow": null,
      "overflow_x": null,
      "overflow_y": null,
      "padding": null,
      "right": null,
      "top": null,
      "visibility": null,
      "width": null
     }
    },
    "c2898615576247f498f1e24532a94b9d": {
     "model_module": "@jupyter-widgets/base",
     "model_module_version": "1.2.0",
     "model_name": "LayoutModel",
     "state": {
      "_model_module": "@jupyter-widgets/base",
      "_model_module_version": "1.2.0",
      "_model_name": "LayoutModel",
      "_view_count": null,
      "_view_module": "@jupyter-widgets/base",
      "_view_module_version": "1.2.0",
      "_view_name": "LayoutView",
      "align_content": null,
      "align_items": null,
      "align_self": null,
      "border": null,
      "bottom": null,
      "display": null,
      "flex": null,
      "flex_flow": null,
      "grid_area": null,
      "grid_auto_columns": null,
      "grid_auto_flow": null,
      "grid_auto_rows": null,
      "grid_column": null,
      "grid_gap": null,
      "grid_row": null,
      "grid_template_areas": null,
      "grid_template_columns": null,
      "grid_template_rows": null,
      "height": null,
      "justify_content": null,
      "justify_items": null,
      "left": null,
      "margin": null,
      "max_height": null,
      "max_width": null,
      "min_height": null,
      "min_width": null,
      "object_fit": null,
      "object_position": null,
      "order": null,
      "overflow": null,
      "overflow_x": null,
      "overflow_y": null,
      "padding": null,
      "right": null,
      "top": null,
      "visibility": null,
      "width": null
     }
    },
    "c602a5bb34ea47289df10d5dcf4ab135": {
     "model_module": "@jupyter-widgets/controls",
     "model_module_version": "1.5.0",
     "model_name": "LabelModel",
     "state": {
      "_dom_classes": [],
      "_model_module": "@jupyter-widgets/controls",
      "_model_module_version": "1.5.0",
      "_model_name": "LabelModel",
      "_view_count": null,
      "_view_module": "@jupyter-widgets/controls",
      "_view_module_version": "1.5.0",
      "_view_name": "LabelView",
      "description": "",
      "description_tooltip": null,
      "layout": "IPY_MODEL_da60682d0cd14a9993da61469630117d",
      "placeholder": "​",
      "style": "IPY_MODEL_f9442fd14cac4e8fab04dd4f061a0543",
      "value": "0.009 MB of 0.009 MB uploaded (0.000 MB deduped)\r"
     }
    },
    "d4e8bccf39304e47b8770ae86ff7784d": {
     "model_module": "@jupyter-widgets/base",
     "model_module_version": "1.2.0",
     "model_name": "LayoutModel",
     "state": {
      "_model_module": "@jupyter-widgets/base",
      "_model_module_version": "1.2.0",
      "_model_name": "LayoutModel",
      "_view_count": null,
      "_view_module": "@jupyter-widgets/base",
      "_view_module_version": "1.2.0",
      "_view_name": "LayoutView",
      "align_content": null,
      "align_items": null,
      "align_self": null,
      "border": null,
      "bottom": null,
      "display": null,
      "flex": null,
      "flex_flow": null,
      "grid_area": null,
      "grid_auto_columns": null,
      "grid_auto_flow": null,
      "grid_auto_rows": null,
      "grid_column": null,
      "grid_gap": null,
      "grid_row": null,
      "grid_template_areas": null,
      "grid_template_columns": null,
      "grid_template_rows": null,
      "height": null,
      "justify_content": null,
      "justify_items": null,
      "left": null,
      "margin": null,
      "max_height": null,
      "max_width": null,
      "min_height": null,
      "min_width": null,
      "object_fit": null,
      "object_position": null,
      "order": null,
      "overflow": null,
      "overflow_x": null,
      "overflow_y": null,
      "padding": null,
      "right": null,
      "top": null,
      "visibility": null,
      "width": null
     }
    },
    "d7445d6b764d4e9a9c85fd0082b4168d": {
     "model_module": "@jupyter-widgets/controls",
     "model_module_version": "1.5.0",
     "model_name": "LabelModel",
     "state": {
      "_dom_classes": [],
      "_model_module": "@jupyter-widgets/controls",
      "_model_module_version": "1.5.0",
      "_model_name": "LabelModel",
      "_view_count": null,
      "_view_module": "@jupyter-widgets/controls",
      "_view_module_version": "1.5.0",
      "_view_name": "LabelView",
      "description": "",
      "description_tooltip": null,
      "layout": "IPY_MODEL_1a3bd2d57a234ae6897b0f7abddfa076",
      "placeholder": "​",
      "style": "IPY_MODEL_16fa08fc9efd4aefb863a4fac98491aa",
      "value": "0.010 MB of 0.010 MB uploaded (0.000 MB deduped)\r"
     }
    },
    "da60682d0cd14a9993da61469630117d": {
     "model_module": "@jupyter-widgets/base",
     "model_module_version": "1.2.0",
     "model_name": "LayoutModel",
     "state": {
      "_model_module": "@jupyter-widgets/base",
      "_model_module_version": "1.2.0",
      "_model_name": "LayoutModel",
      "_view_count": null,
      "_view_module": "@jupyter-widgets/base",
      "_view_module_version": "1.2.0",
      "_view_name": "LayoutView",
      "align_content": null,
      "align_items": null,
      "align_self": null,
      "border": null,
      "bottom": null,
      "display": null,
      "flex": null,
      "flex_flow": null,
      "grid_area": null,
      "grid_auto_columns": null,
      "grid_auto_flow": null,
      "grid_auto_rows": null,
      "grid_column": null,
      "grid_gap": null,
      "grid_row": null,
      "grid_template_areas": null,
      "grid_template_columns": null,
      "grid_template_rows": null,
      "height": null,
      "justify_content": null,
      "justify_items": null,
      "left": null,
      "margin": null,
      "max_height": null,
      "max_width": null,
      "min_height": null,
      "min_width": null,
      "object_fit": null,
      "object_position": null,
      "order": null,
      "overflow": null,
      "overflow_x": null,
      "overflow_y": null,
      "padding": null,
      "right": null,
      "top": null,
      "visibility": null,
      "width": null
     }
    },
    "dd2d647f05a34355bed335ef7a026f14": {
     "model_module": "@jupyter-widgets/controls",
     "model_module_version": "1.5.0",
     "model_name": "LabelModel",
     "state": {
      "_dom_classes": [],
      "_model_module": "@jupyter-widgets/controls",
      "_model_module_version": "1.5.0",
      "_model_name": "LabelModel",
      "_view_count": null,
      "_view_module": "@jupyter-widgets/controls",
      "_view_module_version": "1.5.0",
      "_view_name": "LabelView",
      "description": "",
      "description_tooltip": null,
      "layout": "IPY_MODEL_c2898615576247f498f1e24532a94b9d",
      "placeholder": "​",
      "style": "IPY_MODEL_086c119e987a46fbbd3c7db012f50dfb",
      "value": "0.009 MB of 0.009 MB uploaded (0.000 MB deduped)\r"
     }
    },
    "ee3086784e3b434daa66b8ae3f4e769c": {
     "model_module": "@jupyter-widgets/base",
     "model_module_version": "1.2.0",
     "model_name": "LayoutModel",
     "state": {
      "_model_module": "@jupyter-widgets/base",
      "_model_module_version": "1.2.0",
      "_model_name": "LayoutModel",
      "_view_count": null,
      "_view_module": "@jupyter-widgets/base",
      "_view_module_version": "1.2.0",
      "_view_name": "LayoutView",
      "align_content": null,
      "align_items": null,
      "align_self": null,
      "border": null,
      "bottom": null,
      "display": null,
      "flex": null,
      "flex_flow": null,
      "grid_area": null,
      "grid_auto_columns": null,
      "grid_auto_flow": null,
      "grid_auto_rows": null,
      "grid_column": null,
      "grid_gap": null,
      "grid_row": null,
      "grid_template_areas": null,
      "grid_template_columns": null,
      "grid_template_rows": null,
      "height": null,
      "justify_content": null,
      "justify_items": null,
      "left": null,
      "margin": null,
      "max_height": null,
      "max_width": null,
      "min_height": null,
      "min_width": null,
      "object_fit": null,
      "object_position": null,
      "order": null,
      "overflow": null,
      "overflow_x": null,
      "overflow_y": null,
      "padding": null,
      "right": null,
      "top": null,
      "visibility": null,
      "width": null
     }
    },
    "f10d99b45f094b9fa4506c91ae795020": {
     "model_module": "@jupyter-widgets/controls",
     "model_module_version": "1.5.0",
     "model_name": "VBoxModel",
     "state": {
      "_dom_classes": [],
      "_model_module": "@jupyter-widgets/controls",
      "_model_module_version": "1.5.0",
      "_model_name": "VBoxModel",
      "_view_count": null,
      "_view_module": "@jupyter-widgets/controls",
      "_view_module_version": "1.5.0",
      "_view_name": "VBoxView",
      "box_style": "",
      "children": [
       "IPY_MODEL_0eb84763937c4013801d536c22520d63",
       "IPY_MODEL_38efd34173e84756a7cea31c29b13aeb"
      ],
      "layout": "IPY_MODEL_7f56791935684275b4a90c16b6cc0f81"
     }
    },
    "f2a5974fe70a4ad7a7b818c1e99930bd": {
     "model_module": "@jupyter-widgets/controls",
     "model_module_version": "1.5.0",
     "model_name": "VBoxModel",
     "state": {
      "_dom_classes": [],
      "_model_module": "@jupyter-widgets/controls",
      "_model_module_version": "1.5.0",
      "_model_name": "VBoxModel",
      "_view_count": null,
      "_view_module": "@jupyter-widgets/controls",
      "_view_module_version": "1.5.0",
      "_view_name": "VBoxView",
      "box_style": "",
      "children": [
       "IPY_MODEL_12a0cc8d47f34f6fb42984319d8fc87c",
       "IPY_MODEL_670ba83a13824b1390bc3758e325e089"
      ],
      "layout": "IPY_MODEL_203e4005eb0f4c0cb1c41d6894ac9023"
     }
    },
    "f9442fd14cac4e8fab04dd4f061a0543": {
     "model_module": "@jupyter-widgets/controls",
     "model_module_version": "1.5.0",
     "model_name": "DescriptionStyleModel",
     "state": {
      "_model_module": "@jupyter-widgets/controls",
      "_model_module_version": "1.5.0",
      "_model_name": "DescriptionStyleModel",
      "_view_count": null,
      "_view_module": "@jupyter-widgets/base",
      "_view_module_version": "1.2.0",
      "_view_name": "StyleView",
      "description_width": ""
     }
    }
   }
  }
 },
 "nbformat": 4,
 "nbformat_minor": 5
}
