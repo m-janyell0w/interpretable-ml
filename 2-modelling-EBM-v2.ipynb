{
 "cells": [
  {
   "cell_type": "markdown",
   "id": "5e0e103d-168f-450e-8256-73b08f6de291",
   "metadata": {
    "id": "5e0e103d-168f-450e-8256-73b08f6de291"
   },
   "source": [
    "# Explainable Boosting Machine (EBM) - REVISED\n",
    "\n",
    "Ommit using month and year as features, such as freyberger et al."
   ]
  },
  {
   "cell_type": "code",
   "execution_count": 1,
   "id": "55QoRfCkM0UZ",
   "metadata": {
    "colab": {
     "base_uri": "https://localhost:8080/",
     "height": 88
    },
    "collapsed": true,
    "executionInfo": {
     "elapsed": 24974,
     "status": "ok",
     "timestamp": 1656662341234,
     "user": {
      "displayName": "Micha Ianniello",
      "userId": "13712894490193878768"
     },
     "user_tz": -120
    },
    "id": "55QoRfCkM0UZ",
    "jupyter": {
     "outputs_hidden": true
    },
    "outputId": "ad8ec2e9-5db9-44e6-8f45-0e49bf76a54e",
    "tags": []
   },
   "outputs": [
    {
     "name": "stderr",
     "output_type": "stream",
     "text": [
      "Failed to detect the name of this notebook, you can set it manually with the WANDB_NOTEBOOK_NAME environment variable to enable code saving.\n",
      "\u001b[34m\u001b[1mwandb\u001b[0m: Currently logged in as: \u001b[33mm-janyellow\u001b[0m. Use \u001b[1m`wandb login --relogin`\u001b[0m to force relogin\n"
     ]
    },
    {
     "data": {
      "text/plain": [
       "True"
      ]
     },
     "execution_count": 1,
     "metadata": {},
     "output_type": "execute_result"
    }
   ],
   "source": [
    "import wandb\n",
    "wandb.login()"
   ]
  },
  {
   "cell_type": "code",
   "execution_count": 1,
   "id": "3da347da-2928-4c7a-b7af-3fa938d5f393",
   "metadata": {
    "executionInfo": {
     "elapsed": 1093,
     "status": "ok",
     "timestamp": 1656662363454,
     "user": {
      "displayName": "Micha Ianniello",
      "userId": "13712894490193878768"
     },
     "user_tz": -120
    },
    "id": "3da347da-2928-4c7a-b7af-3fa938d5f393"
   },
   "outputs": [],
   "source": [
    "# import basic libraries\n",
    "from datetime import datetime\n",
    "import pickle\n",
    "\n",
    "from interpret.glassbox import ExplainableBoostingRegressor\n",
    "from interpret import show\n",
    "import matplotlib.pyplot as plt\n",
    "%matplotlib inline\n",
    "#pt.style.use(\"seaborn\")\n",
    "import numpy as np\n",
    "import random\n",
    "import pandas as pd\n",
    "from sklearn.model_selection import train_test_split\n",
    "from sklearn.preprocessing import StandardScaler\n",
    "from sklearn.metrics import mean_absolute_error, mean_squared_error\n",
    "\n",
    "from src.utils import data_loader, time_series_splitter\n",
    "from src.ebm.plot import visualize_sample_prediction, importance_bar_chart\n",
    "from src.ebm.train import EbmPipeline, save_model, load_model, normalize_target, denormalize, validate_model, rmse, evaluate_model\n",
    "\n",
    "root_path = \"./data/\"\n",
    "model_dir = \"./models/ebm/\""
   ]
  },
  {
   "cell_type": "code",
   "execution_count": 3,
   "id": "88761df4-f538-4224-8e6e-2d3370dc4053",
   "metadata": {},
   "outputs": [],
   "source": [
    "# # configure interpret to plot in notebook not using a local host\n",
    "# from interpret.provider import InlineProvider\n",
    "# from interpret import set_visualize_provider\n",
    "\n",
    "# set_visualize_provider(InlineProvider())"
   ]
  },
  {
   "cell_type": "code",
   "execution_count": 2,
   "id": "b7a6471f-12d0-4d95-bf74-d71eb9ddcfcc",
   "metadata": {
    "executionInfo": {
     "elapsed": 1785,
     "status": "ok",
     "timestamp": 1656662373441,
     "user": {
      "displayName": "Micha Ianniello",
      "userId": "13712894490193878768"
     },
     "user_tz": -120
    },
    "id": "b7a6471f-12d0-4d95-bf74-d71eb9ddcfcc"
   },
   "outputs": [],
   "source": [
    "subsample_path = 'subsample_processed_scaled_1000.csv'\n",
    "subsample = data_loader(root_path, subsample_path, pickle=False)\n",
    "#subsample.shape'"
   ]
  },
  {
   "cell_type": "code",
   "execution_count": 4,
   "id": "0ed5a929-21fd-4f3f-8fb8-0264352e835c",
   "metadata": {
    "executionInfo": {
     "elapsed": 2,
     "status": "ok",
     "timestamp": 1656662374213,
     "user": {
      "displayName": "Micha Ianniello",
      "userId": "13712894490193878768"
     },
     "user_tz": -120
    },
    "id": "0ed5a929-21fd-4f3f-8fb8-0264352e835c"
   },
   "outputs": [],
   "source": [
    "# Load full dataset with multiindex enabled\n",
    "fullsample_path = 'data_processed_scaled.pkl'\n",
    "fullsample = data_loader(root_path, fullsample_path, pickle=True)\n",
    "#data.shape"
   ]
  },
  {
   "cell_type": "markdown",
   "id": "2t0Gj0S2ikqC",
   "metadata": {
    "id": "2t0Gj0S2ikqC",
    "tags": []
   },
   "source": [
    "### Hyperparameter tuning\n",
    "(https://towardsdatascience.com/bayesian-optimization-for-hyperparameter-tuning-how-and-why-655b0ee0b399)"
   ]
  },
  {
   "cell_type": "code",
   "execution_count": 6,
   "id": "vu2N5hwhPSg8",
   "metadata": {
    "executionInfo": {
     "elapsed": 228,
     "status": "ok",
     "timestamp": 1656662542004,
     "user": {
      "displayName": "Micha Ianniello",
      "userId": "13712894490193878768"
     },
     "user_tz": -120
    },
    "id": "vu2N5hwhPSg8"
   },
   "outputs": [],
   "source": [
    "from skopt import BayesSearchCV\n",
    "\n",
    "# Lets try Bayesian search first\n",
    "X_train, X_test, _, y_train, y_test, _ = time_series_splitter(subsample)"
   ]
  },
  {
   "cell_type": "code",
   "execution_count": 7,
   "id": "DzUvtlGROjnW",
   "metadata": {
    "colab": {
     "base_uri": "https://localhost:8080/"
    },
    "executionInfo": {
     "elapsed": 304,
     "status": "ok",
     "timestamp": 1656662582172,
     "user": {
      "displayName": "Micha Ianniello",
      "userId": "13712894490193878768"
     },
     "user_tz": -120
    },
    "id": "DzUvtlGROjnW",
    "outputId": "fd78d94a-9152-49c0-c0f6-1c648d088dc5"
   },
   "outputs": [
    {
     "name": "stdout",
     "output_type": "stream",
     "text": [
      "Optimization took (12.0, 2) minutes.\n"
     ]
    }
   ],
   "source": [
    "# Bayesian Search for hyperparm tuning\n",
    "n_iter = 32\n",
    "\n",
    "param_grid = {\n",
    "    \"learning_rate\": (0.0001, 0.1, \"log-uniform\"),\n",
    "    \"max_rounds\": (3000, 4000,  5000, 6000) ,\n",
    "    \"early_stopping_rounds\": (30, 50),\n",
    "    \"max_bins\": (128, 256),\n",
    "    \"early_stopping_tolerance\" : (0.00001, 0.01, \"log-uniform\")\n",
    "}\n",
    "\n",
    "reg_bay = BayesSearchCV(estimator=ExplainableBoostingRegressor(random_state=0, n_jobs=-2),\n",
    "                    search_spaces=param_grid,\n",
    "                    n_iter=n_iter,\n",
    "                    cv=5,\n",
    "                    n_jobs=8,\n",
    "                    scoring='neg_mean_squared_error',\n",
    "                    random_state=0)\n",
    "\n",
    "start_time = datetime.now()\n",
    "\n",
    "# Run Bayes Search (this takes a while)\n",
    "model_bay = reg_bay.fit(X_train, y_train)\n",
    "\n",
    "execution_time = (datetime.now() - start_time).total_seconds()\n",
    "print(f\"Optimization took {np.round(execution_time/60),2} minutes.\")\n",
    "\n",
    "# model can be saved, used for predictions or scoring\n",
    "best_parms = model_bay.best_params_\n",
    "\n",
    "with open(f'best_params_ebm.pkl', 'wb') as f:\n",
    "        pickle.dump(best_parms, f)"
   ]
  },
  {
   "cell_type": "code",
   "execution_count": 11,
   "id": "95dee86b-e296-4f79-9664-ae1f3b675940",
   "metadata": {},
   "outputs": [],
   "source": [
    "with open(f'{model_dir}best_params_ebm.pkl', 'wb') as f:\n",
    "        pickle.dump(best_parms, f)"
   ]
  },
  {
   "cell_type": "code",
   "execution_count": 12,
   "id": "yXJsO112Z_vL",
   "metadata": {
    "colab": {
     "base_uri": "https://localhost:8080/"
    },
    "executionInfo": {
     "elapsed": 271,
     "status": "ok",
     "timestamp": 1656618993520,
     "user": {
      "displayName": "Micha Ianniello",
      "userId": "13712894490193878768"
     },
     "user_tz": -120
    },
    "id": "yXJsO112Z_vL",
    "outputId": "b0456bdc-3075-4036-8768-f3014b495635"
   },
   "outputs": [
    {
     "name": "stdout",
     "output_type": "stream",
     "text": [
      "Best params are: OrderedDict([('early_stopping_rounds', 38), ('early_stopping_tolerance', 3.91595624545083e-05), ('learning_rate', 0.00025746896437686993), ('max_bins', 164), ('max_rounds', 4000)]) \n",
      " with best score of -0.012647079720771882 \n"
     ]
    }
   ],
   "source": [
    "# model can be saved, used for predictions or scoring\n",
    "best_parms = model_bay.best_params_\n",
    "best_score = model_bay.best_score_\n",
    "best_estimator = model_bay.best_estimator_\n",
    "cv_results = model_bay.cv_results_\n",
    "print(f\"Best params are: {best_parms} \\n with best score of {best_score} \")"
   ]
  },
  {
   "cell_type": "code",
   "execution_count": 9,
   "id": "Ff_8XEb8icdg",
   "metadata": {
    "executionInfo": {
     "elapsed": 229,
     "status": "ok",
     "timestamp": 1656663277379,
     "user": {
      "displayName": "Micha Ianniello",
      "userId": "13712894490193878768"
     },
     "user_tz": -120
    },
    "id": "Ff_8XEb8icdg"
   },
   "outputs": [],
   "source": [
    "# fixed best parms identified by bayessearch and experiments and rounded them\n",
    "best_parms_0 = dict([('early_stopping_rounds', 37), ('early_stopping_tolerance', 0.0002), \n",
    "                    ('learning_rate', 0.00061), ('max_bins', 230), ('max_rounds', 3000)])\n",
    "\n",
    "best_params_1 = dict([('early_stopping_rounds', 37), ('early_stopping_tolerance', 0.00020919480782183626), \n",
    "                     ('learning_rate', 0.000609840586504895), ('max_bins', 230), ('max_rounds', 3000)])\n",
    "\n",
    "with open(f'best_params_ebm_0.pkl', 'wb') as f:\n",
    "        pickle.dump(best_parms_0, f)"
   ]
  },
  {
   "cell_type": "markdown",
   "id": "bfda6998-3dfe-48f6-ad47-b09aacc2feab",
   "metadata": {
    "id": "bfda6998-3dfe-48f6-ad47-b09aacc2feab",
    "tags": []
   },
   "source": [
    "## Modelling\n",
    "\n",
    "Split data into train and test sets using slicing (like in https://towardsdatascience.com/time-series-from-scratch-train-test-splits-and-evaluation-metrics-4fd654de1b37). <br/>\n",
    "\n",
    "Set sizes according to Freyberger et al, 2019 (p.2356):\n",
    "\n",
    "Train size: 1965 to 1985\n",
    "Test size: 1986 to 1990"
   ]
  },
  {
   "cell_type": "code",
   "execution_count": 6,
   "id": "4f5e5df6-f4a3-43a0-8ced-a37bdab71f83",
   "metadata": {
    "tags": []
   },
   "outputs": [],
   "source": [
    "# load saved hyperparams\n",
    "with open(f'{model_dir}best_params_ebm.pkl', 'rb') as f:\n",
    "        best_parms = pickle.load(f)"
   ]
  },
  {
   "cell_type": "code",
   "execution_count": 12,
   "id": "0bc3676e-eaab-47ff-b2d7-1738ed9058c3",
   "metadata": {},
   "outputs": [],
   "source": [
    "def normalize_target(data):\n",
    "    \"\"\"\n",
    "    Normalizes target variable y of a dataset.\n",
    "    \"\"\"\n",
    "    scaler = StandardScaler()\n",
    "    target = data.TARGET.values.reshape(-1, 1)\n",
    "    #print(target.shape)\n",
    "    data['TARGET'] = scaler.fit_transform(target)\n",
    "    return data"
   ]
  },
  {
   "cell_type": "markdown",
   "id": "edd814b4-3f9a-489d-9ce3-7a2dbcbfdad9",
   "metadata": {},
   "source": [
    "### Experiment: Train on subsample without temporal features\n"
   ]
  },
  {
   "cell_type": "code",
   "execution_count": 43,
   "id": "550da11e-edfa-4c0d-9a3e-409e171311e0",
   "metadata": {
    "id": "550da11e-edfa-4c0d-9a3e-409e171311e0",
    "outputId": "cfb60902-0be4-4980-ea2b-b339de2fc689",
    "tags": []
   },
   "outputs": [
    {
     "name": "stdout",
     "output_type": "stream",
     "text": [
      "Dataset has shape:  (220700, 68)\n",
      "Dataset has shape  (220700, 64)\n"
     ]
    },
    {
     "data": {
      "text/html": [
       "<!-- http://127.0.0.1:7001/2260594163136/ -->\n",
       "<iframe src=\"http://127.0.0.1:7001/2260594163136/\" width=100% height=800 frameBorder=\"0\"></iframe>"
      ]
     },
     "metadata": {},
     "output_type": "display_data"
    }
   ],
   "source": [
    "# Training procedure\n",
    "model = ExplainableBoostingRegressor(random_state=0)\n",
    "\n",
    "# setup hyperparams\n",
    "param_dict = dict(best_parms)\n",
    "model.set_params(**param_dict)\n",
    "\n",
    "##### get data (without extra features to be comparable with freyberger et al)########\n",
    "data = subsample\n",
    "# normalize target\n",
    "data = normalize_target(data)\n",
    "print(\"Dataset has shape: \", data.shape)\n",
    "\n",
    "# remove cols not used by freyberger\n",
    "try:\n",
    "    data.drop(['mm_sin', 'mm_cos', 'yy', 'stock'], axis=1, inplace=True) # cols can only be dropped once\n",
    "except:\n",
    "    pass\n",
    "print(\"Dataset has shape \", data.shape)\n",
    "\n",
    "# split the data\n",
    "X_train, X_valid, X_test, y_train, y_valid, y_test = time_series_splitter(data)\n",
    "\n",
    "model.fit(X_train, y_train)\n",
    "\n",
    "ebm_global = model.explain_global()\n",
    "show(ebm_global)\n",
    "\n",
    "ebm_local = model.explain_local(X_test[:5], y_test[:5])\n",
    "#show(ebm_local)"
   ]
  },
  {
   "cell_type": "code",
   "execution_count": 7,
   "id": "6f8b64dc",
   "metadata": {},
   "outputs": [
    {
     "name": "stderr",
     "output_type": "stream",
     "text": [
      "c:\\Users\\ASUS\\anaconda3\\envs\\ml-seminar\\lib\\site-packages\\interpret\\visual\\udash.py:5: UserWarning: \n",
      "The dash_html_components package is deprecated. Please replace\n",
      "`import dash_html_components as html` with `from dash import html`\n",
      "  import dash_html_components as html\n",
      "c:\\Users\\ASUS\\anaconda3\\envs\\ml-seminar\\lib\\site-packages\\interpret\\visual\\udash.py:6: UserWarning: \n",
      "The dash_core_components package is deprecated. Please replace\n",
      "`import dash_core_components as dcc` with `from dash import dcc`\n",
      "  import dash_core_components as dcc\n",
      "c:\\Users\\ASUS\\anaconda3\\envs\\ml-seminar\\lib\\site-packages\\interpret\\visual\\udash.py:7: UserWarning: \n",
      "The dash_table package is deprecated. Please replace\n",
      "`import dash_table` with `from dash import dash_table`\n",
      "\n",
      "Also, if you're using any of the table format helpers (e.g. Group), replace \n",
      "`from dash_table.Format import Group` with \n",
      "`from dash.dash_table.Format import Group`\n",
      "  import dash_table as dt\n"
     ]
    },
    {
     "data": {
      "text/html": [
       "<!-- http://127.0.0.1:7001/1330600271936/ -->\n",
       "<iframe src=\"http://127.0.0.1:7001/1330600271936/\" width=100% height=800 frameBorder=\"0\"></iframe>"
      ]
     },
     "metadata": {},
     "output_type": "display_data"
    }
   ],
   "source": [
    "show(ebm_global)"
   ]
  },
  {
   "cell_type": "code",
   "execution_count": 13,
   "id": "ac674d9d",
   "metadata": {},
   "outputs": [],
   "source": [
    "pipe = EbmPipeline()\n",
    "\n",
    "def evaluate_model(model, X, y, set_type=\"train\"):\n",
    "    # pred\n",
    "    y_pred = model.predict(X)\n",
    "\n",
    "    # performance metrics\n",
    "    r_squared = model.score(X,y)\n",
    "    mae = mean_absolute_error(y, y_pred) \n",
    "    mse = mean_squared_error(y, y_pred)\n",
    "    rmse_ = rmse(y, y_pred)\n",
    "    \n",
    "    # print metrics\n",
    "    print(f\"------------- {set_type} performance: -------------\")\n",
    "    print(f\"R-squared: {r_squared}\")\n",
    "    print(f\"Mean absolute error: {mae}\")\n",
    "    print(f\"Mean squared error: {mse}\")\n",
    "    print(f\"Root mean squared error: {rmse_} \\n\")\n",
    "\n",
    "    metrics = {\n",
    "        \"r-squared\" : r_squared,\n",
    "        \"mae\" : mae,\n",
    "        \"mse\" : mse,\n",
    "        \"rmse\" : rmse_\n",
    "    }\n",
    "\n",
    "    return metrics"
   ]
  },
  {
   "cell_type": "code",
   "execution_count": 44,
   "id": "497d1bf0",
   "metadata": {},
   "outputs": [
    {
     "name": "stdout",
     "output_type": "stream",
     "text": [
      "------------- Train performance: -------------\n",
      "R-squared: 0.059266374673811684\n",
      "Mean absolute error: 0.5943395309805165\n",
      "Mean squared error: 0.6959162421783387\n",
      "Root mean squared error: 0.8342159445721106 \n",
      "\n",
      "------------- Valid performance: -------------\n",
      "R-squared: -0.02202359944639598\n",
      "Mean absolute error: 0.6401803949931489\n",
      "Mean squared error: 0.8680592484017181\n",
      "Root mean squared error: 0.9316969724120167 \n",
      "\n",
      "------------- Test performance: -------------\n",
      "R-squared: -0.01467064543210217\n",
      "Mean absolute error: 0.6908400187444067\n",
      "Mean squared error: 1.1779893183012211\n",
      "Root mean squared error: 1.0853521632637129 \n",
      "\n"
     ]
    },
    {
     "data": {
      "text/plain": [
       "{'r-squared': -0.01467064543210217,\n",
       " 'mae': 0.6908400187444067,\n",
       " 'mse': 1.1779893183012211,\n",
       " 'rmse': 1.0853521632637129}"
      ]
     },
     "execution_count": 44,
     "metadata": {},
     "output_type": "execute_result"
    }
   ],
   "source": [
    "evaluate_model(model=model, X=X_train, y=y_train, set_type=\"Train\")\n",
    "evaluate_model(model=model, X=X_valid, y=y_valid, set_type=\"Valid\")\n",
    "evaluate_model(model=model, X=X_test, y=y_test, set_type=\"Test\")"
   ]
  },
  {
   "cell_type": "code",
   "execution_count": 15,
   "id": "b2f7569e-c50c-4eb5-aae5-e3d0f1aacb85",
   "metadata": {},
   "outputs": [],
   "source": [
    "# get feature imprtances from global explan object\n",
    "importances_dict = ebm_global.data()\n",
    "try:\n",
    "    importances_dict.pop('type')\n",
    "except:\n",
    "    pass\n",
    "\n",
    "feature_importance_df = pd.DataFrame(importances_dict)\n",
    "feature_importance_df.rename(columns={\"names\": \"feature\", \"scores\": \"importance score\"}, inplace=True)"
   ]
  },
  {
   "cell_type": "code",
   "execution_count": 37,
   "id": "9135803a-3c08-44d5-92d9-58278c6faad1",
   "metadata": {},
   "outputs": [
    {
     "name": "stderr",
     "output_type": "stream",
     "text": [
      "c:\\Users\\ASUS\\Documents\\seminar-interpretable-ml\\src\\ebm\\plot.py:40: SettingWithCopyWarning:\n",
      "\n",
      "\n",
      "A value is trying to be set on a copy of a slice from a DataFrame\n",
      "\n",
      "See the caveats in the documentation: https://pandas.pydata.org/pandas-docs/stable/user_guide/indexing.html#returning-a-view-versus-a-copy\n",
      "\n"
     ]
    },
    {
     "data": {
      "image/png": "[encoded data removed]",
      "text/plain": [
       "<Figure size 640x480 with 1 Axes>"
      ]
     },
     "metadata": {},
     "output_type": "display_data"
    },
    {
     "data": {
      "text/plain": [
       "<Figure size 640x480 with 0 Axes>"
      ]
     },
     "metadata": {},
     "output_type": "display_data"
    }
   ],
   "source": [
    "importance_bar_chart(feature_importance_df[0:21], save=True, id='121')"
   ]
  },
  {
   "cell_type": "code",
   "execution_count": 72,
   "id": "185dcae8-47d2-4ab5-b356-da7ae411af1f",
   "metadata": {},
   "outputs": [
    {
     "data": {
      "image/png": "[encoded data removed]",
      "text/plain": [
       "<Figure size 1800x600 with 1 Axes>"
      ]
     },
     "metadata": {},
     "output_type": "display_data"
    }
   ],
   "source": [
    "y_pred = model.predict(X_valid)\n",
    "\n",
    "## lets see the preds visualized\n",
    "visualize_sample_prediction(y_valid, y_pred, subsample)"
   ]
  },
  {
   "cell_type": "markdown",
   "id": "ac47cf24-3c7e-44b9-bb15-1c44966665e8",
   "metadata": {},
   "source": [
    "### Experiment: Train on fullsample, w/o months"
   ]
  },
  {
   "cell_type": "code",
   "execution_count": 10,
   "id": "769c8292",
   "metadata": {},
   "outputs": [
    {
     "name": "stdout",
     "output_type": "stream",
     "text": [
      "Dataset has shape:  (1363261, 66)\n",
      "Dataset has shape  (1363261, 66)\n"
     ]
    },
    {
     "data": {
      "text/html": [
       "<!-- http://127.0.0.1:7001/2260581211488/ -->\n",
       "<iframe src=\"http://127.0.0.1:7001/2260581211488/\" width=100% height=800 frameBorder=\"0\"></iframe>"
      ]
     },
     "metadata": {},
     "output_type": "display_data"
    }
   ],
   "source": [
    "# Training procedure\n",
    "model = ExplainableBoostingRegressor(random_state=0)\n",
    "\n",
    "# setup hyperparams\n",
    "# param_dict = dict(best_parms)\n",
    "# model.set_params(**param_dict)\n",
    "\n",
    "##### get data (without extra features to be comparable with freyberger et al)########\n",
    "data = fullsample\n",
    "# normalize target\n",
    "data = normalize_target(data)\n",
    "print(\"Dataset has shape: \", data.shape)\n",
    "\n",
    "# remove cols not used by freyberger\n",
    "try:\n",
    "    data.drop(['mm_sin', 'mm_cos'], axis=1, inplace=True) # cols can only be dropped once\n",
    "except:\n",
    "    pass\n",
    "print(\"Dataset has shape \", data.shape)\n",
    "\n",
    "# split the data\n",
    "X_train, X_valid, X_test, y_train, y_valid, y_test = time_series_splitter(data)\n",
    "\n",
    "model.fit(X_train, y_train)\n",
    "\n",
    "ebm_global = model.explain_global()\n",
    "show(ebm_global)\n",
    "\n",
    "ebm_local = model.explain_local(X_test[:5], y_test[:5])\n",
    "#show(ebm_local)"
   ]
  },
  {
   "cell_type": "code",
   "execution_count": 13,
   "id": "3778ff01",
   "metadata": {},
   "outputs": [
    {
     "name": "stdout",
     "output_type": "stream",
     "text": [
      "------------- Train performance: -------------\n",
      "R-squared: 0.22551499763286498\n",
      "Mean absolute error: 0.5345392157028552\n",
      "Mean squared error: 0.5619520421738005\n",
      "Root mean squared error: 0.7496346057739066 \n",
      "\n",
      "------------- Valid performance: -------------\n",
      "R-squared: -0.07951536297955974\n",
      "Mean absolute error: 0.6653526578876858\n",
      "Mean squared error: 0.9347945173525036\n",
      "Root mean squared error: 0.9668477219048011 \n",
      "\n",
      "------------- Test performance: -------------\n",
      "R-squared: -0.061356224340148424\n",
      "Mean absolute error: 0.7109079648564316\n",
      "Mean squared error: 1.2220584367508989\n",
      "Root mean squared error: 1.1054675195368242 \n",
      "\n"
     ]
    },
    {
     "data": {
      "text/plain": [
       "{'r-squared': -0.061356224340148424,\n",
       " 'mae': 0.7109079648564316,\n",
       " 'mse': 1.2220584367508989,\n",
       " 'rmse': 1.1054675195368242}"
      ]
     },
     "execution_count": 13,
     "metadata": {},
     "output_type": "execute_result"
    }
   ],
   "source": [
    "# evaluate model performance on different data sets\n",
    "evaluate_model(model=model, X=X_train, y=y_train, set_type=\"Train\")\n",
    "evaluate_model(model=model, X=X_valid, y=y_valid, set_type=\"Valid\")\n",
    "evaluate_model(model=model, X=X_test, y=y_test, set_type=\"Test\")"
   ]
  },
  {
   "cell_type": "code",
   "execution_count": 11,
   "id": "c29a45fc",
   "metadata": {},
   "outputs": [
    {
     "name": "stderr",
     "output_type": "stream",
     "text": [
      "c:\\Users\\ASUS\\Documents\\seminar-interpretable-ml\\src\\ebm\\plot.py:40: SettingWithCopyWarning:\n",
      "\n",
      "\n",
      "A value is trying to be set on a copy of a slice from a DataFrame\n",
      "\n",
      "See the caveats in the documentation: https://pandas.pydata.org/pandas-docs/stable/user_guide/indexing.html#returning-a-view-versus-a-copy\n",
      "\n"
     ]
    },
    {
     "ename": "AttributeError",
     "evalue": "'NoneType' object has no attribute 'feature'",
     "output_type": "error",
     "traceback": [
      "\u001b[1;31m---------------------------------------------------------------------------\u001b[0m",
      "\u001b[1;31mAttributeError\u001b[0m                            Traceback (most recent call last)",
      "\u001b[1;32mc:\\Users\\ASUS\\Documents\\seminar-interpretable-ml\\2-modelling-EBM-v2.ipynb Zelle 27\u001b[0m in \u001b[0;36m<cell line: 23>\u001b[1;34m()\u001b[0m\n\u001b[0;32m     <a href='vscode-notebook-cell:/c%3A/Users/ASUS/Documents/seminar-interpretable-ml/2-modelling-EBM-v2.ipynb#X60sZmlsZQ%3D%3D?line=18'>19</a>\u001b[0m     \u001b[39mreturn\u001b[39;00m feature_importance_df\n\u001b[0;32m     <a href='vscode-notebook-cell:/c%3A/Users/ASUS/Documents/seminar-interpretable-ml/2-modelling-EBM-v2.ipynb#X60sZmlsZQ%3D%3D?line=20'>21</a>\u001b[0m feature_importance_df \u001b[39m=\u001b[39m save_feature_importance(ebm_global\u001b[39m=\u001b[39mebm_global, save\u001b[39m=\u001b[39m\u001b[39mTrue\u001b[39;00m)\n\u001b[1;32m---> <a href='vscode-notebook-cell:/c%3A/Users/ASUS/Documents/seminar-interpretable-ml/2-modelling-EBM-v2.ipynb#X60sZmlsZQ%3D%3D?line=22'>23</a>\u001b[0m importance_bar_chart(feature_importance_df[\u001b[39m0\u001b[39;49m:\u001b[39m21\u001b[39;49m], model_dir, save\u001b[39m=\u001b[39;49m\u001b[39mTrue\u001b[39;49;00m, \u001b[39mid\u001b[39;49m\u001b[39m=\u001b[39;49m\u001b[39m\"\u001b[39;49m\u001b[39m120\u001b[39;49m\u001b[39m\"\u001b[39;49m)\n",
      "File \u001b[1;32mc:\\Users\\ASUS\\Documents\\seminar-interpretable-ml\\src\\ebm\\plot.py:46\u001b[0m, in \u001b[0;36mimportance_bar_chart\u001b[1;34m(feature_importance_df, model_dir, save, id)\u001b[0m\n\u001b[0;32m     43\u001b[0m fig, ax \u001b[39m=\u001b[39m plt\u001b[39m.\u001b[39msubplots()\n\u001b[0;32m     45\u001b[0m \u001b[39m# ylabels\u001b[39;00m\n\u001b[1;32m---> 46\u001b[0m features \u001b[39m=\u001b[39m \u001b[39msorted\u001b[39;49m\u001b[39m.\u001b[39;49mfeature\n\u001b[0;32m     47\u001b[0m y_pos \u001b[39m=\u001b[39m np\u001b[39m.\u001b[39marange(\u001b[39mlen\u001b[39m(features))\n\u001b[0;32m     48\u001b[0m importance \u001b[39m=\u001b[39m \u001b[39msorted\u001b[39m[\u001b[39m'\u001b[39m\u001b[39mimportance score\u001b[39m\u001b[39m'\u001b[39m]\n",
      "\u001b[1;31mAttributeError\u001b[0m: 'NoneType' object has no attribute 'feature'"
     ]
    },
    {
     "data": {
      "image/png": "[encoded data removed]",
      "text/plain": [
       "<Figure size 640x480 with 1 Axes>"
      ]
     },
     "metadata": {},
     "output_type": "display_data"
    }
   ],
   "source": [
    "# save feat_importances\n",
    "# get feature imprtances from global explan object\n",
    "def save_feature_importance(ebm_global, save=False, id=\"00\"):\n",
    "    importances_dict = ebm_global.data()\n",
    "    try:\n",
    "        importances_dict.pop('type')\n",
    "    except:\n",
    "        pass\n",
    "\n",
    "    feature_importance_df = pd.DataFrame(importances_dict)\n",
    "    feature_importance_df.rename(columns={\"names\": \"feature\", \"scores\": \"importance score\"}, inplace=True)\n",
    "\n",
    "    feature_importance_df.sort_values(by='importance score', ascending=False, axis=0, inplace=True)\n",
    "\n",
    "    if save:\n",
    "        with open(model_dir+f\"feature_importance_df_{id}.pkl\", \"wb\") as f:\n",
    "            pickle.dump(feature_importance_df, f)\n",
    "    \n",
    "    return feature_importance_df\n",
    "\n",
    "feature_importance_df = save_feature_importance(ebm_global=ebm_global, save=True)\n",
    "\n",
    "importance_bar_chart(feature_importance_df[0:21], model_dir, save=True, id=\"120\")"
   ]
  },
  {
   "cell_type": "markdown",
   "id": "77d73438",
   "metadata": {},
   "source": [
    "### Experiment: Train on subsample, without month"
   ]
  },
  {
   "cell_type": "code",
   "execution_count": 7,
   "id": "cbc1920b-37b8-4f4f-8f6e-34456cdc2998",
   "metadata": {
    "collapsed": true,
    "jupyter": {
     "outputs_hidden": true
    },
    "tags": []
   },
   "outputs": [
    {
     "name": "stdout",
     "output_type": "stream",
     "text": [
      "Dataset has shape:  (220700, 68)\n",
      "Dataset has shape  (220700, 66)\n"
     ]
    },
    {
     "name": "stderr",
     "output_type": "stream",
     "text": [
      "c:\\Users\\ASUS\\anaconda3\\envs\\ml-seminar\\lib\\site-packages\\interpret\\visual\\udash.py:5: UserWarning: \n",
      "The dash_html_components package is deprecated. Please replace\n",
      "`import dash_html_components as html` with `from dash import html`\n",
      "  import dash_html_components as html\n",
      "c:\\Users\\ASUS\\anaconda3\\envs\\ml-seminar\\lib\\site-packages\\interpret\\visual\\udash.py:6: UserWarning: \n",
      "The dash_core_components package is deprecated. Please replace\n",
      "`import dash_core_components as dcc` with `from dash import dcc`\n",
      "  import dash_core_components as dcc\n",
      "c:\\Users\\ASUS\\anaconda3\\envs\\ml-seminar\\lib\\site-packages\\interpret\\visual\\udash.py:7: UserWarning: \n",
      "The dash_table package is deprecated. Please replace\n",
      "`import dash_table` with `from dash import dash_table`\n",
      "\n",
      "Also, if you're using any of the table format helpers (e.g. Group), replace \n",
      "`from dash_table.Format import Group` with \n",
      "`from dash.dash_table.Format import Group`\n",
      "  import dash_table as dt\n"
     ]
    },
    {
     "data": {
      "text/html": [
       "<!-- http://127.0.0.1:7001/1773015693200/ -->\n",
       "<iframe src=\"http://127.0.0.1:7001/1773015693200/\" width=100% height=800 frameBorder=\"0\"></iframe>"
      ]
     },
     "metadata": {},
     "output_type": "display_data"
    }
   ],
   "source": [
    "# Training procedure\n",
    "model = ExplainableBoostingRegressor(random_state=0)\n",
    "\n",
    "# setup hyperparams\n",
    "param_dict = dict(best_parms)\n",
    "model.set_params(**param_dict)\n",
    "\n",
    "##### get data (without extra features to be comparable with freyberger et al)########\n",
    "data = subsample\n",
    "# normalize target\n",
    "data = normalize_target(data)\n",
    "print(\"Dataset has shape: \", data.shape)\n",
    "\n",
    "# remove cols not used by freyberger\n",
    "try:\n",
    "    data.drop(['mm_sin', 'mm_cos'], axis=1, inplace=True) # cols can only be dropped once\n",
    "except:\n",
    "    pass\n",
    "print(\"Dataset has shape \", data.shape)\n",
    "\n",
    "# split the data\n",
    "X_train, X_valid, X_test, y_train, y_valid, y_test = time_series_splitter(data)\n",
    "\n",
    "model.fit(X_train, y_train)\n",
    "\n",
    "ebm_global = model.explain_global()\n",
    "show(ebm_global)\n",
    "\n",
    "ebm_local = model.explain_local(X_test[:5], y_test[:5])\n",
    "#show(ebm_local)\n"
   ]
  },
  {
   "cell_type": "code",
   "execution_count": 8,
   "id": "ef6ae652-26a5-4d34-89fc-5a03698576f4",
   "metadata": {},
   "outputs": [
    {
     "name": "stdout",
     "output_type": "stream",
     "text": [
      "------------- Train performance: -------------\n",
      "R-squared: 0.0671665651340394\n",
      "Mean absolute error: 0.591288758106941\n",
      "Mean squared error: 0.6900720045434093\n",
      "Root mean squared error: 0.8307057268030655 \n",
      "\n",
      "------------- Valid performance: -------------\n",
      "R-squared: -0.02226864296631681\n",
      "Mean absolute error: 0.6390847189121126\n",
      "Mean squared error: 0.8682673769555435\n",
      "Root mean squared error: 0.9318086589829178 \n",
      "\n",
      "------------- Test performance: -------------\n",
      "R-squared: -0.015470458492702344\n",
      "Mean absolute error: 0.6909583025790342\n",
      "Mean squared error: 1.1789178671325746\n",
      "Root mean squared error: 1.0857798428468703 \n",
      "\n"
     ]
    },
    {
     "data": {
      "text/plain": [
       "{'r-squared': -0.015470458492702344,\n",
       " 'mae': 0.6909583025790342,\n",
       " 'mse': 1.1789178671325746,\n",
       " 'rmse': 1.0857798428468703}"
      ]
     },
     "execution_count": 8,
     "metadata": {},
     "output_type": "execute_result"
    }
   ],
   "source": [
    "# evaluate model performance on different data sets\n",
    "evaluate_model(model=model, X=X_train, y=y_train, set_type=\"Train\")\n",
    "evaluate_model(model=model, X=X_valid, y=y_valid, set_type=\"Valid\")\n",
    "evaluate_model(model=model, X=X_test, y=y_test, set_type=\"Test\")"
   ]
  },
  {
   "cell_type": "code",
   "execution_count": 4,
   "id": "ed913b32",
   "metadata": {},
   "outputs": [],
   "source": [
    "with open('./models/ebm/feature_importance_df_122.pkl', \"rb\") as f:\n",
    "    feature_importance_df = pickle.load(f)"
   ]
  },
  {
   "cell_type": "code",
   "execution_count": 5,
   "id": "ec299ca3",
   "metadata": {},
   "outputs": [
    {
     "name": "stderr",
     "output_type": "stream",
     "text": [
      "c:\\Users\\ASUS\\Documents\\seminar-interpretable-ml\\src\\ebm\\plot.py:40: SettingWithCopyWarning: \n",
      "A value is trying to be set on a copy of a slice from a DataFrame\n",
      "\n",
      "See the caveats in the documentation: https://pandas.pydata.org/pandas-docs/stable/user_guide/indexing.html#returning-a-view-versus-a-copy\n",
      "  feature_importance_df.sort_values(by='importance score', ascending=False, axis=0, inplace=True)\n"
     ]
    },
    {
     "data": {
      "image/png": "[encoded data removed]",
      "text/plain": [
       "<Figure size 640x480 with 1 Axes>"
      ]
     },
     "metadata": {},
     "output_type": "display_data"
    }
   ],
   "source": [
    "importance_bar_chart(feature_importance_df[0:21], model_dir, save=True, id=\"122\")"
   ]
  },
  {
   "cell_type": "code",
   "execution_count": 12,
   "id": "2cfb5345-1978-43cf-bf5f-3441d06eae90",
   "metadata": {
    "tags": []
   },
   "outputs": [
    {
     "name": "stderr",
     "output_type": "stream",
     "text": [
      "c:\\Users\\ASUS\\Documents\\seminar-interpretable-ml\\src\\ebm\\plot.py:40: SettingWithCopyWarning:\n",
      "\n",
      "\n",
      "A value is trying to be set on a copy of a slice from a DataFrame\n",
      "\n",
      "See the caveats in the documentation: https://pandas.pydata.org/pandas-docs/stable/user_guide/indexing.html#returning-a-view-versus-a-copy\n",
      "\n"
     ]
    },
    {
     "ename": "AttributeError",
     "evalue": "'NoneType' object has no attribute 'feature'",
     "output_type": "error",
     "traceback": [
      "\u001b[1;31m---------------------------------------------------------------------------\u001b[0m",
      "\u001b[1;31mAttributeError\u001b[0m                            Traceback (most recent call last)",
      "\u001b[1;32mc:\\Users\\ASUS\\Documents\\seminar-interpretable-ml\\2-modelling-EBM-v2.ipynb Zelle 31\u001b[0m in \u001b[0;36m<cell line: 19>\u001b[1;34m()\u001b[0m\n\u001b[0;32m     <a href='vscode-notebook-cell:/c%3A/Users/ASUS/Documents/seminar-interpretable-ml/2-modelling-EBM-v2.ipynb#X35sZmlsZQ%3D%3D?line=15'>16</a>\u001b[0m \u001b[39m# get feature imprtances from global explan object\u001b[39;00m\n\u001b[0;32m     <a href='vscode-notebook-cell:/c%3A/Users/ASUS/Documents/seminar-interpretable-ml/2-modelling-EBM-v2.ipynb#X35sZmlsZQ%3D%3D?line=16'>17</a>\u001b[0m feature_importance_df \u001b[39m=\u001b[39m save_feature_importance(ebm_global\u001b[39m=\u001b[39mebm_global, save\u001b[39m=\u001b[39m\u001b[39mTrue\u001b[39;00m)\n\u001b[1;32m---> <a href='vscode-notebook-cell:/c%3A/Users/ASUS/Documents/seminar-interpretable-ml/2-modelling-EBM-v2.ipynb#X35sZmlsZQ%3D%3D?line=18'>19</a>\u001b[0m importance_bar_chart(feature_importance_df[\u001b[39m0\u001b[39;49m:\u001b[39m21\u001b[39;49m], model_dir, save\u001b[39m=\u001b[39;49m\u001b[39mTrue\u001b[39;49;00m, \u001b[39mid\u001b[39;49m\u001b[39m=\u001b[39;49m\u001b[39m\"\u001b[39;49m\u001b[39m122\u001b[39;49m\u001b[39m\"\u001b[39;49m)\n",
      "File \u001b[1;32mc:\\Users\\ASUS\\Documents\\seminar-interpretable-ml\\src\\ebm\\plot.py:46\u001b[0m, in \u001b[0;36mimportance_bar_chart\u001b[1;34m(feature_importance_df, model_dir, save, id)\u001b[0m\n\u001b[0;32m     43\u001b[0m fig, ax \u001b[39m=\u001b[39m plt\u001b[39m.\u001b[39msubplots()\n\u001b[0;32m     45\u001b[0m \u001b[39m# ylabels\u001b[39;00m\n\u001b[1;32m---> 46\u001b[0m features \u001b[39m=\u001b[39m \u001b[39msorted\u001b[39;49m\u001b[39m.\u001b[39;49mfeature\n\u001b[0;32m     47\u001b[0m y_pos \u001b[39m=\u001b[39m np\u001b[39m.\u001b[39marange(\u001b[39mlen\u001b[39m(features))\n\u001b[0;32m     48\u001b[0m importance \u001b[39m=\u001b[39m \u001b[39msorted\u001b[39m[\u001b[39m'\u001b[39m\u001b[39mimportance score\u001b[39m\u001b[39m'\u001b[39m]\n",
      "\u001b[1;31mAttributeError\u001b[0m: 'NoneType' object has no attribute 'feature'"
     ]
    },
    {
     "data": {
      "image/png": "[encoded data removed]",
      "text/plain": [
       "<Figure size 640x480 with 1 Axes>"
      ]
     },
     "metadata": {},
     "output_type": "display_data"
    }
   ],
   "source": [
    "importances_dict = ebm_global.data()\n",
    "try:\n",
    "    importances_dict.pop('type')\n",
    "except:\n",
    "    pass\n",
    "\n",
    "feature_importance_df = pd.DataFrame(importances_dict)\n",
    "feature_importance_df.rename(columns={\"names\": \"feature\", \"scores\": \"importance score\"}, inplace=True)\n",
    "\n",
    "#feature_importance_df.sort_values(by='importance score', ascending=False, axis=0, inplace=True)\n",
    "\n",
    "with open(model_dir+f\"feature_importance_df_122.pkl\", \"wb\") as f:\n",
    "    pickle.dump(feature_importance_df, f)\n",
    "\n",
    "# get feature imprtances from global explan object\n",
    "#feature_importance_df = save_feature_importance(ebm_global=ebm_global, save=True)\n",
    "\n",
    "importance_bar_chart(feature_importance_df[0:21], model_dir, save=True, id=\"122\")"
   ]
  },
  {
   "cell_type": "code",
   "execution_count": 14,
   "id": "0a724c0c",
   "metadata": {},
   "outputs": [
    {
     "data": {
      "text/plain": [
       "0.5247334540671328"
      ]
     },
     "execution_count": 14,
     "metadata": {},
     "output_type": "execute_result"
    }
   ],
   "source": [
    "feature_importance_df[\"importance score\"].values.sum()"
   ]
  },
  {
   "cell_type": "markdown",
   "id": "adcfa927-21ac-445b-b0fb-3173df85f9c4",
   "metadata": {
    "id": "adcfa927-21ac-445b-b0fb-3173df85f9c4"
   },
   "source": [
    "### Selected features accroding to Freyberger et al (2019) and previous student"
   ]
  },
  {
   "cell_type": "code",
   "execution_count": 8,
   "id": "0ab596ce-f080-4225-8d5f-7f44d9dce200",
   "metadata": {
    "executionInfo": {
     "elapsed": 266,
     "status": "ok",
     "timestamp": 1656667432382,
     "user": {
      "displayName": "Micha Ianniello",
      "userId": "13712894490193878768"
     },
     "user_tz": -120
    },
    "id": "0ab596ce-f080-4225-8d5f-7f44d9dce200"
   },
   "outputs": [],
   "source": [
    "## best features used by freyberger et al:\n",
    "features_freyberger = ['d_shrout', 'd_so', 'investment', 'lme', 'lturnover', 'pm_adj', \n",
    "                       'cum_return_1_0', 'cum_return_12_2', 'cum_return_12_7', 'rel_to_high_price', \n",
    "                       'roc','suv', 'total_vol','TARGET']\n",
    "\n",
    "## best features found by random forrest reg\n",
    "features_rf = ['d_shrout', 'roe', 'oa', 'free_cf', 'nop', 'dpi2a', 'rna', 'ato', 'd_dgm_dsales', 'roc', 'ipm', 'spread_mean', 'dto', 'suv', 'TARGET']\n",
    "\n",
    "features_ae = ['e2p', 'beme', 'cum_return_12_2', 'cum_return_12_7', 'mm_sin', 'mm_cos', 'yy', 'dpi2a', 'ret', 'total_vol', 'noa', 'std_volume', 'cto', 'TARGET']\n",
    "\n",
    "# combines features from different feature selection methods\n",
    "features_combined = ['ato', 'yy', 'spread_mean', 'cum_return_12_7', 'ret',\n",
    "                     'd_so', 'd_dgm_dsales', 'lturnover', 'roe', 'mm_sin',\n",
    "                     'ipm', 'dpi2a', 'beme', 'nop', 'lme', 'suv', 'dto', 'noa',\n",
    "                     'd_shrout', 'total_vol', 'free_cf', 'cum_return_1_0', 'mm_cos',\n",
    "                     'roc', 'e2p', 'oa', 'cto', 'rna', 'pm_adj', 'std_volume',\n",
    "                     'rel_to_high_price', 'cum_return_12_2', 'investment', 'TARGET']\n",
    "\n",
    "features_random = ['d_shrout', 'lme', 'lme_adj', 'lturnover', 'rel_to_high_price',\n",
    "       'ret_max', 'spread_mean', 'std_turn', 'std_volume', 'suv', 'total_vol',\n",
    "       'ret', 'yy', 'mm_cos', 'mm_sin', 'stock', 'TARGET']"
   ]
  },
  {
   "cell_type": "markdown",
   "id": "KG7Kt-FNvpHl",
   "metadata": {
    "id": "KG7Kt-FNvpHl"
   },
   "source": [
    "## conclusion:\n",
    "\n",
    "Using the union of features of the three methods did not improve but slitely decrease accuracy.\n",
    "=> More features are not necessarily better.\n",
    "=> More tuning does not help either \n",
    "\n",
    "**Two more ideas**\n",
    "\n",
    "1) visualize results in an aggregated way: mean returns over all stocks per month e.g.\n",
    "\n",
    "2) use only a few features, i.e. the top 3 of the above methods + returns (maximum)\n",
    "\n",
    "A thought: standardize per stock not globally - would this change model performanee?"
   ]
  }
 ],
 "metadata": {
  "colab": {
   "collapsed_sections": [
    "bfda6998-3dfe-48f6-ad47-b09aacc2feab",
    "c43c05fc-4ef5-4262-a5a9-1ceb96fe2568",
    "53124539-1002-4340-ac1d-37c9c5c8d7cc",
    "00cc1ace-632a-4f89-aa3d-bf1d67c8033f",
    "DOP-scgUpPHv",
    "6947d869-f264-401b-810c-c1ec61d00e6f",
    "87aedcd1-1560-4c30-9453-ed25c6380b27",
    "adcfa927-21ac-445b-b0fb-3173df85f9c4",
    "650194b7-0dfa-45d2-8145-711dfeed0c06",
    "3906832a-5e54-4889-af0e-e6ce3a73bcfb",
    "6316c7c1-5270-4f2a-8c5e-4d1bd636d2cb",
    "70e41696-220e-410e-a558-5b1a5efbc369"
   ],
   "name": "2-EBM.ipynb",
   "provenance": []
  },
  "gpuClass": "standard",
  "kernelspec": {
   "display_name": "Python 3.8.13 ('ml-seminar')",
   "language": "python",
   "name": "python3"
  },
  "language_info": {
   "codemirror_mode": {
    "name": "ipython",
    "version": 3
   },
   "file_extension": ".py",
   "mimetype": "text/x-python",
   "name": "python",
   "nbconvert_exporter": "python",
   "pygments_lexer": "ipython3",
   "version": "3.8.13"
  },
  "vscode": {
   "interpreter": {
    "hash": "101ac7f09dba69cde75534be8081c80174d03be9832ab662aa46cf8ab6d34c8d"
   }
  },
  "widgets": {
   "application/vnd.jupyter.widget-state+json": {
    "0744f9ce664e49c183d2708a1cc9916a": {
     "model_module": "@jupyter-widgets/controls",
     "model_module_version": "1.5.0",
     "model_name": "ProgressStyleModel",
     "state": {
      "_model_module": "@jupyter-widgets/controls",
      "_model_module_version": "1.5.0",
      "_model_name": "ProgressStyleModel",
      "_view_count": null,
      "_view_module": "@jupyter-widgets/base",
      "_view_module_version": "1.2.0",
      "_view_name": "StyleView",
      "bar_color": null,
      "description_width": ""
     }
    },
    "086c119e987a46fbbd3c7db012f50dfb": {
     "model_module": "@jupyter-widgets/controls",
     "model_module_version": "1.5.0",
     "model_name": "DescriptionStyleModel",
     "state": {
      "_model_module": "@jupyter-widgets/controls",
      "_model_module_version": "1.5.0",
      "_model_name": "DescriptionStyleModel",
      "_view_count": null,
      "_view_module": "@jupyter-widgets/base",
      "_view_module_version": "1.2.0",
      "_view_name": "StyleView",
      "description_width": ""
     }
    },
    "0eb84763937c4013801d536c22520d63": {
     "model_module": "@jupyter-widgets/controls",
     "model_module_version": "1.5.0",
     "model_name": "LabelModel",
     "state": {
      "_dom_classes": [],
      "_model_module": "@jupyter-widgets/controls",
      "_model_module_version": "1.5.0",
      "_model_name": "LabelModel",
      "_view_count": null,
      "_view_module": "@jupyter-widgets/controls",
      "_view_module_version": "1.5.0",
      "_view_name": "LabelView",
      "description": "",
      "description_tooltip": null,
      "layout": "IPY_MODEL_a0163cbca9d042e6ad3c268f0849f805",
      "placeholder": "​",
      "style": "IPY_MODEL_1138717d01804531b2e594ef7c6e2440",
      "value": "0.010 MB of 0.010 MB uploaded (0.000 MB deduped)\r"
     }
    },
    "0fa57d8e4c7042c9bc2f89bf07308793": {
     "model_module": "@jupyter-widgets/controls",
     "model_module_version": "1.5.0",
     "model_name": "ProgressStyleModel",
     "state": {
      "_model_module": "@jupyter-widgets/controls",
      "_model_module_version": "1.5.0",
      "_model_name": "ProgressStyleModel",
      "_view_count": null,
      "_view_module": "@jupyter-widgets/base",
      "_view_module_version": "1.2.0",
      "_view_name": "StyleView",
      "bar_color": null,
      "description_width": ""
     }
    },
    "0ffbdd8f828b4111a5aa5b6bd5618f1e": {
     "model_module": "@jupyter-widgets/controls",
     "model_module_version": "1.5.0",
     "model_name": "FloatProgressModel",
     "state": {
      "_dom_classes": [],
      "_model_module": "@jupyter-widgets/controls",
      "_model_module_version": "1.5.0",
      "_model_name": "FloatProgressModel",
      "_view_count": null,
      "_view_module": "@jupyter-widgets/controls",
      "_view_module_version": "1.5.0",
      "_view_name": "ProgressView",
      "bar_style": "",
      "description": "",
      "description_tooltip": null,
      "layout": "IPY_MODEL_2687648435c04721a10b2264b79238ed",
      "max": 1,
      "min": 0,
      "orientation": "horizontal",
      "style": "IPY_MODEL_1f77efffbce644ab905358fc79220b36",
      "value": 1
     }
    },
    "1138717d01804531b2e594ef7c6e2440": {
     "model_module": "@jupyter-widgets/controls",
     "model_module_version": "1.5.0",
     "model_name": "DescriptionStyleModel",
     "state": {
      "_model_module": "@jupyter-widgets/controls",
      "_model_module_version": "1.5.0",
      "_model_name": "DescriptionStyleModel",
      "_view_count": null,
      "_view_module": "@jupyter-widgets/base",
      "_view_module_version": "1.2.0",
      "_view_name": "StyleView",
      "description_width": ""
     }
    },
    "12a0cc8d47f34f6fb42984319d8fc87c": {
     "model_module": "@jupyter-widgets/controls",
     "model_module_version": "1.5.0",
     "model_name": "LabelModel",
     "state": {
      "_dom_classes": [],
      "_model_module": "@jupyter-widgets/controls",
      "_model_module_version": "1.5.0",
      "_model_name": "LabelModel",
      "_view_count": null,
      "_view_module": "@jupyter-widgets/controls",
      "_view_module_version": "1.5.0",
      "_view_name": "LabelView",
      "description": "",
      "description_tooltip": null,
      "layout": "IPY_MODEL_ee3086784e3b434daa66b8ae3f4e769c",
      "placeholder": "​",
      "style": "IPY_MODEL_5a22e14491944c49940dc2a9845f0d0b",
      "value": "0.010 MB of 0.010 MB uploaded (0.000 MB deduped)\r"
     }
    },
    "16fa08fc9efd4aefb863a4fac98491aa": {
     "model_module": "@jupyter-widgets/controls",
     "model_module_version": "1.5.0",
     "model_name": "DescriptionStyleModel",
     "state": {
      "_model_module": "@jupyter-widgets/controls",
      "_model_module_version": "1.5.0",
      "_model_name": "DescriptionStyleModel",
      "_view_count": null,
      "_view_module": "@jupyter-widgets/base",
      "_view_module_version": "1.2.0",
      "_view_name": "StyleView",
      "description_width": ""
     }
    },
    "18650cb2214942babc81da9650998890": {
     "model_module": "@jupyter-widgets/controls",
     "model_module_version": "1.5.0",
     "model_name": "ProgressStyleModel",
     "state": {
      "_model_module": "@jupyter-widgets/controls",
      "_model_module_version": "1.5.0",
      "_model_name": "ProgressStyleModel",
      "_view_count": null,
      "_view_module": "@jupyter-widgets/base",
      "_view_module_version": "1.2.0",
      "_view_name": "StyleView",
      "bar_color": null,
      "description_width": ""
     }
    },
    "1a3bd2d57a234ae6897b0f7abddfa076": {
     "model_module": "@jupyter-widgets/base",
     "model_module_version": "1.2.0",
     "model_name": "LayoutModel",
     "state": {
      "_model_module": "@jupyter-widgets/base",
      "_model_module_version": "1.2.0",
      "_model_name": "LayoutModel",
      "_view_count": null,
      "_view_module": "@jupyter-widgets/base",
      "_view_module_version": "1.2.0",
      "_view_name": "LayoutView",
      "align_content": null,
      "align_items": null,
      "align_self": null,
      "border": null,
      "bottom": null,
      "display": null,
      "flex": null,
      "flex_flow": null,
      "grid_area": null,
      "grid_auto_columns": null,
      "grid_auto_flow": null,
      "grid_auto_rows": null,
      "grid_column": null,
      "grid_gap": null,
      "grid_row": null,
      "grid_template_areas": null,
      "grid_template_columns": null,
      "grid_template_rows": null,
      "height": null,
      "justify_content": null,
      "justify_items": null,
      "left": null,
      "margin": null,
      "max_height": null,
      "max_width": null,
      "min_height": null,
      "min_width": null,
      "object_fit": null,
      "object_position": null,
      "order": null,
      "overflow": null,
      "overflow_x": null,
      "overflow_y": null,
      "padding": null,
      "right": null,
      "top": null,
      "visibility": null,
      "width": null
     }
    },
    "1f77efffbce644ab905358fc79220b36": {
     "model_module": "@jupyter-widgets/controls",
     "model_module_version": "1.5.0",
     "model_name": "ProgressStyleModel",
     "state": {
      "_model_module": "@jupyter-widgets/controls",
      "_model_module_version": "1.5.0",
      "_model_name": "ProgressStyleModel",
      "_view_count": null,
      "_view_module": "@jupyter-widgets/base",
      "_view_module_version": "1.2.0",
      "_view_name": "StyleView",
      "bar_color": null,
      "description_width": ""
     }
    },
    "203e4005eb0f4c0cb1c41d6894ac9023": {
     "model_module": "@jupyter-widgets/base",
     "model_module_version": "1.2.0",
     "model_name": "LayoutModel",
     "state": {
      "_model_module": "@jupyter-widgets/base",
      "_model_module_version": "1.2.0",
      "_model_name": "LayoutModel",
      "_view_count": null,
      "_view_module": "@jupyter-widgets/base",
      "_view_module_version": "1.2.0",
      "_view_name": "LayoutView",
      "align_content": null,
      "align_items": null,
      "align_self": null,
      "border": null,
      "bottom": null,
      "display": null,
      "flex": null,
      "flex_flow": null,
      "grid_area": null,
      "grid_auto_columns": null,
      "grid_auto_flow": null,
      "grid_auto_rows": null,
      "grid_column": null,
      "grid_gap": null,
      "grid_row": null,
      "grid_template_areas": null,
      "grid_template_columns": null,
      "grid_template_rows": null,
      "height": null,
      "justify_content": null,
      "justify_items": null,
      "left": null,
      "margin": null,
      "max_height": null,
      "max_width": null,
      "min_height": null,
      "min_width": null,
      "object_fit": null,
      "object_position": null,
      "order": null,
      "overflow": null,
      "overflow_x": null,
      "overflow_y": null,
      "padding": null,
      "right": null,
      "top": null,
      "visibility": null,
      "width": null
     }
    },
    "251e18d448e84bf79325c42e8ddf336c": {
     "model_module": "@jupyter-widgets/base",
     "model_module_version": "1.2.0",
     "model_name": "LayoutModel",
     "state": {
      "_model_module": "@jupyter-widgets/base",
      "_model_module_version": "1.2.0",
      "_model_name": "LayoutModel",
      "_view_count": null,
      "_view_module": "@jupyter-widgets/base",
      "_view_module_version": "1.2.0",
      "_view_name": "LayoutView",
      "align_content": null,
      "align_items": null,
      "align_self": null,
      "border": null,
      "bottom": null,
      "display": null,
      "flex": null,
      "flex_flow": null,
      "grid_area": null,
      "grid_auto_columns": null,
      "grid_auto_flow": null,
      "grid_auto_rows": null,
      "grid_column": null,
      "grid_gap": null,
      "grid_row": null,
      "grid_template_areas": null,
      "grid_template_columns": null,
      "grid_template_rows": null,
      "height": null,
      "justify_content": null,
      "justify_items": null,
      "left": null,
      "margin": null,
      "max_height": null,
      "max_width": null,
      "min_height": null,
      "min_width": null,
      "object_fit": null,
      "object_position": null,
      "order": null,
      "overflow": null,
      "overflow_x": null,
      "overflow_y": null,
      "padding": null,
      "right": null,
      "top": null,
      "visibility": null,
      "width": null
     }
    },
    "2687648435c04721a10b2264b79238ed": {
     "model_module": "@jupyter-widgets/base",
     "model_module_version": "1.2.0",
     "model_name": "LayoutModel",
     "state": {
      "_model_module": "@jupyter-widgets/base",
      "_model_module_version": "1.2.0",
      "_model_name": "LayoutModel",
      "_view_count": null,
      "_view_module": "@jupyter-widgets/base",
      "_view_module_version": "1.2.0",
      "_view_name": "LayoutView",
      "align_content": null,
      "align_items": null,
      "align_self": null,
      "border": null,
      "bottom": null,
      "display": null,
      "flex": null,
      "flex_flow": null,
      "grid_area": null,
      "grid_auto_columns": null,
      "grid_auto_flow": null,
      "grid_auto_rows": null,
      "grid_column": null,
      "grid_gap": null,
      "grid_row": null,
      "grid_template_areas": null,
      "grid_template_columns": null,
      "grid_template_rows": null,
      "height": null,
      "justify_content": null,
      "justify_items": null,
      "left": null,
      "margin": null,
      "max_height": null,
      "max_width": null,
      "min_height": null,
      "min_width": null,
      "object_fit": null,
      "object_position": null,
      "order": null,
      "overflow": null,
      "overflow_x": null,
      "overflow_y": null,
      "padding": null,
      "right": null,
      "top": null,
      "visibility": null,
      "width": null
     }
    },
    "38efd34173e84756a7cea31c29b13aeb": {
     "model_module": "@jupyter-widgets/controls",
     "model_module_version": "1.5.0",
     "model_name": "FloatProgressModel",
     "state": {
      "_dom_classes": [],
      "_model_module": "@jupyter-widgets/controls",
      "_model_module_version": "1.5.0",
      "_model_name": "FloatProgressModel",
      "_view_count": null,
      "_view_module": "@jupyter-widgets/controls",
      "_view_module_version": "1.5.0",
      "_view_name": "ProgressView",
      "bar_style": "",
      "description": "",
      "description_tooltip": null,
      "layout": "IPY_MODEL_a631a021e5c64582be3ed75396653728",
      "max": 1,
      "min": 0,
      "orientation": "horizontal",
      "style": "IPY_MODEL_0744f9ce664e49c183d2708a1cc9916a",
      "value": 1
     }
    },
    "425b30b73f564c64a2f6777549f2b763": {
     "model_module": "@jupyter-widgets/controls",
     "model_module_version": "1.5.0",
     "model_name": "FloatProgressModel",
     "state": {
      "_dom_classes": [],
      "_model_module": "@jupyter-widgets/controls",
      "_model_module_version": "1.5.0",
      "_model_name": "FloatProgressModel",
      "_view_count": null,
      "_view_module": "@jupyter-widgets/controls",
      "_view_module_version": "1.5.0",
      "_view_name": "ProgressView",
      "bar_style": "",
      "description": "",
      "description_tooltip": null,
      "layout": "IPY_MODEL_251e18d448e84bf79325c42e8ddf336c",
      "max": 1,
      "min": 0,
      "orientation": "horizontal",
      "style": "IPY_MODEL_6895d7d2c9fa44258a4e9e289e1deaa8",
      "value": 1
     }
    },
    "439da5bd0b9e4f45b7655a2505f3dc90": {
     "model_module": "@jupyter-widgets/base",
     "model_module_version": "1.2.0",
     "model_name": "LayoutModel",
     "state": {
      "_model_module": "@jupyter-widgets/base",
      "_model_module_version": "1.2.0",
      "_model_name": "LayoutModel",
      "_view_count": null,
      "_view_module": "@jupyter-widgets/base",
      "_view_module_version": "1.2.0",
      "_view_name": "LayoutView",
      "align_content": null,
      "align_items": null,
      "align_self": null,
      "border": null,
      "bottom": null,
      "display": null,
      "flex": null,
      "flex_flow": null,
      "grid_area": null,
      "grid_auto_columns": null,
      "grid_auto_flow": null,
      "grid_auto_rows": null,
      "grid_column": null,
      "grid_gap": null,
      "grid_row": null,
      "grid_template_areas": null,
      "grid_template_columns": null,
      "grid_template_rows": null,
      "height": null,
      "justify_content": null,
      "justify_items": null,
      "left": null,
      "margin": null,
      "max_height": null,
      "max_width": null,
      "min_height": null,
      "min_width": null,
      "object_fit": null,
      "object_position": null,
      "order": null,
      "overflow": null,
      "overflow_x": null,
      "overflow_y": null,
      "padding": null,
      "right": null,
      "top": null,
      "visibility": null,
      "width": null
     }
    },
    "554f8eb070eb4a96bc193c3dcad4ce0f": {
     "model_module": "@jupyter-widgets/base",
     "model_module_version": "1.2.0",
     "model_name": "LayoutModel",
     "state": {
      "_model_module": "@jupyter-widgets/base",
      "_model_module_version": "1.2.0",
      "_model_name": "LayoutModel",
      "_view_count": null,
      "_view_module": "@jupyter-widgets/base",
      "_view_module_version": "1.2.0",
      "_view_name": "LayoutView",
      "align_content": null,
      "align_items": null,
      "align_self": null,
      "border": null,
      "bottom": null,
      "display": null,
      "flex": null,
      "flex_flow": null,
      "grid_area": null,
      "grid_auto_columns": null,
      "grid_auto_flow": null,
      "grid_auto_rows": null,
      "grid_column": null,
      "grid_gap": null,
      "grid_row": null,
      "grid_template_areas": null,
      "grid_template_columns": null,
      "grid_template_rows": null,
      "height": null,
      "justify_content": null,
      "justify_items": null,
      "left": null,
      "margin": null,
      "max_height": null,
      "max_width": null,
      "min_height": null,
      "min_width": null,
      "object_fit": null,
      "object_position": null,
      "order": null,
      "overflow": null,
      "overflow_x": null,
      "overflow_y": null,
      "padding": null,
      "right": null,
      "top": null,
      "visibility": null,
      "width": null
     }
    },
    "5a22e14491944c49940dc2a9845f0d0b": {
     "model_module": "@jupyter-widgets/controls",
     "model_module_version": "1.5.0",
     "model_name": "DescriptionStyleModel",
     "state": {
      "_model_module": "@jupyter-widgets/controls",
      "_model_module_version": "1.5.0",
      "_model_name": "DescriptionStyleModel",
      "_view_count": null,
      "_view_module": "@jupyter-widgets/base",
      "_view_module_version": "1.2.0",
      "_view_name": "StyleView",
      "description_width": ""
     }
    },
    "670ba83a13824b1390bc3758e325e089": {
     "model_module": "@jupyter-widgets/controls",
     "model_module_version": "1.5.0",
     "model_name": "FloatProgressModel",
     "state": {
      "_dom_classes": [],
      "_model_module": "@jupyter-widgets/controls",
      "_model_module_version": "1.5.0",
      "_model_name": "FloatProgressModel",
      "_view_count": null,
      "_view_module": "@jupyter-widgets/controls",
      "_view_module_version": "1.5.0",
      "_view_name": "ProgressView",
      "bar_style": "",
      "description": "",
      "description_tooltip": null,
      "layout": "IPY_MODEL_9630315efbea403eb6840751b40043ed",
      "max": 1,
      "min": 0,
      "orientation": "horizontal",
      "style": "IPY_MODEL_0fa57d8e4c7042c9bc2f89bf07308793",
      "value": 1
     }
    },
    "6895d7d2c9fa44258a4e9e289e1deaa8": {
     "model_module": "@jupyter-widgets/controls",
     "model_module_version": "1.5.0",
     "model_name": "ProgressStyleModel",
     "state": {
      "_model_module": "@jupyter-widgets/controls",
      "_model_module_version": "1.5.0",
      "_model_name": "ProgressStyleModel",
      "_view_count": null,
      "_view_module": "@jupyter-widgets/base",
      "_view_module_version": "1.2.0",
      "_view_name": "StyleView",
      "bar_color": null,
      "description_width": ""
     }
    },
    "703da1f8122948809ff0c61d4e19326e": {
     "model_module": "@jupyter-widgets/controls",
     "model_module_version": "1.5.0",
     "model_name": "VBoxModel",
     "state": {
      "_dom_classes": [],
      "_model_module": "@jupyter-widgets/controls",
      "_model_module_version": "1.5.0",
      "_model_name": "VBoxModel",
      "_view_count": null,
      "_view_module": "@jupyter-widgets/controls",
      "_view_module_version": "1.5.0",
      "_view_name": "VBoxView",
      "box_style": "",
      "children": [
       "IPY_MODEL_c602a5bb34ea47289df10d5dcf4ab135",
       "IPY_MODEL_0ffbdd8f828b4111a5aa5b6bd5618f1e"
      ],
      "layout": "IPY_MODEL_d4e8bccf39304e47b8770ae86ff7784d"
     }
    },
    "7f56791935684275b4a90c16b6cc0f81": {
     "model_module": "@jupyter-widgets/base",
     "model_module_version": "1.2.0",
     "model_name": "LayoutModel",
     "state": {
      "_model_module": "@jupyter-widgets/base",
      "_model_module_version": "1.2.0",
      "_model_name": "LayoutModel",
      "_view_count": null,
      "_view_module": "@jupyter-widgets/base",
      "_view_module_version": "1.2.0",
      "_view_name": "LayoutView",
      "align_content": null,
      "align_items": null,
      "align_self": null,
      "border": null,
      "bottom": null,
      "display": null,
      "flex": null,
      "flex_flow": null,
      "grid_area": null,
      "grid_auto_columns": null,
      "grid_auto_flow": null,
      "grid_auto_rows": null,
      "grid_column": null,
      "grid_gap": null,
      "grid_row": null,
      "grid_template_areas": null,
      "grid_template_columns": null,
      "grid_template_rows": null,
      "height": null,
      "justify_content": null,
      "justify_items": null,
      "left": null,
      "margin": null,
      "max_height": null,
      "max_width": null,
      "min_height": null,
      "min_width": null,
      "object_fit": null,
      "object_position": null,
      "order": null,
      "overflow": null,
      "overflow_x": null,
      "overflow_y": null,
      "padding": null,
      "right": null,
      "top": null,
      "visibility": null,
      "width": null
     }
    },
    "9630315efbea403eb6840751b40043ed": {
     "model_module": "@jupyter-widgets/base",
     "model_module_version": "1.2.0",
     "model_name": "LayoutModel",
     "state": {
      "_model_module": "@jupyter-widgets/base",
      "_model_module_version": "1.2.0",
      "_model_name": "LayoutModel",
      "_view_count": null,
      "_view_module": "@jupyter-widgets/base",
      "_view_module_version": "1.2.0",
      "_view_name": "LayoutView",
      "align_content": null,
      "align_items": null,
      "align_self": null,
      "border": null,
      "bottom": null,
      "display": null,
      "flex": null,
      "flex_flow": null,
      "grid_area": null,
      "grid_auto_columns": null,
      "grid_auto_flow": null,
      "grid_auto_rows": null,
      "grid_column": null,
      "grid_gap": null,
      "grid_row": null,
      "grid_template_areas": null,
      "grid_template_columns": null,
      "grid_template_rows": null,
      "height": null,
      "justify_content": null,
      "justify_items": null,
      "left": null,
      "margin": null,
      "max_height": null,
      "max_width": null,
      "min_height": null,
      "min_width": null,
      "object_fit": null,
      "object_position": null,
      "order": null,
      "overflow": null,
      "overflow_x": null,
      "overflow_y": null,
      "padding": null,
      "right": null,
      "top": null,
      "visibility": null,
      "width": null
     }
    },
    "a0163cbca9d042e6ad3c268f0849f805": {
     "model_module": "@jupyter-widgets/base",
     "model_module_version": "1.2.0",
     "model_name": "LayoutModel",
     "state": {
      "_model_module": "@jupyter-widgets/base",
      "_model_module_version": "1.2.0",
      "_model_name": "LayoutModel",
      "_view_count": null,
      "_view_module": "@jupyter-widgets/base",
      "_view_module_version": "1.2.0",
      "_view_name": "LayoutView",
      "align_content": null,
      "align_items": null,
      "align_self": null,
      "border": null,
      "bottom": null,
      "display": null,
      "flex": null,
      "flex_flow": null,
      "grid_area": null,
      "grid_auto_columns": null,
      "grid_auto_flow": null,
      "grid_auto_rows": null,
      "grid_column": null,
      "grid_gap": null,
      "grid_row": null,
      "grid_template_areas": null,
      "grid_template_columns": null,
      "grid_template_rows": null,
      "height": null,
      "justify_content": null,
      "justify_items": null,
      "left": null,
      "margin": null,
      "max_height": null,
      "max_width": null,
      "min_height": null,
      "min_width": null,
      "object_fit": null,
      "object_position": null,
      "order": null,
      "overflow": null,
      "overflow_x": null,
      "overflow_y": null,
      "padding": null,
      "right": null,
      "top": null,
      "visibility": null,
      "width": null
     }
    },
    "a631a021e5c64582be3ed75396653728": {
     "model_module": "@jupyter-widgets/base",
     "model_module_version": "1.2.0",
     "model_name": "LayoutModel",
     "state": {
      "_model_module": "@jupyter-widgets/base",
      "_model_module_version": "1.2.0",
      "_model_name": "LayoutModel",
      "_view_count": null,
      "_view_module": "@jupyter-widgets/base",
      "_view_module_version": "1.2.0",
      "_view_name": "LayoutView",
      "align_content": null,
      "align_items": null,
      "align_self": null,
      "border": null,
      "bottom": null,
      "display": null,
      "flex": null,
      "flex_flow": null,
      "grid_area": null,
      "grid_auto_columns": null,
      "grid_auto_flow": null,
      "grid_auto_rows": null,
      "grid_column": null,
      "grid_gap": null,
      "grid_row": null,
      "grid_template_areas": null,
      "grid_template_columns": null,
      "grid_template_rows": null,
      "height": null,
      "justify_content": null,
      "justify_items": null,
      "left": null,
      "margin": null,
      "max_height": null,
      "max_width": null,
      "min_height": null,
      "min_width": null,
      "object_fit": null,
      "object_position": null,
      "order": null,
      "overflow": null,
      "overflow_x": null,
      "overflow_y": null,
      "padding": null,
      "right": null,
      "top": null,
      "visibility": null,
      "width": null
     }
    },
    "a835a67380dc492eb5b31d2c4c9bd6b9": {
     "model_module": "@jupyter-widgets/controls",
     "model_module_version": "1.5.0",
     "model_name": "VBoxModel",
     "state": {
      "_dom_classes": [],
      "_model_module": "@jupyter-widgets/controls",
      "_model_module_version": "1.5.0",
      "_model_name": "VBoxModel",
      "_view_count": null,
      "_view_module": "@jupyter-widgets/controls",
      "_view_module_version": "1.5.0",
      "_view_name": "VBoxView",
      "box_style": "",
      "children": [
       "IPY_MODEL_d7445d6b764d4e9a9c85fd0082b4168d",
       "IPY_MODEL_a83866a9c1c54c0bb84f70fc48051a07"
      ],
      "layout": "IPY_MODEL_c21ed167418649a39b8986847aa4509c"
     }
    },
    "a83866a9c1c54c0bb84f70fc48051a07": {
     "model_module": "@jupyter-widgets/controls",
     "model_module_version": "1.5.0",
     "model_name": "FloatProgressModel",
     "state": {
      "_dom_classes": [],
      "_model_module": "@jupyter-widgets/controls",
      "_model_module_version": "1.5.0",
      "_model_name": "FloatProgressModel",
      "_view_count": null,
      "_view_module": "@jupyter-widgets/controls",
      "_view_module_version": "1.5.0",
      "_view_name": "ProgressView",
      "bar_style": "",
      "description": "",
      "description_tooltip": null,
      "layout": "IPY_MODEL_439da5bd0b9e4f45b7655a2505f3dc90",
      "max": 1,
      "min": 0,
      "orientation": "horizontal",
      "style": "IPY_MODEL_18650cb2214942babc81da9650998890",
      "value": 1
     }
    },
    "b4440a2be1e142bc9e9ba82fb4a18e8e": {
     "model_module": "@jupyter-widgets/controls",
     "model_module_version": "1.5.0",
     "model_name": "VBoxModel",
     "state": {
      "_dom_classes": [],
      "_model_module": "@jupyter-widgets/controls",
      "_model_module_version": "1.5.0",
      "_model_name": "VBoxModel",
      "_view_count": null,
      "_view_module": "@jupyter-widgets/controls",
      "_view_module_version": "1.5.0",
      "_view_name": "VBoxView",
      "box_style": "",
      "children": [
       "IPY_MODEL_dd2d647f05a34355bed335ef7a026f14",
       "IPY_MODEL_425b30b73f564c64a2f6777549f2b763"
      ],
      "layout": "IPY_MODEL_554f8eb070eb4a96bc193c3dcad4ce0f"
     }
    },
    "c21ed167418649a39b8986847aa4509c": {
     "model_module": "@jupyter-widgets/base",
     "model_module_version": "1.2.0",
     "model_name": "LayoutModel",
     "state": {
      "_model_module": "@jupyter-widgets/base",
      "_model_module_version": "1.2.0",
      "_model_name": "LayoutModel",
      "_view_count": null,
      "_view_module": "@jupyter-widgets/base",
      "_view_module_version": "1.2.0",
      "_view_name": "LayoutView",
      "align_content": null,
      "align_items": null,
      "align_self": null,
      "border": null,
      "bottom": null,
      "display": null,
      "flex": null,
      "flex_flow": null,
      "grid_area": null,
      "grid_auto_columns": null,
      "grid_auto_flow": null,
      "grid_auto_rows": null,
      "grid_column": null,
      "grid_gap": null,
      "grid_row": null,
      "grid_template_areas": null,
      "grid_template_columns": null,
      "grid_template_rows": null,
      "height": null,
      "justify_content": null,
      "justify_items": null,
      "left": null,
      "margin": null,
      "max_height": null,
      "max_width": null,
      "min_height": null,
      "min_width": null,
      "object_fit": null,
      "object_position": null,
      "order": null,
      "overflow": null,
      "overflow_x": null,
      "overflow_y": null,
      "padding": null,
      "right": null,
      "top": null,
      "visibility": null,
      "width": null
     }
    },
    "c2898615576247f498f1e24532a94b9d": {
     "model_module": "@jupyter-widgets/base",
     "model_module_version": "1.2.0",
     "model_name": "LayoutModel",
     "state": {
      "_model_module": "@jupyter-widgets/base",
      "_model_module_version": "1.2.0",
      "_model_name": "LayoutModel",
      "_view_count": null,
      "_view_module": "@jupyter-widgets/base",
      "_view_module_version": "1.2.0",
      "_view_name": "LayoutView",
      "align_content": null,
      "align_items": null,
      "align_self": null,
      "border": null,
      "bottom": null,
      "display": null,
      "flex": null,
      "flex_flow": null,
      "grid_area": null,
      "grid_auto_columns": null,
      "grid_auto_flow": null,
      "grid_auto_rows": null,
      "grid_column": null,
      "grid_gap": null,
      "grid_row": null,
      "grid_template_areas": null,
      "grid_template_columns": null,
      "grid_template_rows": null,
      "height": null,
      "justify_content": null,
      "justify_items": null,
      "left": null,
      "margin": null,
      "max_height": null,
      "max_width": null,
      "min_height": null,
      "min_width": null,
      "object_fit": null,
      "object_position": null,
      "order": null,
      "overflow": null,
      "overflow_x": null,
      "overflow_y": null,
      "padding": null,
      "right": null,
      "top": null,
      "visibility": null,
      "width": null
     }
    },
    "c602a5bb34ea47289df10d5dcf4ab135": {
     "model_module": "@jupyter-widgets/controls",
     "model_module_version": "1.5.0",
     "model_name": "LabelModel",
     "state": {
      "_dom_classes": [],
      "_model_module": "@jupyter-widgets/controls",
      "_model_module_version": "1.5.0",
      "_model_name": "LabelModel",
      "_view_count": null,
      "_view_module": "@jupyter-widgets/controls",
      "_view_module_version": "1.5.0",
      "_view_name": "LabelView",
      "description": "",
      "description_tooltip": null,
      "layout": "IPY_MODEL_da60682d0cd14a9993da61469630117d",
      "placeholder": "​",
      "style": "IPY_MODEL_f9442fd14cac4e8fab04dd4f061a0543",
      "value": "0.009 MB of 0.009 MB uploaded (0.000 MB deduped)\r"
     }
    },
    "d4e8bccf39304e47b8770ae86ff7784d": {
     "model_module": "@jupyter-widgets/base",
     "model_module_version": "1.2.0",
     "model_name": "LayoutModel",
     "state": {
      "_model_module": "@jupyter-widgets/base",
      "_model_module_version": "1.2.0",
      "_model_name": "LayoutModel",
      "_view_count": null,
      "_view_module": "@jupyter-widgets/base",
      "_view_module_version": "1.2.0",
      "_view_name": "LayoutView",
      "align_content": null,
      "align_items": null,
      "align_self": null,
      "border": null,
      "bottom": null,
      "display": null,
      "flex": null,
      "flex_flow": null,
      "grid_area": null,
      "grid_auto_columns": null,
      "grid_auto_flow": null,
      "grid_auto_rows": null,
      "grid_column": null,
      "grid_gap": null,
      "grid_row": null,
      "grid_template_areas": null,
      "grid_template_columns": null,
      "grid_template_rows": null,
      "height": null,
      "justify_content": null,
      "justify_items": null,
      "left": null,
      "margin": null,
      "max_height": null,
      "max_width": null,
      "min_height": null,
      "min_width": null,
      "object_fit": null,
      "object_position": null,
      "order": null,
      "overflow": null,
      "overflow_x": null,
      "overflow_y": null,
      "padding": null,
      "right": null,
      "top": null,
      "visibility": null,
      "width": null
     }
    },
    "d7445d6b764d4e9a9c85fd0082b4168d": {
     "model_module": "@jupyter-widgets/controls",
     "model_module_version": "1.5.0",
     "model_name": "LabelModel",
     "state": {
      "_dom_classes": [],
      "_model_module": "@jupyter-widgets/controls",
      "_model_module_version": "1.5.0",
      "_model_name": "LabelModel",
      "_view_count": null,
      "_view_module": "@jupyter-widgets/controls",
      "_view_module_version": "1.5.0",
      "_view_name": "LabelView",
      "description": "",
      "description_tooltip": null,
      "layout": "IPY_MODEL_1a3bd2d57a234ae6897b0f7abddfa076",
      "placeholder": "​",
      "style": "IPY_MODEL_16fa08fc9efd4aefb863a4fac98491aa",
      "value": "0.010 MB of 0.010 MB uploaded (0.000 MB deduped)\r"
     }
    },
    "da60682d0cd14a9993da61469630117d": {
     "model_module": "@jupyter-widgets/base",
     "model_module_version": "1.2.0",
     "model_name": "LayoutModel",
     "state": {
      "_model_module": "@jupyter-widgets/base",
      "_model_module_version": "1.2.0",
      "_model_name": "LayoutModel",
      "_view_count": null,
      "_view_module": "@jupyter-widgets/base",
      "_view_module_version": "1.2.0",
      "_view_name": "LayoutView",
      "align_content": null,
      "align_items": null,
      "align_self": null,
      "border": null,
      "bottom": null,
      "display": null,
      "flex": null,
      "flex_flow": null,
      "grid_area": null,
      "grid_auto_columns": null,
      "grid_auto_flow": null,
      "grid_auto_rows": null,
      "grid_column": null,
      "grid_gap": null,
      "grid_row": null,
      "grid_template_areas": null,
      "grid_template_columns": null,
      "grid_template_rows": null,
      "height": null,
      "justify_content": null,
      "justify_items": null,
      "left": null,
      "margin": null,
      "max_height": null,
      "max_width": null,
      "min_height": null,
      "min_width": null,
      "object_fit": null,
      "object_position": null,
      "order": null,
      "overflow": null,
      "overflow_x": null,
      "overflow_y": null,
      "padding": null,
      "right": null,
      "top": null,
      "visibility": null,
      "width": null
     }
    },
    "dd2d647f05a34355bed335ef7a026f14": {
     "model_module": "@jupyter-widgets/controls",
     "model_module_version": "1.5.0",
     "model_name": "LabelModel",
     "state": {
      "_dom_classes": [],
      "_model_module": "@jupyter-widgets/controls",
      "_model_module_version": "1.5.0",
      "_model_name": "LabelModel",
      "_view_count": null,
      "_view_module": "@jupyter-widgets/controls",
      "_view_module_version": "1.5.0",
      "_view_name": "LabelView",
      "description": "",
      "description_tooltip": null,
      "layout": "IPY_MODEL_c2898615576247f498f1e24532a94b9d",
      "placeholder": "​",
      "style": "IPY_MODEL_086c119e987a46fbbd3c7db012f50dfb",
      "value": "0.009 MB of 0.009 MB uploaded (0.000 MB deduped)\r"
     }
    },
    "ee3086784e3b434daa66b8ae3f4e769c": {
     "model_module": "@jupyter-widgets/base",
     "model_module_version": "1.2.0",
     "model_name": "LayoutModel",
     "state": {
      "_model_module": "@jupyter-widgets/base",
      "_model_module_version": "1.2.0",
      "_model_name": "LayoutModel",
      "_view_count": null,
      "_view_module": "@jupyter-widgets/base",
      "_view_module_version": "1.2.0",
      "_view_name": "LayoutView",
      "align_content": null,
      "align_items": null,
      "align_self": null,
      "border": null,
      "bottom": null,
      "display": null,
      "flex": null,
      "flex_flow": null,
      "grid_area": null,
      "grid_auto_columns": null,
      "grid_auto_flow": null,
      "grid_auto_rows": null,
      "grid_column": null,
      "grid_gap": null,
      "grid_row": null,
      "grid_template_areas": null,
      "grid_template_columns": null,
      "grid_template_rows": null,
      "height": null,
      "justify_content": null,
      "justify_items": null,
      "left": null,
      "margin": null,
      "max_height": null,
      "max_width": null,
      "min_height": null,
      "min_width": null,
      "object_fit": null,
      "object_position": null,
      "order": null,
      "overflow": null,
      "overflow_x": null,
      "overflow_y": null,
      "padding": null,
      "right": null,
      "top": null,
      "visibility": null,
      "width": null
     }
    },
    "f10d99b45f094b9fa4506c91ae795020": {
     "model_module": "@jupyter-widgets/controls",
     "model_module_version": "1.5.0",
     "model_name": "VBoxModel",
     "state": {
      "_dom_classes": [],
      "_model_module": "@jupyter-widgets/controls",
      "_model_module_version": "1.5.0",
      "_model_name": "VBoxModel",
      "_view_count": null,
      "_view_module": "@jupyter-widgets/controls",
      "_view_module_version": "1.5.0",
      "_view_name": "VBoxView",
      "box_style": "",
      "children": [
       "IPY_MODEL_0eb84763937c4013801d536c22520d63",
       "IPY_MODEL_38efd34173e84756a7cea31c29b13aeb"
      ],
      "layout": "IPY_MODEL_7f56791935684275b4a90c16b6cc0f81"
     }
    },
    "f2a5974fe70a4ad7a7b818c1e99930bd": {
     "model_module": "@jupyter-widgets/controls",
     "model_module_version": "1.5.0",
     "model_name": "VBoxModel",
     "state": {
      "_dom_classes": [],
      "_model_module": "@jupyter-widgets/controls",
      "_model_module_version": "1.5.0",
      "_model_name": "VBoxModel",
      "_view_count": null,
      "_view_module": "@jupyter-widgets/controls",
      "_view_module_version": "1.5.0",
      "_view_name": "VBoxView",
      "box_style": "",
      "children": [
       "IPY_MODEL_12a0cc8d47f34f6fb42984319d8fc87c",
       "IPY_MODEL_670ba83a13824b1390bc3758e325e089"
      ],
      "layout": "IPY_MODEL_203e4005eb0f4c0cb1c41d6894ac9023"
     }
    },
    "f9442fd14cac4e8fab04dd4f061a0543": {
     "model_module": "@jupyter-widgets/controls",
     "model_module_version": "1.5.0",
     "model_name": "DescriptionStyleModel",
     "state": {
      "_model_module": "@jupyter-widgets/controls",
      "_model_module_version": "1.5.0",
      "_model_name": "DescriptionStyleModel",
      "_view_count": null,
      "_view_module": "@jupyter-widgets/base",
      "_view_module_version": "1.2.0",
      "_view_name": "StyleView",
      "description_width": ""
     }
    }
   }
  }
 },
 "nbformat": 4,
 "nbformat_minor": 5
}
